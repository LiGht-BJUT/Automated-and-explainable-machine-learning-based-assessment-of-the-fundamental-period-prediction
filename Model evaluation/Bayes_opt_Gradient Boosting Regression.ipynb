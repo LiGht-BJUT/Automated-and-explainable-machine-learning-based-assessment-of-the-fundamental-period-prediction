{
 "cells": [
  {
   "cell_type": "code",
   "execution_count": 33,
   "id": "357b095b",
   "metadata": {},
   "outputs": [],
   "source": [
    "import pandas as pd\n",
    "import matplotlib.pyplot as plt\n",
    "import numpy as np\n",
    "import time\n",
    "from sklearn.model_selection import train_test_split\n"
   ]
  },
  {
   "cell_type": "code",
   "execution_count": 34,
   "id": "f4040213",
   "metadata": {},
   "outputs": [
    {
     "data": {
      "text/html": [
       "<div>\n",
       "<style scoped>\n",
       "    .dataframe tbody tr th:only-of-type {\n",
       "        vertical-align: middle;\n",
       "    }\n",
       "\n",
       "    .dataframe tbody tr th {\n",
       "        vertical-align: top;\n",
       "    }\n",
       "\n",
       "    .dataframe thead th {\n",
       "        text-align: right;\n",
       "    }\n",
       "</style>\n",
       "<table border=\"1\" class=\"dataframe\">\n",
       "  <thead>\n",
       "    <tr style=\"text-align: right;\">\n",
       "      <th></th>\n",
       "      <th>Number of Storeys(NS)</th>\n",
       "      <th>Height of Structure(HS)</th>\n",
       "      <th>Number of Spans(HSP)</th>\n",
       "      <th>Length of Spans (LS)</th>\n",
       "      <th>Opening percentage (OP)</th>\n",
       "      <th>Masonry wall Stiffeness Et (MS)</th>\n",
       "      <th>Period (P)</th>\n",
       "    </tr>\n",
       "  </thead>\n",
       "  <tbody>\n",
       "    <tr>\n",
       "      <th>0</th>\n",
       "      <td>1</td>\n",
       "      <td>3</td>\n",
       "      <td>2</td>\n",
       "      <td>3.0</td>\n",
       "      <td>0</td>\n",
       "      <td>2.25</td>\n",
       "      <td>0.092970</td>\n",
       "    </tr>\n",
       "    <tr>\n",
       "      <th>1</th>\n",
       "      <td>1</td>\n",
       "      <td>3</td>\n",
       "      <td>2</td>\n",
       "      <td>3.0</td>\n",
       "      <td>100</td>\n",
       "      <td>2.25</td>\n",
       "      <td>0.159750</td>\n",
       "    </tr>\n",
       "    <tr>\n",
       "      <th>2</th>\n",
       "      <td>1</td>\n",
       "      <td>3</td>\n",
       "      <td>2</td>\n",
       "      <td>4.5</td>\n",
       "      <td>0</td>\n",
       "      <td>2.25</td>\n",
       "      <td>0.094770</td>\n",
       "    </tr>\n",
       "    <tr>\n",
       "      <th>3</th>\n",
       "      <td>1</td>\n",
       "      <td>3</td>\n",
       "      <td>2</td>\n",
       "      <td>4.5</td>\n",
       "      <td>100</td>\n",
       "      <td>2.25</td>\n",
       "      <td>0.156589</td>\n",
       "    </tr>\n",
       "    <tr>\n",
       "      <th>4</th>\n",
       "      <td>1</td>\n",
       "      <td>3</td>\n",
       "      <td>2</td>\n",
       "      <td>6.0</td>\n",
       "      <td>0</td>\n",
       "      <td>2.25</td>\n",
       "      <td>0.106350</td>\n",
       "    </tr>\n",
       "    <tr>\n",
       "      <th>...</th>\n",
       "      <td>...</td>\n",
       "      <td>...</td>\n",
       "      <td>...</td>\n",
       "      <td>...</td>\n",
       "      <td>...</td>\n",
       "      <td>...</td>\n",
       "      <td>...</td>\n",
       "    </tr>\n",
       "    <tr>\n",
       "      <th>4021</th>\n",
       "      <td>22</td>\n",
       "      <td>66</td>\n",
       "      <td>6</td>\n",
       "      <td>6.0</td>\n",
       "      <td>50</td>\n",
       "      <td>25.00</td>\n",
       "      <td>1.628000</td>\n",
       "    </tr>\n",
       "    <tr>\n",
       "      <th>4022</th>\n",
       "      <td>22</td>\n",
       "      <td>66</td>\n",
       "      <td>6</td>\n",
       "      <td>6.0</td>\n",
       "      <td>75</td>\n",
       "      <td>25.00</td>\n",
       "      <td>2.714000</td>\n",
       "    </tr>\n",
       "    <tr>\n",
       "      <th>4023</th>\n",
       "      <td>22</td>\n",
       "      <td>66</td>\n",
       "      <td>6</td>\n",
       "      <td>6.0</td>\n",
       "      <td>100</td>\n",
       "      <td>25.00</td>\n",
       "      <td>2.879000</td>\n",
       "    </tr>\n",
       "    <tr>\n",
       "      <th>4024</th>\n",
       "      <td>22</td>\n",
       "      <td>66</td>\n",
       "      <td>6</td>\n",
       "      <td>7.5</td>\n",
       "      <td>0</td>\n",
       "      <td>25.00</td>\n",
       "      <td>0.602680</td>\n",
       "    </tr>\n",
       "    <tr>\n",
       "      <th>4025</th>\n",
       "      <td>22</td>\n",
       "      <td>66</td>\n",
       "      <td>6</td>\n",
       "      <td>7.5</td>\n",
       "      <td>100</td>\n",
       "      <td>25.00</td>\n",
       "      <td>3.474000</td>\n",
       "    </tr>\n",
       "  </tbody>\n",
       "</table>\n",
       "<p>4026 rows × 7 columns</p>\n",
       "</div>"
      ],
      "text/plain": [
       "      Number of Storeys(NS)  Height of Structure(HS)  Number of Spans(HSP)  \\\n",
       "0                         1                        3                     2   \n",
       "1                         1                        3                     2   \n",
       "2                         1                        3                     2   \n",
       "3                         1                        3                     2   \n",
       "4                         1                        3                     2   \n",
       "...                     ...                      ...                   ...   \n",
       "4021                     22                       66                     6   \n",
       "4022                     22                       66                     6   \n",
       "4023                     22                       66                     6   \n",
       "4024                     22                       66                     6   \n",
       "4025                     22                       66                     6   \n",
       "\n",
       "      Length of Spans (LS)  Opening percentage (OP)  \\\n",
       "0                      3.0                        0   \n",
       "1                      3.0                      100   \n",
       "2                      4.5                        0   \n",
       "3                      4.5                      100   \n",
       "4                      6.0                        0   \n",
       "...                    ...                      ...   \n",
       "4021                   6.0                       50   \n",
       "4022                   6.0                       75   \n",
       "4023                   6.0                      100   \n",
       "4024                   7.5                        0   \n",
       "4025                   7.5                      100   \n",
       "\n",
       "      Masonry wall Stiffeness Et (MS)  Period (P)  \n",
       "0                                2.25    0.092970  \n",
       "1                                2.25    0.159750  \n",
       "2                                2.25    0.094770  \n",
       "3                                2.25    0.156589  \n",
       "4                                2.25    0.106350  \n",
       "...                               ...         ...  \n",
       "4021                            25.00    1.628000  \n",
       "4022                            25.00    2.714000  \n",
       "4023                            25.00    2.879000  \n",
       "4024                            25.00    0.602680  \n",
       "4025                            25.00    3.474000  \n",
       "\n",
       "[4026 rows x 7 columns]"
      ]
     },
     "execution_count": 34,
     "metadata": {},
     "output_type": "execute_result"
    }
   ],
   "source": [
    "df=pd.read_excel(r\"../dataset/data.xlsx\",sheet_name=\"Sheet1\")\n",
    "\n",
    "df"
   ]
  },
  {
   "cell_type": "code",
   "execution_count": 35,
   "id": "e275a747",
   "metadata": {},
   "outputs": [
    {
     "data": {
      "text/plain": [
       "(4026, 7)"
      ]
     },
     "execution_count": 35,
     "metadata": {},
     "output_type": "execute_result"
    }
   ],
   "source": [
    "df.shape"
   ]
  },
  {
   "cell_type": "code",
   "execution_count": 36,
   "id": "fe2e8e65",
   "metadata": {},
   "outputs": [
    {
     "data": {
      "text/html": [
       "<div>\n",
       "<style scoped>\n",
       "    .dataframe tbody tr th:only-of-type {\n",
       "        vertical-align: middle;\n",
       "    }\n",
       "\n",
       "    .dataframe tbody tr th {\n",
       "        vertical-align: top;\n",
       "    }\n",
       "\n",
       "    .dataframe thead th {\n",
       "        text-align: right;\n",
       "    }\n",
       "</style>\n",
       "<table border=\"1\" class=\"dataframe\">\n",
       "  <thead>\n",
       "    <tr style=\"text-align: right;\">\n",
       "      <th></th>\n",
       "      <th>Number of Storeys(NS)</th>\n",
       "      <th>Height of Structure(HS)</th>\n",
       "      <th>Number of Spans(HSP)</th>\n",
       "      <th>Length of Spans (LS)</th>\n",
       "      <th>Opening percentage (OP)</th>\n",
       "      <th>Masonry wall Stiffeness Et (MS)</th>\n",
       "      <th>Period (P)</th>\n",
       "    </tr>\n",
       "  </thead>\n",
       "  <tbody>\n",
       "    <tr>\n",
       "      <th>0</th>\n",
       "      <td>1</td>\n",
       "      <td>3</td>\n",
       "      <td>2</td>\n",
       "      <td>3.0</td>\n",
       "      <td>0</td>\n",
       "      <td>2.25</td>\n",
       "      <td>0.092970</td>\n",
       "    </tr>\n",
       "    <tr>\n",
       "      <th>1</th>\n",
       "      <td>1</td>\n",
       "      <td>3</td>\n",
       "      <td>2</td>\n",
       "      <td>3.0</td>\n",
       "      <td>100</td>\n",
       "      <td>2.25</td>\n",
       "      <td>0.159750</td>\n",
       "    </tr>\n",
       "    <tr>\n",
       "      <th>2</th>\n",
       "      <td>1</td>\n",
       "      <td>3</td>\n",
       "      <td>2</td>\n",
       "      <td>4.5</td>\n",
       "      <td>0</td>\n",
       "      <td>2.25</td>\n",
       "      <td>0.094770</td>\n",
       "    </tr>\n",
       "    <tr>\n",
       "      <th>3</th>\n",
       "      <td>1</td>\n",
       "      <td>3</td>\n",
       "      <td>2</td>\n",
       "      <td>4.5</td>\n",
       "      <td>100</td>\n",
       "      <td>2.25</td>\n",
       "      <td>0.156589</td>\n",
       "    </tr>\n",
       "    <tr>\n",
       "      <th>4</th>\n",
       "      <td>1</td>\n",
       "      <td>3</td>\n",
       "      <td>2</td>\n",
       "      <td>6.0</td>\n",
       "      <td>0</td>\n",
       "      <td>2.25</td>\n",
       "      <td>0.106350</td>\n",
       "    </tr>\n",
       "  </tbody>\n",
       "</table>\n",
       "</div>"
      ],
      "text/plain": [
       "   Number of Storeys(NS)  Height of Structure(HS)  Number of Spans(HSP)  \\\n",
       "0                      1                        3                     2   \n",
       "1                      1                        3                     2   \n",
       "2                      1                        3                     2   \n",
       "3                      1                        3                     2   \n",
       "4                      1                        3                     2   \n",
       "\n",
       "   Length of Spans (LS)  Opening percentage (OP)  \\\n",
       "0                   3.0                        0   \n",
       "1                   3.0                      100   \n",
       "2                   4.5                        0   \n",
       "3                   4.5                      100   \n",
       "4                   6.0                        0   \n",
       "\n",
       "   Masonry wall Stiffeness Et (MS)  Period (P)  \n",
       "0                             2.25    0.092970  \n",
       "1                             2.25    0.159750  \n",
       "2                             2.25    0.094770  \n",
       "3                             2.25    0.156589  \n",
       "4                             2.25    0.106350  "
      ]
     },
     "execution_count": 36,
     "metadata": {},
     "output_type": "execute_result"
    }
   ],
   "source": [
    "df.head()"
   ]
  },
  {
   "cell_type": "code",
   "execution_count": 37,
   "id": "9e9bfd27",
   "metadata": {},
   "outputs": [
    {
     "name": "stdout",
     "output_type": "stream",
     "text": [
      "      Number of Storeys(NS)  Height of Structure(HS)  Number of Spans(HSP)  \\\n",
      "0                       0.0                      0.0                   0.0   \n",
      "1                       0.0                      0.0                   0.0   \n",
      "2                       0.0                      0.0                   0.0   \n",
      "3                       0.0                      0.0                   0.0   \n",
      "4                       0.0                      0.0                   0.0   \n",
      "...                     ...                      ...                   ...   \n",
      "4021                    1.0                      1.0                   1.0   \n",
      "4022                    1.0                      1.0                   1.0   \n",
      "4023                    1.0                      1.0                   1.0   \n",
      "4024                    1.0                      1.0                   1.0   \n",
      "4025                    1.0                      1.0                   1.0   \n",
      "\n",
      "      Length of Spans (LS)  Opening percentage (OP)  \\\n",
      "0                 0.000000                     0.00   \n",
      "1                 0.000000                     1.00   \n",
      "2                 0.333333                     0.00   \n",
      "3                 0.333333                     1.00   \n",
      "4                 0.666667                     0.00   \n",
      "...                    ...                      ...   \n",
      "4021              0.666667                     0.50   \n",
      "4022              0.666667                     0.75   \n",
      "4023              0.666667                     1.00   \n",
      "4024              1.000000                     0.00   \n",
      "4025              1.000000                     1.00   \n",
      "\n",
      "      Masonry wall Stiffeness Et (MS)  Period (P)  \n",
      "0                                 0.0    0.015051  \n",
      "1                                 0.0    0.033991  \n",
      "2                                 0.0    0.015562  \n",
      "3                                 0.0    0.033095  \n",
      "4                                 0.0    0.018846  \n",
      "...                               ...         ...  \n",
      "4021                              1.0    0.450410  \n",
      "4022                              1.0    0.758416  \n",
      "4023                              1.0    0.805213  \n",
      "4024                              1.0    0.159613  \n",
      "4025                              1.0    0.973964  \n",
      "\n",
      "[4026 rows x 7 columns]\n"
     ]
    }
   ],
   "source": [
    "import pandas as pd\n",
    "from sklearn.preprocessing import MinMaxScaler\n",
    "\n",
    "scaler = MinMaxScaler()\n",
    "normalized_data = scaler.fit_transform(df)\n",
    "\n",
    "normalized_df = pd.DataFrame(normalized_data, columns=df.columns)\n",
    "\n",
    "print(normalized_df)"
   ]
  },
  {
   "cell_type": "code",
   "execution_count": 38,
   "id": "9f75398b",
   "metadata": {},
   "outputs": [
    {
     "data": {
      "text/plain": [
       "Index(['Number of Storeys(NS)', 'Height of Structure(HS)',\n",
       "       'Number of Spans(HSP)', 'Length of Spans (LS)',\n",
       "       'Opening percentage (OP)', 'Masonry wall Stiffeness Et (MS)',\n",
       "       'Period (P)'],\n",
       "      dtype='object')"
      ]
     },
     "execution_count": 38,
     "metadata": {},
     "output_type": "execute_result"
    }
   ],
   "source": [
    "normalized_df.keys()"
   ]
  },
  {
   "cell_type": "code",
   "execution_count": 39,
   "id": "f15b32dd",
   "metadata": {},
   "outputs": [],
   "source": [
    "X=normalized_df.drop(\"Period (P)\" ,axis=1)"
   ]
  },
  {
   "cell_type": "code",
   "execution_count": 40,
   "id": "cd30344d",
   "metadata": {},
   "outputs": [],
   "source": [
    "y=normalized_df[\"Period (P)\"]"
   ]
  },
  {
   "cell_type": "code",
   "execution_count": 41,
   "id": "8bddc88f",
   "metadata": {},
   "outputs": [],
   "source": [
    "X_train, X_test, y_train, y_test = train_test_split(X, y, test_size=0.2, random_state=99)\n",
    "\n",
    "X_train, X_val, y_train, y_val = train_test_split(X_train, y_train, test_size=0.25, random_state=99)"
   ]
  },
  {
   "cell_type": "code",
   "execution_count": 42,
   "id": "68b74333",
   "metadata": {},
   "outputs": [],
   "source": [
    "from sklearn.model_selection import KFold,cross_validate\n",
    "from bayes_opt import BayesianOptimization\n",
    "from hyperopt import hp,fmin,tpe,Trials,partial\n",
    "from hyperopt.early_stop import no_progress_loss\n",
    "from sklearn.metrics import mean_squared_error\n",
    "from sklearn.model_selection import train_test_split, KFold\n",
    "import optuna.integration.lightgbm as oplg"
   ]
  },
  {
   "cell_type": "code",
   "execution_count": 43,
   "id": "c6e00073",
   "metadata": {},
   "outputs": [],
   "source": [
    "from sklearn.ensemble import GradientBoostingRegressor\n",
    "from bayes_opt import BayesianOptimization"
   ]
  },
  {
   "cell_type": "code",
   "execution_count": 46,
   "id": "978c2901",
   "metadata": {},
   "outputs": [],
   "source": [
    "def bayesopt_objective(n_estimators,max_depth,min_samples_leaf,learning_rate):\n",
    "    model= GradientBoostingRegressor(n_estimators=int(n_estimators)\n",
    "              ,max_depth=int(max_depth)\n",
    "              ,min_samples_leaf=int(min_samples_leaf)\n",
    "              ,learning_rate=learning_rate\n",
    "              )\n",
    "    cv=KFold(n_splits=10,shuffle=True,random_state=99)\n",
    "    validate_loss=cross_validate(model,X_train,y_train\n",
    "                                   ,cv=cv\n",
    "                                   ,scoring='neg_root_mean_squared_error'\n",
    "                                   ,n_jobs=-1\n",
    "                                   ,error_score='raise')\n",
    "    \n",
    "    return np.mean(abs(validate_loss['test_score']))"
   ]
  },
  {
   "cell_type": "code",
   "execution_count": 47,
   "id": "6c1052d3",
   "metadata": {},
   "outputs": [],
   "source": [
    "def param_bayes_opt(init_points,n_iter):\n",
    "    opt=BayesianOptimization(bayesopt_objective\n",
    "                             ,param_grid_simple\n",
    "                             ,random_state=99)\n",
    "    \n",
    "    \n",
    "    opt.maximize(init_points=init_points \n",
    "                 ,n_iter=n_iter \n",
    "                )\n",
    "    \n",
    "    \n",
    "    params_best=opt.max['params'] \n",
    "    score_best=opt.max['target'] \n",
    "    \n",
    "  \n",
    "    print(\"\\n\",\"best params: \", params_best,\n",
    "          \"\\n\",\"best cvscore: \", score_best)\n",
    "    \n",
    "    return params_best,score_best"
   ]
  },
  {
   "cell_type": "code",
   "execution_count": 48,
   "id": "c9eb8044",
   "metadata": {},
   "outputs": [],
   "source": [
    "def bayes_opt_validation(params_best):\n",
    "    model= GradientBoostingRegressor(n_estimators=int(params_best['n_estimators'])\n",
    "            ,max_depth=int(params_best['max_depth'])\n",
    "            ,min_samples_leaf=int(params_best['min_samples_leaf'])\n",
    "            ,learning_rate=params_best['learning_rate']\n",
    "           )\n",
    "    cv=KFold(n_splits=10,shuffle=True,random_state=99)\n",
    "    validate_loss=cross_validate(model,X_train,y_train\n",
    "                                   ,cv=cv\n",
    "                                   ,scoring='neg_root_mean_squared_error'\n",
    "                                   ,n_jobs=-1\n",
    "                                  )\n",
    "    \n",
    "    return np.mean(abs(validate_loss['test_score']))"
   ]
  },
  {
   "cell_type": "code",
   "execution_count": 49,
   "id": "a4654bb3",
   "metadata": {
    "scrolled": true
   },
   "outputs": [
    {
     "name": "stdout",
     "output_type": "stream",
     "text": [
      "|   iter    |  target   | learni... | max_depth | min_sa... | n_esti... |\n",
      "-------------------------------------------------------------------------\n",
      "| \u001b[0m1        \u001b[0m | \u001b[0m0.004454 \u001b[0m | \u001b[0m0.3365   \u001b[0m | \u001b[0m6.417    \u001b[0m | \u001b[0m16.86    \u001b[0m | \u001b[0m822.0    \u001b[0m |\n",
      "| \u001b[95m2        \u001b[0m | \u001b[95m0.004762 \u001b[0m | \u001b[95m0.4042   \u001b[0m | \u001b[95m6.959    \u001b[0m | \u001b[95m7.357    \u001b[0m | \u001b[95m832.7    \u001b[0m |\n",
      "| \u001b[95m3        \u001b[0m | \u001b[95m0.006953 \u001b[0m | \u001b[95m0.4953   \u001b[0m | \u001b[95m3.048    \u001b[0m | \u001b[95m15.86    \u001b[0m | \u001b[95m1.323e+03\u001b[0m |\n",
      "| \u001b[0m4        \u001b[0m | \u001b[0m0.004016 \u001b[0m | \u001b[0m0.1893   \u001b[0m | \u001b[0m6.459    \u001b[0m | \u001b[0m18.72    \u001b[0m | \u001b[0m1.077e+03\u001b[0m |\n",
      "| \u001b[0m5        \u001b[0m | \u001b[0m0.00532  \u001b[0m | \u001b[0m0.487    \u001b[0m | \u001b[0m6.671    \u001b[0m | \u001b[0m3.685    \u001b[0m | \u001b[0m1.369e+03\u001b[0m |\n",
      "| \u001b[0m6        \u001b[0m | \u001b[0m0.00401  \u001b[0m | \u001b[0m0.1066   \u001b[0m | \u001b[0m6.88     \u001b[0m | \u001b[0m7.261    \u001b[0m | \u001b[0m1.371e+03\u001b[0m |\n",
      "| \u001b[0m7        \u001b[0m | \u001b[0m0.004434 \u001b[0m | \u001b[0m0.4142   \u001b[0m | \u001b[0m4.551    \u001b[0m | \u001b[0m13.61    \u001b[0m | \u001b[0m866.6    \u001b[0m |\n",
      "| \u001b[95m8        \u001b[0m | \u001b[95m0.007507 \u001b[0m | \u001b[95m0.2064   \u001b[0m | \u001b[95m3.678    \u001b[0m | \u001b[95m4.592    \u001b[0m | \u001b[95m948.5    \u001b[0m |\n",
      "| \u001b[95m9        \u001b[0m | \u001b[95m0.007721 \u001b[0m | \u001b[95m0.2389   \u001b[0m | \u001b[95m3.543    \u001b[0m | \u001b[95m6.231    \u001b[0m | \u001b[95m804.6    \u001b[0m |\n",
      "| \u001b[0m10       \u001b[0m | \u001b[0m0.00507  \u001b[0m | \u001b[0m0.4494   \u001b[0m | \u001b[0m6.866    \u001b[0m | \u001b[0m5.016    \u001b[0m | \u001b[0m1.45e+03 \u001b[0m |\n",
      "| \u001b[0m11       \u001b[0m | \u001b[0m0.007149 \u001b[0m | \u001b[0m0.2715   \u001b[0m | \u001b[0m3.292    \u001b[0m | \u001b[0m11.45    \u001b[0m | \u001b[0m1.248e+03\u001b[0m |\n",
      "| \u001b[0m12       \u001b[0m | \u001b[0m0.005766 \u001b[0m | \u001b[0m0.4005   \u001b[0m | \u001b[0m8.844    \u001b[0m | \u001b[0m6.547    \u001b[0m | \u001b[0m1.478e+03\u001b[0m |\n",
      "| \u001b[0m13       \u001b[0m | \u001b[0m0.004403 \u001b[0m | \u001b[0m0.2337   \u001b[0m | \u001b[0m4.849    \u001b[0m | \u001b[0m11.89    \u001b[0m | \u001b[0m1.064e+03\u001b[0m |\n",
      "| \u001b[0m14       \u001b[0m | \u001b[0m0.004175 \u001b[0m | \u001b[0m0.1027   \u001b[0m | \u001b[0m9.408    \u001b[0m | \u001b[0m18.91    \u001b[0m | \u001b[0m1.386e+03\u001b[0m |\n",
      "| \u001b[0m15       \u001b[0m | \u001b[0m0.00429  \u001b[0m | \u001b[0m0.217    \u001b[0m | \u001b[0m8.013    \u001b[0m | \u001b[0m17.32    \u001b[0m | \u001b[0m855.3    \u001b[0m |\n",
      "| \u001b[0m16       \u001b[0m | \u001b[0m0.004196 \u001b[0m | \u001b[0m0.2056   \u001b[0m | \u001b[0m7.491    \u001b[0m | \u001b[0m19.58    \u001b[0m | \u001b[0m1.294e+03\u001b[0m |\n",
      "| \u001b[0m17       \u001b[0m | \u001b[0m0.004362 \u001b[0m | \u001b[0m0.3187   \u001b[0m | \u001b[0m4.438    \u001b[0m | \u001b[0m7.275    \u001b[0m | \u001b[0m912.0    \u001b[0m |\n",
      "| \u001b[0m18       \u001b[0m | \u001b[0m0.004272 \u001b[0m | \u001b[0m0.1527   \u001b[0m | \u001b[0m8.03     \u001b[0m | \u001b[0m19.24    \u001b[0m | \u001b[0m811.0    \u001b[0m |\n",
      "| \u001b[0m19       \u001b[0m | \u001b[0m0.007332 \u001b[0m | \u001b[0m0.157    \u001b[0m | \u001b[0m3.342    \u001b[0m | \u001b[0m17.75    \u001b[0m | \u001b[0m1.286e+03\u001b[0m |\n",
      "| \u001b[0m20       \u001b[0m | \u001b[0m0.006861 \u001b[0m | \u001b[0m0.4135   \u001b[0m | \u001b[0m9.428    \u001b[0m | \u001b[0m4.756    \u001b[0m | \u001b[0m1.129e+03\u001b[0m |\n",
      "| \u001b[95m21       \u001b[0m | \u001b[95m0.007927 \u001b[0m | \u001b[95m0.1706   \u001b[0m | \u001b[95m3.493    \u001b[0m | \u001b[95m4.93     \u001b[0m | \u001b[95m806.0    \u001b[0m |\n",
      "| \u001b[0m22       \u001b[0m | \u001b[0m0.0074   \u001b[0m | \u001b[0m0.4719   \u001b[0m | \u001b[0m8.655    \u001b[0m | \u001b[0m2.688    \u001b[0m | \u001b[0m804.1    \u001b[0m |\n",
      "| \u001b[0m23       \u001b[0m | \u001b[0m0.007006 \u001b[0m | \u001b[0m0.3495   \u001b[0m | \u001b[0m3.731    \u001b[0m | \u001b[0m16.59    \u001b[0m | \u001b[0m1.278e+03\u001b[0m |\n",
      "| \u001b[0m24       \u001b[0m | \u001b[0m0.006123 \u001b[0m | \u001b[0m0.007698 \u001b[0m | \u001b[0m7.286    \u001b[0m | \u001b[0m5.474    \u001b[0m | \u001b[0m957.4    \u001b[0m |\n",
      "| \u001b[0m25       \u001b[0m | \u001b[0m0.004351 \u001b[0m | \u001b[0m0.4479   \u001b[0m | \u001b[0m4.639    \u001b[0m | \u001b[0m10.37    \u001b[0m | \u001b[0m941.6    \u001b[0m |\n",
      "| \u001b[0m26       \u001b[0m | \u001b[0m0.004362 \u001b[0m | \u001b[0m0.2357   \u001b[0m | \u001b[0m6.435    \u001b[0m | \u001b[0m2.274    \u001b[0m | \u001b[0m811.8    \u001b[0m |\n",
      "| \u001b[0m27       \u001b[0m | \u001b[0m0.004467 \u001b[0m | \u001b[0m0.1147   \u001b[0m | \u001b[0m7.141    \u001b[0m | \u001b[0m7.116    \u001b[0m | \u001b[0m805.2    \u001b[0m |\n",
      "| \u001b[0m28       \u001b[0m | \u001b[0m0.004453 \u001b[0m | \u001b[0m0.1649   \u001b[0m | \u001b[0m4.856    \u001b[0m | \u001b[0m3.207    \u001b[0m | \u001b[0m804.1    \u001b[0m |\n",
      "| \u001b[0m29       \u001b[0m | \u001b[0m0.007671 \u001b[0m | \u001b[0m0.2582   \u001b[0m | \u001b[0m3.0      \u001b[0m | \u001b[0m6.113    \u001b[0m | \u001b[0m805.9    \u001b[0m |\n",
      "| \u001b[0m30       \u001b[0m | \u001b[0m0.00454  \u001b[0m | \u001b[0m0.3084   \u001b[0m | \u001b[0m4.165    \u001b[0m | \u001b[0m5.648    \u001b[0m | \u001b[0m807.3    \u001b[0m |\n",
      "| \u001b[95m31       \u001b[0m | \u001b[95m0.008111 \u001b[0m | \u001b[95m0.1173   \u001b[0m | \u001b[95m3.583    \u001b[0m | \u001b[95m6.546    \u001b[0m | \u001b[95m805.5    \u001b[0m |\n",
      "| \u001b[0m32       \u001b[0m | \u001b[0m0.00556  \u001b[0m | \u001b[0m0.0539   \u001b[0m | \u001b[0m4.199    \u001b[0m | \u001b[0m5.335    \u001b[0m | \u001b[0m805.5    \u001b[0m |\n",
      "| \u001b[0m33       \u001b[0m | \u001b[0m0.007568 \u001b[0m | \u001b[0m0.2728   \u001b[0m | \u001b[0m3.35     \u001b[0m | \u001b[0m7.885    \u001b[0m | \u001b[0m805.2    \u001b[0m |\n",
      "| \u001b[0m34       \u001b[0m | \u001b[0m0.007868 \u001b[0m | \u001b[0m0.1617   \u001b[0m | \u001b[0m3.073    \u001b[0m | \u001b[0m7.806    \u001b[0m | \u001b[0m806.4    \u001b[0m |\n",
      "| \u001b[0m35       \u001b[0m | \u001b[0m0.004316 \u001b[0m | \u001b[0m0.4186   \u001b[0m | \u001b[0m4.789    \u001b[0m | \u001b[0m5.323    \u001b[0m | \u001b[0m948.6    \u001b[0m |\n",
      "| \u001b[0m36       \u001b[0m | \u001b[0m0.007526 \u001b[0m | \u001b[0m0.3168   \u001b[0m | \u001b[0m3.159    \u001b[0m | \u001b[0m7.251    \u001b[0m | \u001b[0m804.5    \u001b[0m |\n",
      "| \u001b[0m37       \u001b[0m | \u001b[0m0.004477 \u001b[0m | \u001b[0m0.1863   \u001b[0m | \u001b[0m4.583    \u001b[0m | \u001b[0m7.635    \u001b[0m | \u001b[0m805.0    \u001b[0m |\n",
      "| \u001b[0m38       \u001b[0m | \u001b[0m0.00744  \u001b[0m | \u001b[0m0.3555   \u001b[0m | \u001b[0m3.068    \u001b[0m | \u001b[0m4.269    \u001b[0m | \u001b[0m949.3    \u001b[0m |\n",
      "| \u001b[0m39       \u001b[0m | \u001b[0m0.007421 \u001b[0m | \u001b[0m0.3008   \u001b[0m | \u001b[0m3.603    \u001b[0m | \u001b[0m3.228    \u001b[0m | \u001b[0m948.3    \u001b[0m |\n",
      "| \u001b[0m40       \u001b[0m | \u001b[0m0.007335 \u001b[0m | \u001b[0m0.411    \u001b[0m | \u001b[0m3.592    \u001b[0m | \u001b[0m4.017    \u001b[0m | \u001b[0m806.0    \u001b[0m |\n",
      "| \u001b[0m41       \u001b[0m | \u001b[0m0.007029 \u001b[0m | \u001b[0m0.07632  \u001b[0m | \u001b[0m9.74     \u001b[0m | \u001b[0m3.332    \u001b[0m | \u001b[0m804.9    \u001b[0m |\n",
      "| \u001b[0m42       \u001b[0m | \u001b[0m0.007    \u001b[0m | \u001b[0m0.3555   \u001b[0m | \u001b[0m3.19     \u001b[0m | \u001b[0m16.24    \u001b[0m | \u001b[0m1.285e+03\u001b[0m |\n",
      "| \u001b[0m43       \u001b[0m | \u001b[0m0.006556 \u001b[0m | \u001b[0m0.1034   \u001b[0m | \u001b[0m8.53     \u001b[0m | \u001b[0m2.529    \u001b[0m | \u001b[0m805.6    \u001b[0m |\n",
      "| \u001b[0m44       \u001b[0m | \u001b[0m0.004098 \u001b[0m | \u001b[0m0.2278   \u001b[0m | \u001b[0m5.04     \u001b[0m | \u001b[0m17.0     \u001b[0m | \u001b[0m1.285e+03\u001b[0m |\n",
      "| \u001b[0m45       \u001b[0m | \u001b[0m0.005905 \u001b[0m | \u001b[0m0.1122   \u001b[0m | \u001b[0m8.547    \u001b[0m | \u001b[0m3.896    \u001b[0m | \u001b[0m803.1    \u001b[0m |\n",
      "| \u001b[0m46       \u001b[0m | \u001b[0m0.0072   \u001b[0m | \u001b[0m0.2391   \u001b[0m | \u001b[0m3.389    \u001b[0m | \u001b[0m11.1     \u001b[0m | \u001b[0m1.247e+03\u001b[0m |\n",
      "| \u001b[95m47       \u001b[0m | \u001b[95m0.01351  \u001b[0m | \u001b[95m0.02406  \u001b[0m | \u001b[95m3.125    \u001b[0m | \u001b[95m6.833    \u001b[0m | \u001b[95m805.9    \u001b[0m |\n",
      "| \u001b[0m48       \u001b[0m | \u001b[0m0.003727 \u001b[0m | \u001b[0m0.1662   \u001b[0m | \u001b[0m5.474    \u001b[0m | \u001b[0m10.03    \u001b[0m | \u001b[0m1.472e+03\u001b[0m |\n",
      "| \u001b[0m49       \u001b[0m | \u001b[0m0.008036 \u001b[0m | \u001b[0m0.1094   \u001b[0m | \u001b[0m3.019    \u001b[0m | \u001b[0m4.291    \u001b[0m | \u001b[0m950.1    \u001b[0m |\n",
      "| \u001b[0m50       \u001b[0m | \u001b[0m0.00802  \u001b[0m | \u001b[0m0.1588   \u001b[0m | \u001b[0m9.644    \u001b[0m | \u001b[0m2.695    \u001b[0m | \u001b[0m804.2    \u001b[0m |\n",
      "| \u001b[0m51       \u001b[0m | \u001b[0m0.007351 \u001b[0m | \u001b[0m0.3272   \u001b[0m | \u001b[0m3.136    \u001b[0m | \u001b[0m4.397    \u001b[0m | \u001b[0m949.3    \u001b[0m |\n",
      "| \u001b[0m52       \u001b[0m | \u001b[0m0.004134 \u001b[0m | \u001b[0m0.1123   \u001b[0m | \u001b[0m7.668    \u001b[0m | \u001b[0m12.25    \u001b[0m | \u001b[0m1.408e+03\u001b[0m |\n",
      "| \u001b[0m53       \u001b[0m | \u001b[0m0.004264 \u001b[0m | \u001b[0m0.1576   \u001b[0m | \u001b[0m9.207    \u001b[0m | \u001b[0m19.1     \u001b[0m | \u001b[0m825.8    \u001b[0m |\n",
      "| \u001b[0m54       \u001b[0m | \u001b[0m0.004529 \u001b[0m | \u001b[0m0.09468  \u001b[0m | \u001b[0m9.526    \u001b[0m | \u001b[0m12.89    \u001b[0m | \u001b[0m1.108e+03\u001b[0m |\n",
      "| \u001b[0m55       \u001b[0m | \u001b[0m0.003772 \u001b[0m | \u001b[0m0.1681   \u001b[0m | \u001b[0m5.071    \u001b[0m | \u001b[0m2.088    \u001b[0m | \u001b[0m1.24e+03 \u001b[0m |\n",
      "| \u001b[0m56       \u001b[0m | \u001b[0m0.007161 \u001b[0m | \u001b[0m0.4515   \u001b[0m | \u001b[0m3.137    \u001b[0m | \u001b[0m2.946    \u001b[0m | \u001b[0m949.1    \u001b[0m |\n",
      "| \u001b[0m57       \u001b[0m | \u001b[0m0.0076   \u001b[0m | \u001b[0m0.2305   \u001b[0m | \u001b[0m3.504    \u001b[0m | \u001b[0m7.158    \u001b[0m | \u001b[0m805.4    \u001b[0m |\n",
      "| \u001b[0m58       \u001b[0m | \u001b[0m0.004115 \u001b[0m | \u001b[0m0.2766   \u001b[0m | \u001b[0m5.565    \u001b[0m | \u001b[0m11.02    \u001b[0m | \u001b[0m1.238e+03\u001b[0m |\n",
      "| \u001b[0m59       \u001b[0m | \u001b[0m0.007444 \u001b[0m | \u001b[0m0.2911   \u001b[0m | \u001b[0m3.016    \u001b[0m | \u001b[0m2.775    \u001b[0m | \u001b[0m948.9    \u001b[0m |\n",
      "| \u001b[0m60       \u001b[0m | \u001b[0m0.008748 \u001b[0m | \u001b[0m0.09033  \u001b[0m | \u001b[0m3.62     \u001b[0m | \u001b[0m4.459    \u001b[0m | \u001b[0m806.6    \u001b[0m |\n",
      "| \u001b[0m61       \u001b[0m | \u001b[0m0.008506 \u001b[0m | \u001b[0m0.4132   \u001b[0m | \u001b[0m9.671    \u001b[0m | \u001b[0m2.558    \u001b[0m | \u001b[0m803.5    \u001b[0m |\n",
      "| \u001b[0m62       \u001b[0m | \u001b[0m0.007464 \u001b[0m | \u001b[0m0.4901   \u001b[0m | \u001b[0m3.188    \u001b[0m | \u001b[0m6.645    \u001b[0m | \u001b[0m806.0    \u001b[0m |\n",
      "| \u001b[0m63       \u001b[0m | \u001b[0m0.005648 \u001b[0m | \u001b[0m0.01667  \u001b[0m | \u001b[0m9.904    \u001b[0m | \u001b[0m17.92    \u001b[0m | \u001b[0m1.193e+03\u001b[0m |\n",
      "| \u001b[0m64       \u001b[0m | \u001b[0m0.004527 \u001b[0m | \u001b[0m0.03069  \u001b[0m | \u001b[0m5.311    \u001b[0m | \u001b[0m8.863    \u001b[0m | \u001b[0m1.222e+03\u001b[0m |\n",
      "| \u001b[0m65       \u001b[0m | \u001b[0m0.00751  \u001b[0m | \u001b[0m0.4024   \u001b[0m | \u001b[0m9.241    \u001b[0m | \u001b[0m3.31     \u001b[0m | \u001b[0m804.1    \u001b[0m |\n",
      "| \u001b[0m66       \u001b[0m | \u001b[0m0.008032 \u001b[0m | \u001b[0m0.1247   \u001b[0m | \u001b[0m3.58     \u001b[0m | \u001b[0m8.323    \u001b[0m | \u001b[0m807.0    \u001b[0m |\n"
     ]
    },
    {
     "name": "stdout",
     "output_type": "stream",
     "text": [
      "| \u001b[0m67       \u001b[0m | \u001b[0m0.007631 \u001b[0m | \u001b[0m0.3623   \u001b[0m | \u001b[0m3.405    \u001b[0m | \u001b[0m4.738    \u001b[0m | \u001b[0m806.8    \u001b[0m |\n",
      "| \u001b[0m68       \u001b[0m | \u001b[0m0.007612 \u001b[0m | \u001b[0m0.275    \u001b[0m | \u001b[0m3.479    \u001b[0m | \u001b[0m4.004    \u001b[0m | \u001b[0m806.5    \u001b[0m |\n",
      "| \u001b[0m69       \u001b[0m | \u001b[0m0.007687 \u001b[0m | \u001b[0m0.2242   \u001b[0m | \u001b[0m3.346    \u001b[0m | \u001b[0m8.953    \u001b[0m | \u001b[0m806.2    \u001b[0m |\n",
      "| \u001b[0m70       \u001b[0m | \u001b[0m0.007541 \u001b[0m | \u001b[0m0.3755   \u001b[0m | \u001b[0m3.884    \u001b[0m | \u001b[0m7.274    \u001b[0m | \u001b[0m806.9    \u001b[0m |\n",
      "| \u001b[0m71       \u001b[0m | \u001b[0m0.005978 \u001b[0m | \u001b[0m0.2701   \u001b[0m | \u001b[0m9.258    \u001b[0m | \u001b[0m5.172    \u001b[0m | \u001b[0m1.457e+03\u001b[0m |\n",
      "| \u001b[0m72       \u001b[0m | \u001b[0m0.008188 \u001b[0m | \u001b[0m0.2883   \u001b[0m | \u001b[0m9.966    \u001b[0m | \u001b[0m2.835    \u001b[0m | \u001b[0m803.5    \u001b[0m |\n",
      "| \u001b[0m73       \u001b[0m | \u001b[0m0.004621 \u001b[0m | \u001b[0m0.1685   \u001b[0m | \u001b[0m4.054    \u001b[0m | \u001b[0m9.105    \u001b[0m | \u001b[0m807.2    \u001b[0m |\n",
      "| \u001b[0m74       \u001b[0m | \u001b[0m0.007749 \u001b[0m | \u001b[0m0.1785   \u001b[0m | \u001b[0m3.234    \u001b[0m | \u001b[0m7.209    \u001b[0m | \u001b[0m806.7    \u001b[0m |\n",
      "| \u001b[0m75       \u001b[0m | \u001b[0m0.00758  \u001b[0m | \u001b[0m0.1537   \u001b[0m | \u001b[0m3.329    \u001b[0m | \u001b[0m13.61    \u001b[0m | \u001b[0m1.142e+03\u001b[0m |\n",
      "| \u001b[0m76       \u001b[0m | \u001b[0m0.007767 \u001b[0m | \u001b[0m0.1747   \u001b[0m | \u001b[0m3.256    \u001b[0m | \u001b[0m3.633    \u001b[0m | \u001b[0m949.7    \u001b[0m |\n",
      "| \u001b[0m77       \u001b[0m | \u001b[0m0.004638 \u001b[0m | \u001b[0m0.0548   \u001b[0m | \u001b[0m6.133    \u001b[0m | \u001b[0m19.64    \u001b[0m | \u001b[0m1.281e+03\u001b[0m |\n",
      "| \u001b[0m78       \u001b[0m | \u001b[0m0.007828 \u001b[0m | \u001b[0m0.1175   \u001b[0m | \u001b[0m3.96     \u001b[0m | \u001b[0m4.188    \u001b[0m | \u001b[0m949.5    \u001b[0m |\n",
      "| \u001b[0m79       \u001b[0m | \u001b[0m0.0045   \u001b[0m | \u001b[0m0.1465   \u001b[0m | \u001b[0m9.671    \u001b[0m | \u001b[0m11.82    \u001b[0m | \u001b[0m989.7    \u001b[0m |\n",
      "| \u001b[0m80       \u001b[0m | \u001b[0m0.008057 \u001b[0m | \u001b[0m0.02778  \u001b[0m | \u001b[0m9.103    \u001b[0m | \u001b[0m2.056    \u001b[0m | \u001b[0m803.2    \u001b[0m |\n",
      "| \u001b[0m81       \u001b[0m | \u001b[0m0.007623 \u001b[0m | \u001b[0m0.2406   \u001b[0m | \u001b[0m3.153    \u001b[0m | \u001b[0m8.945    \u001b[0m | \u001b[0m805.4    \u001b[0m |\n",
      "| \u001b[0m82       \u001b[0m | \u001b[0m0.007559 \u001b[0m | \u001b[0m0.2238   \u001b[0m | \u001b[0m3.044    \u001b[0m | \u001b[0m4.133    \u001b[0m | \u001b[0m947.8    \u001b[0m |\n",
      "| \u001b[0m83       \u001b[0m | \u001b[0m0.00503  \u001b[0m | \u001b[0m0.0848   \u001b[0m | \u001b[0m4.313    \u001b[0m | \u001b[0m3.715    \u001b[0m | \u001b[0m806.6    \u001b[0m |\n",
      "| \u001b[0m84       \u001b[0m | \u001b[0m0.008066 \u001b[0m | \u001b[0m0.123    \u001b[0m | \u001b[0m3.585    \u001b[0m | \u001b[0m6.26     \u001b[0m | \u001b[0m806.0    \u001b[0m |\n",
      "| \u001b[0m85       \u001b[0m | \u001b[0m0.007475 \u001b[0m | \u001b[0m0.486    \u001b[0m | \u001b[0m3.649    \u001b[0m | \u001b[0m6.184    \u001b[0m | \u001b[0m803.4    \u001b[0m |\n",
      "| \u001b[0m86       \u001b[0m | \u001b[0m0.01083  \u001b[0m | \u001b[0m0.04501  \u001b[0m | \u001b[0m3.098    \u001b[0m | \u001b[0m6.266    \u001b[0m | \u001b[0m803.7    \u001b[0m |\n",
      "| \u001b[0m87       \u001b[0m | \u001b[0m0.008829 \u001b[0m | \u001b[0m0.4818   \u001b[0m | \u001b[0m9.683    \u001b[0m | \u001b[0m2.271    \u001b[0m | \u001b[0m802.2    \u001b[0m |\n",
      "| \u001b[0m88       \u001b[0m | \u001b[0m0.00764  \u001b[0m | \u001b[0m0.246    \u001b[0m | \u001b[0m3.032    \u001b[0m | \u001b[0m5.344    \u001b[0m | \u001b[0m803.0    \u001b[0m |\n",
      "| \u001b[0m89       \u001b[0m | \u001b[0m0.01063  \u001b[0m | \u001b[0m0.04752  \u001b[0m | \u001b[0m3.853    \u001b[0m | \u001b[0m5.82     \u001b[0m | \u001b[0m803.7    \u001b[0m |\n",
      "| \u001b[0m90       \u001b[0m | \u001b[0m0.007848 \u001b[0m | \u001b[0m0.1416   \u001b[0m | \u001b[0m3.887    \u001b[0m | \u001b[0m5.118    \u001b[0m | \u001b[0m802.6    \u001b[0m |\n",
      "| \u001b[95m91       \u001b[0m | \u001b[95m0.02542  \u001b[0m | \u001b[95m0.006164 \u001b[0m | \u001b[95m3.601    \u001b[0m | \u001b[95m7.661    \u001b[0m | \u001b[95m806.1    \u001b[0m |\n",
      "| \u001b[0m92       \u001b[0m | \u001b[0m0.004644 \u001b[0m | \u001b[0m0.05993  \u001b[0m | \u001b[0m9.35     \u001b[0m | \u001b[0m10.47    \u001b[0m | \u001b[0m1.453e+03\u001b[0m |\n",
      "| \u001b[0m93       \u001b[0m | \u001b[0m0.004712 \u001b[0m | \u001b[0m0.4368   \u001b[0m | \u001b[0m8.809    \u001b[0m | \u001b[0m18.19    \u001b[0m | \u001b[0m1.062e+03\u001b[0m |\n",
      "| \u001b[0m94       \u001b[0m | \u001b[0m0.006434 \u001b[0m | \u001b[0m0.02233  \u001b[0m | \u001b[0m4.772    \u001b[0m | \u001b[0m7.86     \u001b[0m | \u001b[0m1.281e+03\u001b[0m |\n",
      "| \u001b[0m95       \u001b[0m | \u001b[0m0.004544 \u001b[0m | \u001b[0m0.1555   \u001b[0m | \u001b[0m4.902    \u001b[0m | \u001b[0m4.869    \u001b[0m | \u001b[0m803.4    \u001b[0m |\n",
      "| \u001b[0m96       \u001b[0m | \u001b[0m0.007233 \u001b[0m | \u001b[0m0.2205   \u001b[0m | \u001b[0m3.783    \u001b[0m | \u001b[0m16.65    \u001b[0m | \u001b[0m1.278e+03\u001b[0m |\n",
      "| \u001b[0m97       \u001b[0m | \u001b[0m0.004122 \u001b[0m | \u001b[0m0.3012   \u001b[0m | \u001b[0m5.818    \u001b[0m | \u001b[0m9.036    \u001b[0m | \u001b[0m1.12e+03 \u001b[0m |\n",
      "| \u001b[0m98       \u001b[0m | \u001b[0m0.007637 \u001b[0m | \u001b[0m0.2082   \u001b[0m | \u001b[0m3.138    \u001b[0m | \u001b[0m3.01     \u001b[0m | \u001b[0m948.8    \u001b[0m |\n",
      "| \u001b[0m99       \u001b[0m | \u001b[0m0.004218 \u001b[0m | \u001b[0m0.2523   \u001b[0m | \u001b[0m4.518    \u001b[0m | \u001b[0m11.47    \u001b[0m | \u001b[0m1.167e+03\u001b[0m |\n",
      "| \u001b[0m100      \u001b[0m | \u001b[0m0.005164 \u001b[0m | \u001b[0m0.07015  \u001b[0m | \u001b[0m4.332    \u001b[0m | \u001b[0m6.753    \u001b[0m | \u001b[0m803.8    \u001b[0m |\n",
      "| \u001b[0m101      \u001b[0m | \u001b[0m0.007815 \u001b[0m | \u001b[0m0.2111   \u001b[0m | \u001b[0m3.641    \u001b[0m | \u001b[0m7.953    \u001b[0m | \u001b[0m805.7    \u001b[0m |\n",
      "| \u001b[95m102      \u001b[0m | \u001b[95m0.0349   \u001b[0m | \u001b[95m0.002458 \u001b[0m | \u001b[95m6.405    \u001b[0m | \u001b[95m5.604    \u001b[0m | \u001b[95m811.6    \u001b[0m |\n",
      "| \u001b[0m103      \u001b[0m | \u001b[0m0.004791 \u001b[0m | \u001b[0m0.3123   \u001b[0m | \u001b[0m6.222    \u001b[0m | \u001b[0m5.809    \u001b[0m | \u001b[0m811.7    \u001b[0m |\n",
      "| \u001b[0m104      \u001b[0m | \u001b[0m0.004295 \u001b[0m | \u001b[0m0.4584   \u001b[0m | \u001b[0m4.914    \u001b[0m | \u001b[0m10.77    \u001b[0m | \u001b[0m958.6    \u001b[0m |\n",
      "| \u001b[0m105      \u001b[0m | \u001b[0m0.008741 \u001b[0m | \u001b[0m0.08965  \u001b[0m | \u001b[0m3.058    \u001b[0m | \u001b[0m6.954    \u001b[0m | \u001b[0m807.0    \u001b[0m |\n",
      "| \u001b[0m106      \u001b[0m | \u001b[0m0.007954 \u001b[0m | \u001b[0m0.1187   \u001b[0m | \u001b[0m3.419    \u001b[0m | \u001b[0m6.885    \u001b[0m | \u001b[0m806.3    \u001b[0m |\n",
      "| \u001b[0m107      \u001b[0m | \u001b[0m0.005602 \u001b[0m | \u001b[0m0.3503   \u001b[0m | \u001b[0m9.272    \u001b[0m | \u001b[0m7.626    \u001b[0m | \u001b[0m924.4    \u001b[0m |\n",
      "| \u001b[0m108      \u001b[0m | \u001b[0m0.005985 \u001b[0m | \u001b[0m0.102    \u001b[0m | \u001b[0m8.351    \u001b[0m | \u001b[0m3.001    \u001b[0m | \u001b[0m815.5    \u001b[0m |\n",
      "| \u001b[0m109      \u001b[0m | \u001b[0m0.003742 \u001b[0m | \u001b[0m0.1587   \u001b[0m | \u001b[0m5.291    \u001b[0m | \u001b[0m3.607    \u001b[0m | \u001b[0m925.8    \u001b[0m |\n",
      "| \u001b[0m110      \u001b[0m | \u001b[0m0.004291 \u001b[0m | \u001b[0m0.1776   \u001b[0m | \u001b[0m6.339    \u001b[0m | \u001b[0m5.153    \u001b[0m | \u001b[0m811.1    \u001b[0m |\n",
      "| \u001b[0m111      \u001b[0m | \u001b[0m0.004037 \u001b[0m | \u001b[0m0.3602   \u001b[0m | \u001b[0m5.518    \u001b[0m | \u001b[0m11.05    \u001b[0m | \u001b[0m1.405e+03\u001b[0m |\n",
      "| \u001b[0m112      \u001b[0m | \u001b[0m0.004405 \u001b[0m | \u001b[0m0.1902   \u001b[0m | \u001b[0m7.11     \u001b[0m | \u001b[0m9.899    \u001b[0m | \u001b[0m1.261e+03\u001b[0m |\n",
      "| \u001b[0m113      \u001b[0m | \u001b[0m0.004061 \u001b[0m | \u001b[0m0.1025   \u001b[0m | \u001b[0m5.373    \u001b[0m | \u001b[0m15.92    \u001b[0m | \u001b[0m1.199e+03\u001b[0m |\n",
      "| \u001b[0m114      \u001b[0m | \u001b[0m0.004732 \u001b[0m | \u001b[0m0.1006   \u001b[0m | \u001b[0m8.977    \u001b[0m | \u001b[0m8.05     \u001b[0m | \u001b[0m984.7    \u001b[0m |\n",
      "| \u001b[0m115      \u001b[0m | \u001b[0m0.005663 \u001b[0m | \u001b[0m0.3743   \u001b[0m | \u001b[0m9.901    \u001b[0m | \u001b[0m7.346    \u001b[0m | \u001b[0m1.127e+03\u001b[0m |\n",
      "| \u001b[0m116      \u001b[0m | \u001b[0m0.008451 \u001b[0m | \u001b[0m0.3322   \u001b[0m | \u001b[0m9.511    \u001b[0m | \u001b[0m2.219    \u001b[0m | \u001b[0m803.6    \u001b[0m |\n",
      "| \u001b[0m117      \u001b[0m | \u001b[0m0.004879 \u001b[0m | \u001b[0m0.02925  \u001b[0m | \u001b[0m5.364    \u001b[0m | \u001b[0m11.9     \u001b[0m | \u001b[0m1.281e+03\u001b[0m |\n",
      "| \u001b[0m118      \u001b[0m | \u001b[0m0.00438  \u001b[0m | \u001b[0m0.3039   \u001b[0m | \u001b[0m4.22     \u001b[0m | \u001b[0m15.52    \u001b[0m | \u001b[0m1.123e+03\u001b[0m |\n",
      "| \u001b[0m119      \u001b[0m | \u001b[0m0.008428 \u001b[0m | \u001b[0m0.3379   \u001b[0m | \u001b[0m9.89     \u001b[0m | \u001b[0m2.865    \u001b[0m | \u001b[0m804.3    \u001b[0m |\n",
      "| \u001b[0m120      \u001b[0m | \u001b[0m0.004888 \u001b[0m | \u001b[0m0.4174   \u001b[0m | \u001b[0m6.015    \u001b[0m | \u001b[0m7.204    \u001b[0m | \u001b[0m1.331e+03\u001b[0m |\n",
      "=========================================================================\n",
      "\n",
      " best params:  {'learning_rate': 0.0024578952228434107, 'max_depth': 6.405110593692333, 'min_samples_leaf': 5.60448427559089, 'n_estimators': 811.6125846379326} \n",
      " best cvscore:  0.03489830338343722\n",
      "Total time taken:  416.56595516204834\n"
     ]
    }
   ],
   "source": [
    "# Start time\n",
    "start_time = time.time()\n",
    "\n",
    "param_grid_simple={'n_estimators':(800,1500)\n",
    "                  ,'max_depth':(3,10)\n",
    "                  ,'min_samples_leaf':(2,20)\n",
    "                   ,'learning_rate':( 0.001,0.5)\n",
    "                  }\n",
    "\n",
    "params_best,score_best=param_bayes_opt(20,100)\n",
    "\n",
    "params_best \n",
    "score_best \n",
    "validation_score=bayes_opt_validation(params_best) \n",
    "validation_score \n",
    "# End time\n",
    "end_time = time.time()\n",
    "# Calculate total time\n",
    "total_time = end_time - start_time\n",
    "print(\"Total time taken: \", total_time)"
   ]
  },
  {
   "cell_type": "markdown",
   "id": "e852c929",
   "metadata": {},
   "source": [
    "# GradientBoostingRegressor"
   ]
  },
  {
   "cell_type": "code",
   "execution_count": 51,
   "id": "454f62f1",
   "metadata": {},
   "outputs": [
    {
     "data": {
      "text/html": [
       "<style>#sk-container-id-1 {color: black;}#sk-container-id-1 pre{padding: 0;}#sk-container-id-1 div.sk-toggleable {background-color: white;}#sk-container-id-1 label.sk-toggleable__label {cursor: pointer;display: block;width: 100%;margin-bottom: 0;padding: 0.3em;box-sizing: border-box;text-align: center;}#sk-container-id-1 label.sk-toggleable__label-arrow:before {content: \"▸\";float: left;margin-right: 0.25em;color: #696969;}#sk-container-id-1 label.sk-toggleable__label-arrow:hover:before {color: black;}#sk-container-id-1 div.sk-estimator:hover label.sk-toggleable__label-arrow:before {color: black;}#sk-container-id-1 div.sk-toggleable__content {max-height: 0;max-width: 0;overflow: hidden;text-align: left;background-color: #f0f8ff;}#sk-container-id-1 div.sk-toggleable__content pre {margin: 0.2em;color: black;border-radius: 0.25em;background-color: #f0f8ff;}#sk-container-id-1 input.sk-toggleable__control:checked~div.sk-toggleable__content {max-height: 200px;max-width: 100%;overflow: auto;}#sk-container-id-1 input.sk-toggleable__control:checked~label.sk-toggleable__label-arrow:before {content: \"▾\";}#sk-container-id-1 div.sk-estimator input.sk-toggleable__control:checked~label.sk-toggleable__label {background-color: #d4ebff;}#sk-container-id-1 div.sk-label input.sk-toggleable__control:checked~label.sk-toggleable__label {background-color: #d4ebff;}#sk-container-id-1 input.sk-hidden--visually {border: 0;clip: rect(1px 1px 1px 1px);clip: rect(1px, 1px, 1px, 1px);height: 1px;margin: -1px;overflow: hidden;padding: 0;position: absolute;width: 1px;}#sk-container-id-1 div.sk-estimator {font-family: monospace;background-color: #f0f8ff;border: 1px dotted black;border-radius: 0.25em;box-sizing: border-box;margin-bottom: 0.5em;}#sk-container-id-1 div.sk-estimator:hover {background-color: #d4ebff;}#sk-container-id-1 div.sk-parallel-item::after {content: \"\";width: 100%;border-bottom: 1px solid gray;flex-grow: 1;}#sk-container-id-1 div.sk-label:hover label.sk-toggleable__label {background-color: #d4ebff;}#sk-container-id-1 div.sk-serial::before {content: \"\";position: absolute;border-left: 1px solid gray;box-sizing: border-box;top: 0;bottom: 0;left: 50%;z-index: 0;}#sk-container-id-1 div.sk-serial {display: flex;flex-direction: column;align-items: center;background-color: white;padding-right: 0.2em;padding-left: 0.2em;position: relative;}#sk-container-id-1 div.sk-item {position: relative;z-index: 1;}#sk-container-id-1 div.sk-parallel {display: flex;align-items: stretch;justify-content: center;background-color: white;position: relative;}#sk-container-id-1 div.sk-item::before, #sk-container-id-1 div.sk-parallel-item::before {content: \"\";position: absolute;border-left: 1px solid gray;box-sizing: border-box;top: 0;bottom: 0;left: 50%;z-index: -1;}#sk-container-id-1 div.sk-parallel-item {display: flex;flex-direction: column;z-index: 1;position: relative;background-color: white;}#sk-container-id-1 div.sk-parallel-item:first-child::after {align-self: flex-end;width: 50%;}#sk-container-id-1 div.sk-parallel-item:last-child::after {align-self: flex-start;width: 50%;}#sk-container-id-1 div.sk-parallel-item:only-child::after {width: 0;}#sk-container-id-1 div.sk-dashed-wrapped {border: 1px dashed gray;margin: 0 0.4em 0.5em 0.4em;box-sizing: border-box;padding-bottom: 0.4em;background-color: white;}#sk-container-id-1 div.sk-label label {font-family: monospace;font-weight: bold;display: inline-block;line-height: 1.2em;}#sk-container-id-1 div.sk-label-container {text-align: center;}#sk-container-id-1 div.sk-container {/* jupyter's `normalize.less` sets `[hidden] { display: none; }` but bootstrap.min.css set `[hidden] { display: none !important; }` so we also need the `!important` here to be able to override the default hidden behavior on the sphinx rendered scikit-learn.org. See: https://github.com/scikit-learn/scikit-learn/issues/21755 */display: inline-block !important;position: relative;}#sk-container-id-1 div.sk-text-repr-fallback {display: none;}</style><div id=\"sk-container-id-1\" class=\"sk-top-container\"><div class=\"sk-text-repr-fallback\"><pre>GradientBoostingRegressor(learning_rate=0.0025, max_depth=7, min_samples_leaf=6,\n",
       "                          n_estimators=811)</pre><b>In a Jupyter environment, please rerun this cell to show the HTML representation or trust the notebook. <br />On GitHub, the HTML representation is unable to render, please try loading this page with nbviewer.org.</b></div><div class=\"sk-container\" hidden><div class=\"sk-item\"><div class=\"sk-estimator sk-toggleable\"><input class=\"sk-toggleable__control sk-hidden--visually\" id=\"sk-estimator-id-1\" type=\"checkbox\" checked><label for=\"sk-estimator-id-1\" class=\"sk-toggleable__label sk-toggleable__label-arrow\">GradientBoostingRegressor</label><div class=\"sk-toggleable__content\"><pre>GradientBoostingRegressor(learning_rate=0.0025, max_depth=7, min_samples_leaf=6,\n",
       "                          n_estimators=811)</pre></div></div></div></div></div>"
      ],
      "text/plain": [
       "GradientBoostingRegressor(learning_rate=0.0025, max_depth=7, min_samples_leaf=6,\n",
       "                          n_estimators=811)"
      ]
     },
     "execution_count": 51,
     "metadata": {},
     "output_type": "execute_result"
    }
   ],
   "source": [
    "from sklearn.ensemble import GradientBoostingRegressor\n",
    "params_best['n_estimators'] = int(params_best['n_estimators'])\n",
    "params_best['max_depth'] = int(params_best['max_depth'])\n",
    "params_best['min_samples_leaf'] = int(params_best['min_samples_leaf'])\n",
    "gbr_reg= GradientBoostingRegressor(**params_best )\n",
    "gbr_reg.fit(X_train, y_train)"
   ]
  },
  {
   "cell_type": "code",
   "execution_count": 52,
   "id": "5527371b",
   "metadata": {},
   "outputs": [],
   "source": [
    "from math import sqrt\n",
    "from sklearn.metrics import mean_absolute_error\n",
    "from sklearn.metrics import mean_squared_error\n",
    "from sklearn.metrics import r2_score"
   ]
  },
  {
   "cell_type": "code",
   "execution_count": 53,
   "id": "5a8bfdd1",
   "metadata": {},
   "outputs": [],
   "source": [
    "y_pred= gbr_reg.predict(X_test)\n",
    "y_pred1=gbr_reg.predict(X_val)\n",
    "y_pred2=gbr_reg.predict(X_train)"
   ]
  },
  {
   "cell_type": "code",
   "execution_count": 54,
   "id": "44d47cbb",
   "metadata": {},
   "outputs": [
    {
     "name": "stdout",
     "output_type": "stream",
     "text": [
      "mean_absolute_error: 0.02647873145991981\n",
      "mean_squared_error: 0.0010872931337115165\n",
      "rmse: 0.032974128247938814\n",
      "r2 score: 0.9781925574465634\n"
     ]
    }
   ],
   "source": [
    "print(\"mean_absolute_error:\", mean_absolute_error(y_val, y_pred1))\n",
    "print(\"mean_squared_error:\", mean_squared_error(y_val, y_pred1))\n",
    "print(\"rmse:\", sqrt(mean_squared_error(y_val, y_pred1)))\n",
    "print(\"r2 score:\", r2_score(y_val, y_pred1))"
   ]
  },
  {
   "cell_type": "code",
   "execution_count": 55,
   "id": "43d50de4",
   "metadata": {},
   "outputs": [
    {
     "name": "stdout",
     "output_type": "stream",
     "text": [
      "mean_absolute_error: 0.025491533027954757\n",
      "mean_squared_error: 0.000959931849354261\n",
      "rmse: 0.030982766973823708\n",
      "r2 score: 0.9803756300787225\n"
     ]
    }
   ],
   "source": [
    "print(\"mean_absolute_error:\", mean_absolute_error(y_train, y_pred2))\n",
    "print(\"mean_squared_error:\", mean_squared_error(y_train, y_pred2))\n",
    "print(\"rmse:\", sqrt(mean_squared_error(y_train, y_pred2)))\n",
    "print(\"r2 score:\", r2_score(y_train, y_pred2))"
   ]
  },
  {
   "cell_type": "code",
   "execution_count": 56,
   "id": "41cb6e57",
   "metadata": {},
   "outputs": [
    {
     "name": "stdout",
     "output_type": "stream",
     "text": [
      "mean_absolute_error: 0.027189996254512388\n",
      "mean_squared_error: 0.0011002266937276378\n",
      "rmse: 0.03316966526402758\n",
      "r2 score: 0.9785240592995932\n"
     ]
    }
   ],
   "source": [
    "print(\"mean_absolute_error:\", mean_absolute_error(y_test, y_pred))\n",
    "print(\"mean_squared_error:\", mean_squared_error(y_test, y_pred))\n",
    "print(\"rmse:\", sqrt(mean_squared_error(y_test, y_pred)))\n",
    "print(\"r2 score:\", r2_score(y_test, y_pred))"
   ]
  },
  {
   "cell_type": "code",
   "execution_count": null,
   "id": "187abee4",
   "metadata": {},
   "outputs": [],
   "source": []
  }
 ],
 "metadata": {
  "kernelspec": {
   "display_name": "Python 3 (ipykernel)",
   "language": "python",
   "name": "python3"
  },
  "language_info": {
   "codemirror_mode": {
    "name": "ipython",
    "version": 3
   },
   "file_extension": ".py",
   "mimetype": "text/x-python",
   "name": "python",
   "nbconvert_exporter": "python",
   "pygments_lexer": "ipython3",
   "version": "3.9.19"
  }
 },
 "nbformat": 4,
 "nbformat_minor": 5
}
