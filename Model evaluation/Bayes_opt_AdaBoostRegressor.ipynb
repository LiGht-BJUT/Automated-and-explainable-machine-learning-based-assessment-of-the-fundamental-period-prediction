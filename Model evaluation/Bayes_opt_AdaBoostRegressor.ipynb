{
 "cells": [
  {
   "cell_type": "code",
   "execution_count": 1,
   "id": "357b095b",
   "metadata": {},
   "outputs": [],
   "source": [
    "import pandas as pd\n",
    "import matplotlib.pyplot as plt\n",
    "import numpy as np\n",
    "from sklearn.model_selection import train_test_split\n",
    "import time\n",
    "from math import sqrt\n",
    "from sklearn.metrics import mean_absolute_error\n",
    "from sklearn.metrics import mean_squared_error\n",
    "from sklearn.metrics import r2_score"
   ]
  },
  {
   "cell_type": "code",
   "execution_count": 2,
   "id": "f4040213",
   "metadata": {},
   "outputs": [
    {
     "data": {
      "text/html": [
       "<div>\n",
       "<style scoped>\n",
       "    .dataframe tbody tr th:only-of-type {\n",
       "        vertical-align: middle;\n",
       "    }\n",
       "\n",
       "    .dataframe tbody tr th {\n",
       "        vertical-align: top;\n",
       "    }\n",
       "\n",
       "    .dataframe thead th {\n",
       "        text-align: right;\n",
       "    }\n",
       "</style>\n",
       "<table border=\"1\" class=\"dataframe\">\n",
       "  <thead>\n",
       "    <tr style=\"text-align: right;\">\n",
       "      <th></th>\n",
       "      <th>Number of Storeys(NS)</th>\n",
       "      <th>Height of Structure(HS)</th>\n",
       "      <th>Number of Spans(HSP)</th>\n",
       "      <th>Length of Spans (LS)</th>\n",
       "      <th>Opening percentage (OP)</th>\n",
       "      <th>Masonry wall Stiffness Et (MS)</th>\n",
       "      <th>Period (P)</th>\n",
       "    </tr>\n",
       "  </thead>\n",
       "  <tbody>\n",
       "    <tr>\n",
       "      <th>0</th>\n",
       "      <td>1</td>\n",
       "      <td>3</td>\n",
       "      <td>2</td>\n",
       "      <td>3.0</td>\n",
       "      <td>0</td>\n",
       "      <td>2.25</td>\n",
       "      <td>0.092970</td>\n",
       "    </tr>\n",
       "    <tr>\n",
       "      <th>1</th>\n",
       "      <td>1</td>\n",
       "      <td>3</td>\n",
       "      <td>2</td>\n",
       "      <td>3.0</td>\n",
       "      <td>100</td>\n",
       "      <td>2.25</td>\n",
       "      <td>0.159750</td>\n",
       "    </tr>\n",
       "    <tr>\n",
       "      <th>2</th>\n",
       "      <td>1</td>\n",
       "      <td>3</td>\n",
       "      <td>2</td>\n",
       "      <td>4.5</td>\n",
       "      <td>0</td>\n",
       "      <td>2.25</td>\n",
       "      <td>0.094770</td>\n",
       "    </tr>\n",
       "    <tr>\n",
       "      <th>3</th>\n",
       "      <td>1</td>\n",
       "      <td>3</td>\n",
       "      <td>2</td>\n",
       "      <td>4.5</td>\n",
       "      <td>100</td>\n",
       "      <td>2.25</td>\n",
       "      <td>0.156589</td>\n",
       "    </tr>\n",
       "    <tr>\n",
       "      <th>4</th>\n",
       "      <td>1</td>\n",
       "      <td>3</td>\n",
       "      <td>2</td>\n",
       "      <td>6.0</td>\n",
       "      <td>0</td>\n",
       "      <td>2.25</td>\n",
       "      <td>0.106350</td>\n",
       "    </tr>\n",
       "    <tr>\n",
       "      <th>...</th>\n",
       "      <td>...</td>\n",
       "      <td>...</td>\n",
       "      <td>...</td>\n",
       "      <td>...</td>\n",
       "      <td>...</td>\n",
       "      <td>...</td>\n",
       "      <td>...</td>\n",
       "    </tr>\n",
       "    <tr>\n",
       "      <th>4021</th>\n",
       "      <td>22</td>\n",
       "      <td>66</td>\n",
       "      <td>6</td>\n",
       "      <td>6.0</td>\n",
       "      <td>50</td>\n",
       "      <td>25.00</td>\n",
       "      <td>1.628000</td>\n",
       "    </tr>\n",
       "    <tr>\n",
       "      <th>4022</th>\n",
       "      <td>22</td>\n",
       "      <td>66</td>\n",
       "      <td>6</td>\n",
       "      <td>6.0</td>\n",
       "      <td>75</td>\n",
       "      <td>25.00</td>\n",
       "      <td>2.714000</td>\n",
       "    </tr>\n",
       "    <tr>\n",
       "      <th>4023</th>\n",
       "      <td>22</td>\n",
       "      <td>66</td>\n",
       "      <td>6</td>\n",
       "      <td>6.0</td>\n",
       "      <td>100</td>\n",
       "      <td>25.00</td>\n",
       "      <td>2.879000</td>\n",
       "    </tr>\n",
       "    <tr>\n",
       "      <th>4024</th>\n",
       "      <td>22</td>\n",
       "      <td>66</td>\n",
       "      <td>6</td>\n",
       "      <td>7.5</td>\n",
       "      <td>0</td>\n",
       "      <td>25.00</td>\n",
       "      <td>0.602680</td>\n",
       "    </tr>\n",
       "    <tr>\n",
       "      <th>4025</th>\n",
       "      <td>22</td>\n",
       "      <td>66</td>\n",
       "      <td>6</td>\n",
       "      <td>7.5</td>\n",
       "      <td>100</td>\n",
       "      <td>25.00</td>\n",
       "      <td>3.474000</td>\n",
       "    </tr>\n",
       "  </tbody>\n",
       "</table>\n",
       "<p>4026 rows × 7 columns</p>\n",
       "</div>"
      ],
      "text/plain": [
       "      Number of Storeys(NS)  Height of Structure(HS)  Number of Spans(HSP)  \\\n",
       "0                         1                        3                     2   \n",
       "1                         1                        3                     2   \n",
       "2                         1                        3                     2   \n",
       "3                         1                        3                     2   \n",
       "4                         1                        3                     2   \n",
       "...                     ...                      ...                   ...   \n",
       "4021                     22                       66                     6   \n",
       "4022                     22                       66                     6   \n",
       "4023                     22                       66                     6   \n",
       "4024                     22                       66                     6   \n",
       "4025                     22                       66                     6   \n",
       "\n",
       "      Length of Spans (LS)  Opening percentage (OP)  \\\n",
       "0                      3.0                        0   \n",
       "1                      3.0                      100   \n",
       "2                      4.5                        0   \n",
       "3                      4.5                      100   \n",
       "4                      6.0                        0   \n",
       "...                    ...                      ...   \n",
       "4021                   6.0                       50   \n",
       "4022                   6.0                       75   \n",
       "4023                   6.0                      100   \n",
       "4024                   7.5                        0   \n",
       "4025                   7.5                      100   \n",
       "\n",
       "      Masonry wall Stiffness Et (MS)  Period (P)  \n",
       "0                               2.25    0.092970  \n",
       "1                               2.25    0.159750  \n",
       "2                               2.25    0.094770  \n",
       "3                               2.25    0.156589  \n",
       "4                               2.25    0.106350  \n",
       "...                              ...         ...  \n",
       "4021                           25.00    1.628000  \n",
       "4022                           25.00    2.714000  \n",
       "4023                           25.00    2.879000  \n",
       "4024                           25.00    0.602680  \n",
       "4025                           25.00    3.474000  \n",
       "\n",
       "[4026 rows x 7 columns]"
      ]
     },
     "execution_count": 2,
     "metadata": {},
     "output_type": "execute_result"
    }
   ],
   "source": [
    "df=pd.read_excel(r\"../dataset/data.xlsx\",sheet_name=\"Sheet1\")\n",
    "\n",
    "df"
   ]
  },
  {
   "cell_type": "code",
   "execution_count": 3,
   "id": "e275a747",
   "metadata": {},
   "outputs": [
    {
     "data": {
      "text/plain": [
       "(4026, 7)"
      ]
     },
     "execution_count": 3,
     "metadata": {},
     "output_type": "execute_result"
    }
   ],
   "source": [
    "df.shape"
   ]
  },
  {
   "cell_type": "code",
   "execution_count": 4,
   "id": "fe2e8e65",
   "metadata": {},
   "outputs": [
    {
     "data": {
      "text/html": [
       "<div>\n",
       "<style scoped>\n",
       "    .dataframe tbody tr th:only-of-type {\n",
       "        vertical-align: middle;\n",
       "    }\n",
       "\n",
       "    .dataframe tbody tr th {\n",
       "        vertical-align: top;\n",
       "    }\n",
       "\n",
       "    .dataframe thead th {\n",
       "        text-align: right;\n",
       "    }\n",
       "</style>\n",
       "<table border=\"1\" class=\"dataframe\">\n",
       "  <thead>\n",
       "    <tr style=\"text-align: right;\">\n",
       "      <th></th>\n",
       "      <th>Number of Storeys(NS)</th>\n",
       "      <th>Height of Structure(HS)</th>\n",
       "      <th>Number of Spans(HSP)</th>\n",
       "      <th>Length of Spans (LS)</th>\n",
       "      <th>Opening percentage (OP)</th>\n",
       "      <th>Masonry wall Stiffness Et (MS)</th>\n",
       "      <th>Period (P)</th>\n",
       "    </tr>\n",
       "  </thead>\n",
       "  <tbody>\n",
       "    <tr>\n",
       "      <th>0</th>\n",
       "      <td>1</td>\n",
       "      <td>3</td>\n",
       "      <td>2</td>\n",
       "      <td>3.0</td>\n",
       "      <td>0</td>\n",
       "      <td>2.25</td>\n",
       "      <td>0.092970</td>\n",
       "    </tr>\n",
       "    <tr>\n",
       "      <th>1</th>\n",
       "      <td>1</td>\n",
       "      <td>3</td>\n",
       "      <td>2</td>\n",
       "      <td>3.0</td>\n",
       "      <td>100</td>\n",
       "      <td>2.25</td>\n",
       "      <td>0.159750</td>\n",
       "    </tr>\n",
       "    <tr>\n",
       "      <th>2</th>\n",
       "      <td>1</td>\n",
       "      <td>3</td>\n",
       "      <td>2</td>\n",
       "      <td>4.5</td>\n",
       "      <td>0</td>\n",
       "      <td>2.25</td>\n",
       "      <td>0.094770</td>\n",
       "    </tr>\n",
       "    <tr>\n",
       "      <th>3</th>\n",
       "      <td>1</td>\n",
       "      <td>3</td>\n",
       "      <td>2</td>\n",
       "      <td>4.5</td>\n",
       "      <td>100</td>\n",
       "      <td>2.25</td>\n",
       "      <td>0.156589</td>\n",
       "    </tr>\n",
       "    <tr>\n",
       "      <th>4</th>\n",
       "      <td>1</td>\n",
       "      <td>3</td>\n",
       "      <td>2</td>\n",
       "      <td>6.0</td>\n",
       "      <td>0</td>\n",
       "      <td>2.25</td>\n",
       "      <td>0.106350</td>\n",
       "    </tr>\n",
       "  </tbody>\n",
       "</table>\n",
       "</div>"
      ],
      "text/plain": [
       "   Number of Storeys(NS)  Height of Structure(HS)  Number of Spans(HSP)  \\\n",
       "0                      1                        3                     2   \n",
       "1                      1                        3                     2   \n",
       "2                      1                        3                     2   \n",
       "3                      1                        3                     2   \n",
       "4                      1                        3                     2   \n",
       "\n",
       "   Length of Spans (LS)  Opening percentage (OP)  \\\n",
       "0                   3.0                        0   \n",
       "1                   3.0                      100   \n",
       "2                   4.5                        0   \n",
       "3                   4.5                      100   \n",
       "4                   6.0                        0   \n",
       "\n",
       "   Masonry wall Stiffness Et (MS)  Period (P)  \n",
       "0                            2.25    0.092970  \n",
       "1                            2.25    0.159750  \n",
       "2                            2.25    0.094770  \n",
       "3                            2.25    0.156589  \n",
       "4                            2.25    0.106350  "
      ]
     },
     "execution_count": 4,
     "metadata": {},
     "output_type": "execute_result"
    }
   ],
   "source": [
    "df.head()"
   ]
  },
  {
   "cell_type": "code",
   "execution_count": 5,
   "id": "9e9bfd27",
   "metadata": {},
   "outputs": [
    {
     "name": "stdout",
     "output_type": "stream",
     "text": [
      "      Number of Storeys(NS)  Height of Structure(HS)  Number of Spans(HSP)  \\\n",
      "0                       0.0                      0.0                   0.0   \n",
      "1                       0.0                      0.0                   0.0   \n",
      "2                       0.0                      0.0                   0.0   \n",
      "3                       0.0                      0.0                   0.0   \n",
      "4                       0.0                      0.0                   0.0   \n",
      "...                     ...                      ...                   ...   \n",
      "4021                    1.0                      1.0                   1.0   \n",
      "4022                    1.0                      1.0                   1.0   \n",
      "4023                    1.0                      1.0                   1.0   \n",
      "4024                    1.0                      1.0                   1.0   \n",
      "4025                    1.0                      1.0                   1.0   \n",
      "\n",
      "      Length of Spans (LS)  Opening percentage (OP)  \\\n",
      "0                 0.000000                     0.00   \n",
      "1                 0.000000                     1.00   \n",
      "2                 0.333333                     0.00   \n",
      "3                 0.333333                     1.00   \n",
      "4                 0.666667                     0.00   \n",
      "...                    ...                      ...   \n",
      "4021              0.666667                     0.50   \n",
      "4022              0.666667                     0.75   \n",
      "4023              0.666667                     1.00   \n",
      "4024              1.000000                     0.00   \n",
      "4025              1.000000                     1.00   \n",
      "\n",
      "      Masonry wall Stiffness Et (MS)  Period (P)  \n",
      "0                                0.0    0.015051  \n",
      "1                                0.0    0.033991  \n",
      "2                                0.0    0.015562  \n",
      "3                                0.0    0.033095  \n",
      "4                                0.0    0.018846  \n",
      "...                              ...         ...  \n",
      "4021                             1.0    0.450410  \n",
      "4022                             1.0    0.758416  \n",
      "4023                             1.0    0.805213  \n",
      "4024                             1.0    0.159613  \n",
      "4025                             1.0    0.973964  \n",
      "\n",
      "[4026 rows x 7 columns]\n"
     ]
    }
   ],
   "source": [
    "import pandas as pd\n",
    "from sklearn.preprocessing import MinMaxScaler\n",
    "\n",
    "scaler = MinMaxScaler()\n",
    "normalized_data = scaler.fit_transform(df)\n",
    "\n",
    "normalized_df = pd.DataFrame(normalized_data, columns=df.columns)\n",
    "\n",
    "print(normalized_df)"
   ]
  },
  {
   "cell_type": "code",
   "execution_count": 6,
   "id": "9f75398b",
   "metadata": {},
   "outputs": [
    {
     "data": {
      "text/plain": [
       "Index(['Number of Storeys(NS)', 'Height of Structure(HS)',\n",
       "       'Number of Spans(HSP)', 'Length of Spans (LS)',\n",
       "       'Opening percentage (OP)', 'Masonry wall Stiffness Et (MS)',\n",
       "       'Period (P)'],\n",
       "      dtype='object')"
      ]
     },
     "execution_count": 6,
     "metadata": {},
     "output_type": "execute_result"
    }
   ],
   "source": [
    "normalized_df.keys()"
   ]
  },
  {
   "cell_type": "code",
   "execution_count": 7,
   "id": "f15b32dd",
   "metadata": {},
   "outputs": [],
   "source": [
    "X=normalized_df.drop(\"Period (P)\" ,axis=1)"
   ]
  },
  {
   "cell_type": "code",
   "execution_count": 8,
   "id": "cd30344d",
   "metadata": {},
   "outputs": [],
   "source": [
    "y=normalized_df[\"Period (P)\"]"
   ]
  },
  {
   "cell_type": "code",
   "execution_count": 9,
   "id": "979d5edd",
   "metadata": {},
   "outputs": [],
   "source": [
    "from sklearn.model_selection import train_test_split"
   ]
  },
  {
   "cell_type": "code",
   "execution_count": 10,
   "id": "8bddc88f",
   "metadata": {},
   "outputs": [],
   "source": [
    "X_train, X_test, y_train, y_test = train_test_split(X, y, test_size=0.2, random_state=99)\n",
    "X_train, X_val, y_train, y_val = train_test_split(X_train, y_train, test_size=0.25, random_state=99)"
   ]
  },
  {
   "cell_type": "markdown",
   "id": "d8042ce6",
   "metadata": {},
   "source": [
    "# AdaBoostRegressor"
   ]
  },
  {
   "cell_type": "code",
   "execution_count": 12,
   "id": "17ef160e",
   "metadata": {},
   "outputs": [],
   "source": [
    "from sklearn.ensemble import AdaBoostRegressor\n",
    "from sklearn.model_selection import train_test_split\n",
    "from sklearn.metrics import mean_squared_error\n",
    "from sklearn.model_selection import KFold,cross_validate\n",
    "from bayes_opt import BayesianOptimization\n",
    "from hyperopt import hp,fmin,tpe,Trials,partial\n",
    "from hyperopt.early_stop import no_progress_loss\n",
    "import hyperopt"
   ]
  },
  {
   "cell_type": "code",
   "execution_count": 13,
   "id": "1107b776",
   "metadata": {},
   "outputs": [],
   "source": [
    "def bayesopt_objective(n_estimators,learning_rate):\n",
    "    model= AdaBoostRegressor(n_estimators=int(n_estimators)\n",
    "              ,learning_rate=learning_rate\n",
    "              )\n",
    "    cv=KFold(n_splits=10,shuffle=True,random_state=99)\n",
    "    validate_loss=cross_validate(model,X_train,y_train\n",
    "                                   ,cv=cv\n",
    "                                   ,scoring='neg_root_mean_squared_error'\n",
    "                                   ,n_jobs=-1\n",
    "                                   ,error_score='raise')\n",
    "    \n",
    "    return np.mean(abs(validate_loss['test_score']))"
   ]
  },
  {
   "cell_type": "code",
   "execution_count": 14,
   "id": "852a839b",
   "metadata": {},
   "outputs": [],
   "source": [
    "def param_bayes_opt(init_points,n_iter):\n",
    "    opt=BayesianOptimization(bayesopt_objective\n",
    "                             ,param_grid_simple\n",
    "                             ,random_state=99)\n",
    "    \n",
    "    opt.maximize(init_points=init_points \n",
    "                 ,n_iter=n_iter \n",
    "                )\n",
    "    \n",
    "    params_best=opt.max['params'] \n",
    "    score_best=opt.max['target'] \n",
    "    \n",
    "    print(\"\\n\",\"best params: \", params_best,\n",
    "          \"\\n\",\"best cvscore: \", score_best)\n",
    "    \n",
    "    return params_best,score_best"
   ]
  },
  {
   "cell_type": "code",
   "execution_count": 15,
   "id": "fafcc275",
   "metadata": {},
   "outputs": [],
   "source": [
    "def bayes_opt_validation(params_best):\n",
    "    model=AdaBoostRegressor(n_estimators=int(params_best['n_estimators'])\n",
    "            ,learning_rate=params_best['learning_rate']\n",
    "           )\n",
    "    cv=KFold(n_splits=10,shuffle=True,random_state=99)\n",
    "    validate_loss=cross_validate(model,X_train,y_train\n",
    "                                   ,cv=cv\n",
    "                                   ,scoring='neg_root_mean_squared_error'\n",
    "                                   ,n_jobs=-1\n",
    "                                  )\n",
    "    \n",
    "    return np.mean(abs(validate_loss['test_score']))"
   ]
  },
  {
   "cell_type": "code",
   "execution_count": 16,
   "id": "35999842",
   "metadata": {},
   "outputs": [
    {
     "name": "stdout",
     "output_type": "stream",
     "text": [
      "|   iter    |  target   | learni... | n_esti... |\n",
      "-------------------------------------------------\n",
      "| \u001b[0m1        \u001b[0m | \u001b[0m0.06383  \u001b[0m | \u001b[0m0.6719   \u001b[0m | \u001b[0m2.85e+03 \u001b[0m |\n",
      "| \u001b[0m2        \u001b[0m | \u001b[0m0.06322  \u001b[0m | \u001b[0m0.8248   \u001b[0m | \u001b[0m932.1    \u001b[0m |\n",
      "| \u001b[0m3        \u001b[0m | \u001b[0m0.0635   \u001b[0m | \u001b[0m0.8074   \u001b[0m | \u001b[0m3.176e+03\u001b[0m |\n",
      "| \u001b[0m4        \u001b[0m | \u001b[0m0.06232  \u001b[0m | \u001b[0m0.298    \u001b[0m | \u001b[0m996.1    \u001b[0m |\n",
      "| \u001b[0m5        \u001b[0m | \u001b[0m0.06266  \u001b[0m | \u001b[0m0.9896   \u001b[0m | \u001b[0m828.7    \u001b[0m |\n",
      "| \u001b[0m6        \u001b[0m | \u001b[0m0.06361  \u001b[0m | \u001b[0m0.7693   \u001b[0m | \u001b[0m3.936e+03\u001b[0m |\n",
      "| \u001b[95m7        \u001b[0m | \u001b[95m0.06413  \u001b[0m | \u001b[95m0.3777   \u001b[0m | \u001b[95m2.875e+03\u001b[0m |\n",
      "| \u001b[0m8        \u001b[0m | \u001b[0m0.06345  \u001b[0m | \u001b[0m0.9281   \u001b[0m | \u001b[0m2.461e+03\u001b[0m |\n",
      "| \u001b[0m9        \u001b[0m | \u001b[0m0.06344  \u001b[0m | \u001b[0m0.973    \u001b[0m | \u001b[0m3.003e+03\u001b[0m |\n",
      "| \u001b[0m10       \u001b[0m | \u001b[0m0.06341  \u001b[0m | \u001b[0m0.09443  \u001b[0m | \u001b[0m4.216e+03\u001b[0m |\n",
      "| \u001b[0m11       \u001b[0m | \u001b[0m0.06394  \u001b[0m | \u001b[0m0.2123   \u001b[0m | \u001b[0m3.128e+03\u001b[0m |\n",
      "| \u001b[0m12       \u001b[0m | \u001b[0m0.06406  \u001b[0m | \u001b[0m0.2927   \u001b[0m | \u001b[0m4.228e+03\u001b[0m |\n",
      "| \u001b[0m13       \u001b[0m | \u001b[0m0.06329  \u001b[0m | \u001b[0m0.8274   \u001b[0m | \u001b[0m1.731e+03\u001b[0m |\n",
      "| \u001b[0m14       \u001b[0m | \u001b[0m0.06303  \u001b[0m | \u001b[0m0.6445   \u001b[0m | \u001b[0m1.2e+03  \u001b[0m |\n",
      "| \u001b[0m15       \u001b[0m | \u001b[0m0.0632   \u001b[0m | \u001b[0m0.4118   \u001b[0m | \u001b[0m1.207e+03\u001b[0m |\n",
      "| \u001b[0m16       \u001b[0m | \u001b[0m0.06221  \u001b[0m | \u001b[0m0.1447   \u001b[0m | \u001b[0m1.691e+03\u001b[0m |\n",
      "| \u001b[0m17       \u001b[0m | \u001b[0m0.06333  \u001b[0m | \u001b[0m0.4767   \u001b[0m | \u001b[0m1.126e+03\u001b[0m |\n",
      "| \u001b[0m18       \u001b[0m | \u001b[0m0.06129  \u001b[0m | \u001b[0m0.2356   \u001b[0m | \u001b[0m827.5    \u001b[0m |\n",
      "| \u001b[0m19       \u001b[0m | \u001b[0m0.06342  \u001b[0m | \u001b[0m0.8978   \u001b[0m | \u001b[0m3.119e+03\u001b[0m |\n",
      "| \u001b[95m20       \u001b[0m | \u001b[95m0.06415  \u001b[0m | \u001b[95m0.1682   \u001b[0m | \u001b[95m4.701e+03\u001b[0m |\n",
      "| \u001b[0m21       \u001b[0m | \u001b[0m0.06369  \u001b[0m | \u001b[0m0.08986  \u001b[0m | \u001b[0m4.702e+03\u001b[0m |\n",
      "| \u001b[0m22       \u001b[0m | \u001b[0m0.06376  \u001b[0m | \u001b[0m0.9407   \u001b[0m | \u001b[0m4.7e+03  \u001b[0m |\n",
      "| \u001b[0m23       \u001b[0m | \u001b[0m0.06401  \u001b[0m | \u001b[0m0.2793   \u001b[0m | \u001b[0m2.874e+03\u001b[0m |\n",
      "| \u001b[95m24       \u001b[0m | \u001b[95m0.06415  \u001b[0m | \u001b[95m0.2963   \u001b[0m | \u001b[95m4.229e+03\u001b[0m |\n",
      "| \u001b[0m25       \u001b[0m | \u001b[0m0.06268  \u001b[0m | \u001b[0m0.08657  \u001b[0m | \u001b[0m2.878e+03\u001b[0m |\n",
      "| \u001b[95m26       \u001b[0m | \u001b[95m0.0643   \u001b[0m | \u001b[95m0.3981   \u001b[0m | \u001b[95m4.231e+03\u001b[0m |\n",
      "| \u001b[0m27       \u001b[0m | \u001b[0m0.06045  \u001b[0m | \u001b[0m0.03396  \u001b[0m | \u001b[0m4.233e+03\u001b[0m |\n",
      "| \u001b[0m28       \u001b[0m | \u001b[0m0.06345  \u001b[0m | \u001b[0m0.9356   \u001b[0m | \u001b[0m4.23e+03 \u001b[0m |\n",
      "| \u001b[0m29       \u001b[0m | \u001b[0m0.06218  \u001b[0m | \u001b[0m0.05065  \u001b[0m | \u001b[0m4.23e+03 \u001b[0m |\n",
      "| \u001b[0m30       \u001b[0m | \u001b[0m0.06419  \u001b[0m | \u001b[0m0.6295   \u001b[0m | \u001b[0m4.825e+03\u001b[0m |\n",
      "| \u001b[0m31       \u001b[0m | \u001b[0m0.06378  \u001b[0m | \u001b[0m0.6078   \u001b[0m | \u001b[0m2.213e+03\u001b[0m |\n",
      "| \u001b[0m32       \u001b[0m | \u001b[0m0.0628   \u001b[0m | \u001b[0m0.682    \u001b[0m | \u001b[0m874.0    \u001b[0m |\n",
      "| \u001b[0m33       \u001b[0m | \u001b[0m0.06394  \u001b[0m | \u001b[0m0.724    \u001b[0m | \u001b[0m3.481e+03\u001b[0m |\n",
      "| \u001b[0m34       \u001b[0m | \u001b[0m0.06361  \u001b[0m | \u001b[0m0.5692   \u001b[0m | \u001b[0m2.247e+03\u001b[0m |\n",
      "| \u001b[0m35       \u001b[0m | \u001b[0m0.06378  \u001b[0m | \u001b[0m0.6938   \u001b[0m | \u001b[0m4.222e+03\u001b[0m |\n",
      "| \u001b[0m36       \u001b[0m | \u001b[0m0.06142  \u001b[0m | \u001b[0m0.07827  \u001b[0m | \u001b[0m2.435e+03\u001b[0m |\n",
      "| \u001b[0m37       \u001b[0m | \u001b[0m0.06416  \u001b[0m | \u001b[0m0.3045   \u001b[0m | \u001b[0m3.408e+03\u001b[0m |\n",
      "| \u001b[0m38       \u001b[0m | \u001b[0m0.0631   \u001b[0m | \u001b[0m0.8412   \u001b[0m | \u001b[0m1.568e+03\u001b[0m |\n",
      "| \u001b[0m39       \u001b[0m | \u001b[0m0.06384  \u001b[0m | \u001b[0m0.6911   \u001b[0m | \u001b[0m4.067e+03\u001b[0m |\n",
      "| \u001b[0m40       \u001b[0m | \u001b[0m0.0617   \u001b[0m | \u001b[0m0.1856   \u001b[0m | \u001b[0m1.178e+03\u001b[0m |\n",
      "| \u001b[0m41       \u001b[0m | \u001b[0m0.06328  \u001b[0m | \u001b[0m0.935    \u001b[0m | \u001b[0m2.755e+03\u001b[0m |\n",
      "| \u001b[0m42       \u001b[0m | \u001b[0m0.06419  \u001b[0m | \u001b[0m0.4694   \u001b[0m | \u001b[0m3.701e+03\u001b[0m |\n",
      "| \u001b[0m43       \u001b[0m | \u001b[0m0.05608  \u001b[0m | \u001b[0m0.01252  \u001b[0m | \u001b[0m3.492e+03\u001b[0m |\n",
      "| \u001b[0m44       \u001b[0m | \u001b[0m0.06389  \u001b[0m | \u001b[0m0.6631   \u001b[0m | \u001b[0m4.222e+03\u001b[0m |\n",
      "| \u001b[0m45       \u001b[0m | \u001b[0m0.06412  \u001b[0m | \u001b[0m0.633    \u001b[0m | \u001b[0m4.229e+03\u001b[0m |\n",
      "| \u001b[0m46       \u001b[0m | \u001b[0m0.06398  \u001b[0m | \u001b[0m0.2507   \u001b[0m | \u001b[0m4.223e+03\u001b[0m |\n",
      "| \u001b[0m47       \u001b[0m | \u001b[0m0.06398  \u001b[0m | \u001b[0m0.6192   \u001b[0m | \u001b[0m3.702e+03\u001b[0m |\n",
      "| \u001b[0m48       \u001b[0m | \u001b[0m0.06409  \u001b[0m | \u001b[0m0.1676   \u001b[0m | \u001b[0m4.824e+03\u001b[0m |\n",
      "| \u001b[0m49       \u001b[0m | \u001b[0m0.06421  \u001b[0m | \u001b[0m0.4046   \u001b[0m | \u001b[0m3.407e+03\u001b[0m |\n",
      "| \u001b[0m50       \u001b[0m | \u001b[0m0.06369  \u001b[0m | \u001b[0m0.8496   \u001b[0m | \u001b[0m3.7e+03  \u001b[0m |\n",
      "| \u001b[0m51       \u001b[0m | \u001b[0m0.06401  \u001b[0m | \u001b[0m0.6412   \u001b[0m | \u001b[0m3.406e+03\u001b[0m |\n",
      "| \u001b[0m52       \u001b[0m | \u001b[0m0.06349  \u001b[0m | \u001b[0m0.9349   \u001b[0m | \u001b[0m3.41e+03 \u001b[0m |\n",
      "| \u001b[0m53       \u001b[0m | \u001b[0m0.06367  \u001b[0m | \u001b[0m0.8696   \u001b[0m | \u001b[0m4.826e+03\u001b[0m |\n",
      "| \u001b[0m54       \u001b[0m | \u001b[0m0.06358  \u001b[0m | \u001b[0m0.1298   \u001b[0m | \u001b[0m3.482e+03\u001b[0m |\n",
      "| \u001b[0m55       \u001b[0m | \u001b[0m0.06364  \u001b[0m | \u001b[0m0.9103   \u001b[0m | \u001b[0m4.822e+03\u001b[0m |\n",
      "| \u001b[0m56       \u001b[0m | \u001b[0m0.06399  \u001b[0m | \u001b[0m0.5836   \u001b[0m | \u001b[0m4.226e+03\u001b[0m |\n",
      "| \u001b[0m57       \u001b[0m | \u001b[0m0.06318  \u001b[0m | \u001b[0m0.1216   \u001b[0m | \u001b[0m3.127e+03\u001b[0m |\n",
      "| \u001b[0m58       \u001b[0m | \u001b[0m0.06346  \u001b[0m | \u001b[0m0.9313   \u001b[0m | \u001b[0m3.479e+03\u001b[0m |\n",
      "| \u001b[0m59       \u001b[0m | \u001b[0m0.06407  \u001b[0m | \u001b[0m0.515    \u001b[0m | \u001b[0m3.13e+03 \u001b[0m |\n",
      "| \u001b[0m60       \u001b[0m | \u001b[0m0.06388  \u001b[0m | \u001b[0m0.2779   \u001b[0m | \u001b[0m3.131e+03\u001b[0m |\n",
      "| \u001b[0m61       \u001b[0m | \u001b[0m0.06344  \u001b[0m | \u001b[0m0.9625   \u001b[0m | \u001b[0m2.872e+03\u001b[0m |\n",
      "| \u001b[0m62       \u001b[0m | \u001b[0m0.06368  \u001b[0m | \u001b[0m0.1023   \u001b[0m | \u001b[0m4.066e+03\u001b[0m |\n",
      "| \u001b[0m63       \u001b[0m | \u001b[0m0.06406  \u001b[0m | \u001b[0m0.1931   \u001b[0m | \u001b[0m3.404e+03\u001b[0m |\n",
      "| \u001b[0m64       \u001b[0m | \u001b[0m0.06368  \u001b[0m | \u001b[0m0.8229   \u001b[0m | \u001b[0m3.403e+03\u001b[0m |\n",
      "| \u001b[0m65       \u001b[0m | \u001b[0m0.06415  \u001b[0m | \u001b[0m0.3828   \u001b[0m | \u001b[0m2.848e+03\u001b[0m |\n",
      "| \u001b[0m66       \u001b[0m | \u001b[0m0.06387  \u001b[0m | \u001b[0m0.2137   \u001b[0m | \u001b[0m2.847e+03\u001b[0m |\n",
      "| \u001b[0m67       \u001b[0m | \u001b[0m0.06422  \u001b[0m | \u001b[0m0.2424   \u001b[0m | \u001b[0m4.069e+03\u001b[0m |\n",
      "| \u001b[0m68       \u001b[0m | \u001b[0m0.06362  \u001b[0m | \u001b[0m0.1123   \u001b[0m | \u001b[0m4.07e+03 \u001b[0m |\n",
      "| \u001b[0m69       \u001b[0m | \u001b[0m0.05622  \u001b[0m | \u001b[0m0.02183  \u001b[0m | \u001b[0m2.215e+03\u001b[0m |\n",
      "| \u001b[0m70       \u001b[0m | \u001b[0m0.0638   \u001b[0m | \u001b[0m0.5145   \u001b[0m | \u001b[0m2.212e+03\u001b[0m |\n",
      "| \u001b[0m71       \u001b[0m | \u001b[0m0.0642   \u001b[0m | \u001b[0m0.4924   \u001b[0m | \u001b[0m3.704e+03\u001b[0m |\n",
      "| \u001b[0m72       \u001b[0m | \u001b[0m0.05816  \u001b[0m | \u001b[0m0.02341  \u001b[0m | \u001b[0m3.706e+03\u001b[0m |\n",
      "| \u001b[0m73       \u001b[0m | \u001b[0m0.06403  \u001b[0m | \u001b[0m0.6242   \u001b[0m | \u001b[0m3.133e+03\u001b[0m |\n",
      "| \u001b[0m74       \u001b[0m | \u001b[0m0.06408  \u001b[0m | \u001b[0m0.6096   \u001b[0m | \u001b[0m3.136e+03\u001b[0m |\n",
      "| \u001b[0m75       \u001b[0m | \u001b[0m0.06403  \u001b[0m | \u001b[0m0.3948   \u001b[0m | \u001b[0m3.137e+03\u001b[0m |\n",
      "| \u001b[0m76       \u001b[0m | \u001b[0m0.06419  \u001b[0m | \u001b[0m0.625    \u001b[0m | \u001b[0m3.14e+03 \u001b[0m |\n",
      "| \u001b[0m77       \u001b[0m | \u001b[0m0.06379  \u001b[0m | \u001b[0m0.5961   \u001b[0m | \u001b[0m3.142e+03\u001b[0m |\n",
      "| \u001b[0m78       \u001b[0m | \u001b[0m0.06357  \u001b[0m | \u001b[0m0.1338   \u001b[0m | \u001b[0m3.144e+03\u001b[0m |\n",
      "| \u001b[0m79       \u001b[0m | \u001b[0m0.06402  \u001b[0m | \u001b[0m0.2548   \u001b[0m | \u001b[0m2.852e+03\u001b[0m |\n",
      "| \u001b[0m80       \u001b[0m | \u001b[0m0.06357  \u001b[0m | \u001b[0m0.1858   \u001b[0m | \u001b[0m2.854e+03\u001b[0m |\n",
      "| \u001b[0m81       \u001b[0m | \u001b[0m0.06395  \u001b[0m | \u001b[0m0.5308   \u001b[0m | \u001b[0m2.845e+03\u001b[0m |\n",
      "| \u001b[0m82       \u001b[0m | \u001b[0m0.06001  \u001b[0m | \u001b[0m0.04586  \u001b[0m | \u001b[0m2.843e+03\u001b[0m |\n",
      "| \u001b[0m83       \u001b[0m | \u001b[0m0.05639  \u001b[0m | \u001b[0m0.008181 \u001b[0m | \u001b[0m3.141e+03\u001b[0m |\n",
      "| \u001b[0m84       \u001b[0m | \u001b[0m0.06363  \u001b[0m | \u001b[0m0.6291   \u001b[0m | \u001b[0m3.138e+03\u001b[0m |\n",
      "| \u001b[0m85       \u001b[0m | \u001b[0m0.06408  \u001b[0m | \u001b[0m0.5608   \u001b[0m | \u001b[0m3.136e+03\u001b[0m |\n",
      "| \u001b[0m86       \u001b[0m | \u001b[0m0.06403  \u001b[0m | \u001b[0m0.4837   \u001b[0m | \u001b[0m3.703e+03\u001b[0m |\n",
      "| \u001b[0m87       \u001b[0m | \u001b[0m0.06311  \u001b[0m | \u001b[0m0.07805  \u001b[0m | \u001b[0m4.068e+03\u001b[0m |\n",
      "| \u001b[0m88       \u001b[0m | \u001b[0m0.0634   \u001b[0m | \u001b[0m0.9595   \u001b[0m | \u001b[0m3.134e+03\u001b[0m |\n",
      "| \u001b[0m89       \u001b[0m | \u001b[0m0.06374  \u001b[0m | \u001b[0m0.7554   \u001b[0m | \u001b[0m3.143e+03\u001b[0m |\n",
      "| \u001b[0m90       \u001b[0m | \u001b[0m0.06346  \u001b[0m | \u001b[0m0.8766   \u001b[0m | \u001b[0m2.846e+03\u001b[0m |\n",
      "| \u001b[95m91       \u001b[0m | \u001b[95m0.06438  \u001b[0m | \u001b[95m0.306    \u001b[0m | \u001b[95m4.225e+03\u001b[0m |\n",
      "| \u001b[0m92       \u001b[0m | \u001b[0m0.06297  \u001b[0m | \u001b[0m0.06116  \u001b[0m | \u001b[0m4.699e+03\u001b[0m |\n",
      "| \u001b[0m93       \u001b[0m | \u001b[0m0.06344  \u001b[0m | \u001b[0m0.9271   \u001b[0m | \u001b[0m4.225e+03\u001b[0m |\n",
      "| \u001b[0m94       \u001b[0m | \u001b[0m0.06367  \u001b[0m | \u001b[0m0.2821   \u001b[0m | \u001b[0m2.21e+03 \u001b[0m |\n",
      "| \u001b[0m95       \u001b[0m | \u001b[0m0.0633   \u001b[0m | \u001b[0m0.9936   \u001b[0m | \u001b[0m2.853e+03\u001b[0m |\n",
      "| \u001b[0m96       \u001b[0m | \u001b[0m0.06336  \u001b[0m | \u001b[0m0.9296   \u001b[0m | \u001b[0m2.209e+03\u001b[0m |\n",
      "| \u001b[0m97       \u001b[0m | \u001b[0m0.06343  \u001b[0m | \u001b[0m0.9849   \u001b[0m | \u001b[0m3.401e+03\u001b[0m |\n",
      "| \u001b[0m98       \u001b[0m | \u001b[0m0.06354  \u001b[0m | \u001b[0m0.9958   \u001b[0m | \u001b[0m4.064e+03\u001b[0m |\n",
      "| \u001b[0m99       \u001b[0m | \u001b[0m0.06358  \u001b[0m | \u001b[0m0.2322   \u001b[0m | \u001b[0m2.245e+03\u001b[0m |\n",
      "| \u001b[0m100      \u001b[0m | \u001b[0m0.06337  \u001b[0m | \u001b[0m0.09715  \u001b[0m | \u001b[0m3.935e+03\u001b[0m |\n",
      "| \u001b[0m101      \u001b[0m | \u001b[0m0.06314  \u001b[0m | \u001b[0m0.9938   \u001b[0m | \u001b[0m2.875e+03\u001b[0m |\n",
      "| \u001b[0m102      \u001b[0m | \u001b[0m0.06418  \u001b[0m | \u001b[0m0.3126   \u001b[0m | \u001b[0m3.698e+03\u001b[0m |\n",
      "| \u001b[0m103      \u001b[0m | \u001b[0m0.06403  \u001b[0m | \u001b[0m0.4239   \u001b[0m | \u001b[0m3.697e+03\u001b[0m |\n",
      "| \u001b[0m104      \u001b[0m | \u001b[0m0.0634   \u001b[0m | \u001b[0m0.9985   \u001b[0m | \u001b[0m3.697e+03\u001b[0m |\n",
      "| \u001b[0m105      \u001b[0m | \u001b[0m0.06347  \u001b[0m | \u001b[0m0.9786   \u001b[0m | \u001b[0m3.695e+03\u001b[0m |\n",
      "| \u001b[95m106      \u001b[0m | \u001b[95m0.06445  \u001b[0m | \u001b[95m0.3057   \u001b[0m | \u001b[95m3.938e+03\u001b[0m |\n",
      "| \u001b[0m107      \u001b[0m | \u001b[0m0.06367  \u001b[0m | \u001b[0m0.829    \u001b[0m | \u001b[0m3.939e+03\u001b[0m |\n",
      "| \u001b[0m108      \u001b[0m | \u001b[0m0.06426  \u001b[0m | \u001b[0m0.1646   \u001b[0m | \u001b[0m4.828e+03\u001b[0m |\n",
      "| \u001b[0m109      \u001b[0m | \u001b[0m0.06374  \u001b[0m | \u001b[0m0.8255   \u001b[0m | \u001b[0m4.829e+03\u001b[0m |\n",
      "| \u001b[0m110      \u001b[0m | \u001b[0m0.06433  \u001b[0m | \u001b[0m0.1587   \u001b[0m | \u001b[0m4.83e+03 \u001b[0m |\n",
      "| \u001b[0m111      \u001b[0m | \u001b[0m0.06353  \u001b[0m | \u001b[0m0.9198   \u001b[0m | \u001b[0m4.832e+03\u001b[0m |\n",
      "| \u001b[0m112      \u001b[0m | \u001b[0m0.06357  \u001b[0m | \u001b[0m0.9724   \u001b[0m | \u001b[0m4.83e+03 \u001b[0m |\n",
      "| \u001b[0m113      \u001b[0m | \u001b[0m0.06392  \u001b[0m | \u001b[0m0.617    \u001b[0m | \u001b[0m2.249e+03\u001b[0m |\n",
      "| \u001b[0m114      \u001b[0m | \u001b[0m0.06325  \u001b[0m | \u001b[0m0.1805   \u001b[0m | \u001b[0m2.25e+03 \u001b[0m |\n",
      "| \u001b[0m115      \u001b[0m | \u001b[0m0.06358  \u001b[0m | \u001b[0m0.9599   \u001b[0m | \u001b[0m4.07e+03 \u001b[0m |\n",
      "| \u001b[0m116      \u001b[0m | \u001b[0m0.0635   \u001b[0m | \u001b[0m0.999    \u001b[0m | \u001b[0m4.702e+03\u001b[0m |\n",
      "| \u001b[0m117      \u001b[0m | \u001b[0m0.06386  \u001b[0m | \u001b[0m0.4303   \u001b[0m | \u001b[0m2.244e+03\u001b[0m |\n",
      "| \u001b[0m118      \u001b[0m | \u001b[0m0.06317  \u001b[0m | \u001b[0m0.9032   \u001b[0m | \u001b[0m2.242e+03\u001b[0m |\n",
      "| \u001b[0m119      \u001b[0m | \u001b[0m0.06205  \u001b[0m | \u001b[0m0.002053 \u001b[0m | \u001b[0m4.821e+03\u001b[0m |\n",
      "| \u001b[0m120      \u001b[0m | \u001b[0m0.06349  \u001b[0m | \u001b[0m0.9888   \u001b[0m | \u001b[0m2.856e+03\u001b[0m |\n",
      "=================================================\n",
      "\n",
      " best params:  {'learning_rate': 0.3056832610181354, 'n_estimators': 3937.969053746086} \n",
      " best cvscore:  0.06445282749351419\n",
      "Total time taken:  1303.3849275112152\n"
     ]
    }
   ],
   "source": [
    "# Start time\n",
    "start_time = time.time()\n",
    "\n",
    "param_grid_simple={'n_estimators':(800,5000)\n",
    "                   ,'learning_rate':( 0.001,0.999)\n",
    "                  }\n",
    "\n",
    "params_best,score_best=param_bayes_opt(20,100)\n",
    "\n",
    "params_best \n",
    "score_best \n",
    "validation_score=bayes_opt_validation(params_best) \n",
    "validation_score # day\n",
    "# End time\n",
    "end_time = time.time()\n",
    "# Calculate total time\n",
    "total_time = end_time - start_time\n",
    "print(\"Total time taken: \", total_time)"
   ]
  },
  {
   "cell_type": "code",
   "execution_count": 18,
   "id": "373199be",
   "metadata": {},
   "outputs": [
    {
     "data": {
      "text/html": [
       "<style>#sk-container-id-1 {color: black;background-color: white;}#sk-container-id-1 pre{padding: 0;}#sk-container-id-1 div.sk-toggleable {background-color: white;}#sk-container-id-1 label.sk-toggleable__label {cursor: pointer;display: block;width: 100%;margin-bottom: 0;padding: 0.3em;box-sizing: border-box;text-align: center;}#sk-container-id-1 label.sk-toggleable__label-arrow:before {content: \"▸\";float: left;margin-right: 0.25em;color: #696969;}#sk-container-id-1 label.sk-toggleable__label-arrow:hover:before {color: black;}#sk-container-id-1 div.sk-estimator:hover label.sk-toggleable__label-arrow:before {color: black;}#sk-container-id-1 div.sk-toggleable__content {max-height: 0;max-width: 0;overflow: hidden;text-align: left;background-color: #f0f8ff;}#sk-container-id-1 div.sk-toggleable__content pre {margin: 0.2em;color: black;border-radius: 0.25em;background-color: #f0f8ff;}#sk-container-id-1 input.sk-toggleable__control:checked~div.sk-toggleable__content {max-height: 200px;max-width: 100%;overflow: auto;}#sk-container-id-1 input.sk-toggleable__control:checked~label.sk-toggleable__label-arrow:before {content: \"▾\";}#sk-container-id-1 div.sk-estimator input.sk-toggleable__control:checked~label.sk-toggleable__label {background-color: #d4ebff;}#sk-container-id-1 div.sk-label input.sk-toggleable__control:checked~label.sk-toggleable__label {background-color: #d4ebff;}#sk-container-id-1 input.sk-hidden--visually {border: 0;clip: rect(1px 1px 1px 1px);clip: rect(1px, 1px, 1px, 1px);height: 1px;margin: -1px;overflow: hidden;padding: 0;position: absolute;width: 1px;}#sk-container-id-1 div.sk-estimator {font-family: monospace;background-color: #f0f8ff;border: 1px dotted black;border-radius: 0.25em;box-sizing: border-box;margin-bottom: 0.5em;}#sk-container-id-1 div.sk-estimator:hover {background-color: #d4ebff;}#sk-container-id-1 div.sk-parallel-item::after {content: \"\";width: 100%;border-bottom: 1px solid gray;flex-grow: 1;}#sk-container-id-1 div.sk-label:hover label.sk-toggleable__label {background-color: #d4ebff;}#sk-container-id-1 div.sk-serial::before {content: \"\";position: absolute;border-left: 1px solid gray;box-sizing: border-box;top: 0;bottom: 0;left: 50%;z-index: 0;}#sk-container-id-1 div.sk-serial {display: flex;flex-direction: column;align-items: center;background-color: white;padding-right: 0.2em;padding-left: 0.2em;position: relative;}#sk-container-id-1 div.sk-item {position: relative;z-index: 1;}#sk-container-id-1 div.sk-parallel {display: flex;align-items: stretch;justify-content: center;background-color: white;position: relative;}#sk-container-id-1 div.sk-item::before, #sk-container-id-1 div.sk-parallel-item::before {content: \"\";position: absolute;border-left: 1px solid gray;box-sizing: border-box;top: 0;bottom: 0;left: 50%;z-index: -1;}#sk-container-id-1 div.sk-parallel-item {display: flex;flex-direction: column;z-index: 1;position: relative;background-color: white;}#sk-container-id-1 div.sk-parallel-item:first-child::after {align-self: flex-end;width: 50%;}#sk-container-id-1 div.sk-parallel-item:last-child::after {align-self: flex-start;width: 50%;}#sk-container-id-1 div.sk-parallel-item:only-child::after {width: 0;}#sk-container-id-1 div.sk-dashed-wrapped {border: 1px dashed gray;margin: 0 0.4em 0.5em 0.4em;box-sizing: border-box;padding-bottom: 0.4em;background-color: white;}#sk-container-id-1 div.sk-label label {font-family: monospace;font-weight: bold;display: inline-block;line-height: 1.2em;}#sk-container-id-1 div.sk-label-container {text-align: center;}#sk-container-id-1 div.sk-container {/* jupyter's `normalize.less` sets `[hidden] { display: none; }` but bootstrap.min.css set `[hidden] { display: none !important; }` so we also need the `!important` here to be able to override the default hidden behavior on the sphinx rendered scikit-learn.org. See: https://github.com/scikit-learn/scikit-learn/issues/21755 */display: inline-block !important;position: relative;}#sk-container-id-1 div.sk-text-repr-fallback {display: none;}</style><div id=\"sk-container-id-1\" class=\"sk-top-container\"><div class=\"sk-text-repr-fallback\"><pre>AdaBoostRegressor(learning_rate=0.3056832610181354, n_estimators=3937)</pre><b>In a Jupyter environment, please rerun this cell to show the HTML representation or trust the notebook. <br />On GitHub, the HTML representation is unable to render, please try loading this page with nbviewer.org.</b></div><div class=\"sk-container\" hidden><div class=\"sk-item\"><div class=\"sk-estimator sk-toggleable\"><input class=\"sk-toggleable__control sk-hidden--visually\" id=\"sk-estimator-id-1\" type=\"checkbox\" checked><label for=\"sk-estimator-id-1\" class=\"sk-toggleable__label sk-toggleable__label-arrow\">AdaBoostRegressor</label><div class=\"sk-toggleable__content\"><pre>AdaBoostRegressor(learning_rate=0.3056832610181354, n_estimators=3937)</pre></div></div></div></div></div>"
      ],
      "text/plain": [
       "AdaBoostRegressor(learning_rate=0.3056832610181354, n_estimators=3937)"
      ]
     },
     "execution_count": 18,
     "metadata": {},
     "output_type": "execute_result"
    }
   ],
   "source": [
    "params_best['n_estimators'] = int(params_best['n_estimators'])\n",
    "ada_reg = AdaBoostRegressor(**params_best)\n",
    "ada_reg.fit(X_train, y_train)"
   ]
  },
  {
   "cell_type": "code",
   "execution_count": 19,
   "id": "5a8bfdd1",
   "metadata": {},
   "outputs": [],
   "source": [
    "y_pred= ada_reg.predict(X_test)\n",
    "y_pred1=ada_reg.predict(X_val)\n",
    "y_pred2=ada_reg.predict(X_train)"
   ]
  },
  {
   "cell_type": "code",
   "execution_count": 20,
   "id": "df5fead8",
   "metadata": {},
   "outputs": [
    {
     "name": "stdout",
     "output_type": "stream",
     "text": [
      "mean_absolute_error: 0.05404001982021308\n",
      "mean_squared_error: 0.004151140934017596\n",
      "rmse: 0.064429348390447\n",
      "r2 score: 0.9167420775106022\n"
     ]
    }
   ],
   "source": [
    "print(\"mean_absolute_error:\", mean_absolute_error(y_val, y_pred1))\n",
    "print(\"mean_squared_error:\", mean_squared_error(y_val, y_pred1))\n",
    "print(\"rmse:\", sqrt(mean_squared_error(y_val, y_pred1)))\n",
    "print(\"r2 score:\", r2_score(y_val, y_pred1))"
   ]
  },
  {
   "cell_type": "code",
   "execution_count": 21,
   "id": "a3fe3ba9",
   "metadata": {},
   "outputs": [
    {
     "name": "stdout",
     "output_type": "stream",
     "text": [
      "mean_absolute_error: 0.05477761333364791\n",
      "mean_squared_error: 0.0041791775382707145\n",
      "rmse: 0.06464655859572661\n",
      "r2 score: 0.9145629702432646\n"
     ]
    }
   ],
   "source": [
    "print(\"mean_absolute_error:\", mean_absolute_error(y_train, y_pred2))\n",
    "print(\"mean_squared_error:\", mean_squared_error(y_train, y_pred2))\n",
    "print(\"rmse:\", sqrt(mean_squared_error(y_train, y_pred2)))\n",
    "print(\"r2 score:\", r2_score(y_train, y_pred2))"
   ]
  },
  {
   "cell_type": "code",
   "execution_count": 22,
   "id": "e2179297",
   "metadata": {},
   "outputs": [
    {
     "name": "stdout",
     "output_type": "stream",
     "text": [
      "mean_absolute_error: 0.05260169691237912\n",
      "mean_squared_error: 0.003900157709575931\n",
      "rmse: 0.062451242658380555\n",
      "r2 score: 0.9238706385051391\n"
     ]
    }
   ],
   "source": [
    "print(\"mean_absolute_error:\", mean_absolute_error(y_test, y_pred))\n",
    "print(\"mean_squared_error:\", mean_squared_error(y_test, y_pred))\n",
    "print(\"rmse:\", sqrt(mean_squared_error(y_test, y_pred)))\n",
    "print(\"r2 score:\", r2_score(y_test, y_pred))"
   ]
  },
  {
   "cell_type": "code",
   "execution_count": 24,
   "id": "a6121d92",
   "metadata": {},
   "outputs": [],
   "source": [
    "from yellowbrick.regressor import PredictionError"
   ]
  },
  {
   "cell_type": "code",
   "execution_count": 25,
   "id": "06f609e0",
   "metadata": {},
   "outputs": [
    {
     "name": "stderr",
     "output_type": "stream",
     "text": [
      "D:\\Conda_data\\envs\\pykan\\lib\\site-packages\\sklearn\\base.py:450: UserWarning: X does not have valid feature names, but AdaBoostRegressor was fitted with feature names\n",
      "  warnings.warn(\n"
     ]
    },
    {
     "data": {
      "image/png": "[encoded data removed]",
      "text/plain": [
       "<Figure size 800x550 with 1 Axes>"
      ]
     },
     "metadata": {},
     "output_type": "display_data"
    },
    {
     "data": {
      "text/plain": [
       "<AxesSubplot: title={'center': 'Prediction Error for AdaBoostRegressor'}, xlabel='$y$', ylabel='$\\\\hat{y}$'>"
      ]
     },
     "execution_count": 25,
     "metadata": {},
     "output_type": "execute_result"
    }
   ],
   "source": [
    "visualizer = PredictionError(ada_reg)\n",
    "\n",
    "visualizer.fit(X_train, y_train)  # Fit the training data to the visualizer\n",
    "visualizer.score(X_test, y_test)  # Evaluate the model on the test data\n",
    "visualizer.show()"
   ]
  },
  {
   "cell_type": "code",
   "execution_count": null,
   "id": "df00012a",
   "metadata": {},
   "outputs": [],
   "source": []
  }
 ],
 "metadata": {
  "kernelspec": {
   "display_name": "Python 3 (ipykernel)",
   "language": "python",
   "name": "python3"
  },
  "language_info": {
   "codemirror_mode": {
    "name": "ipython",
    "version": 3
   },
   "file_extension": ".py",
   "mimetype": "text/x-python",
   "name": "python",
   "nbconvert_exporter": "python",
   "pygments_lexer": "ipython3",
   "version": "3.9.19"
  }
 },
 "nbformat": 4,
 "nbformat_minor": 5
}
