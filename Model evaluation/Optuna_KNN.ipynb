{
 "cells": [
  {
   "cell_type": "code",
   "execution_count": 1,
   "id": "357b095b",
   "metadata": {},
   "outputs": [],
   "source": [
    "import pandas as pd\n",
    "import matplotlib.pyplot as plt\n",
    "import numpy as np\n",
    "from sklearn.model_selection import train_test_split\n",
    "import time\n",
    "from math import sqrt\n",
    "from sklearn.metrics import mean_absolute_error\n",
    "from sklearn.metrics import mean_squared_error\n",
    "from sklearn.metrics import r2_score"
   ]
  },
  {
   "cell_type": "code",
   "execution_count": 2,
   "id": "f4040213",
   "metadata": {},
   "outputs": [
    {
     "data": {
      "text/html": [
       "<div>\n",
       "<style scoped>\n",
       "    .dataframe tbody tr th:only-of-type {\n",
       "        vertical-align: middle;\n",
       "    }\n",
       "\n",
       "    .dataframe tbody tr th {\n",
       "        vertical-align: top;\n",
       "    }\n",
       "\n",
       "    .dataframe thead th {\n",
       "        text-align: right;\n",
       "    }\n",
       "</style>\n",
       "<table border=\"1\" class=\"dataframe\">\n",
       "  <thead>\n",
       "    <tr style=\"text-align: right;\">\n",
       "      <th></th>\n",
       "      <th>Number of Storeys(NS)</th>\n",
       "      <th>Height of Structure(HS)</th>\n",
       "      <th>Number of Spans(HSP)</th>\n",
       "      <th>Length of Spans (LS)</th>\n",
       "      <th>Opening percentage (OP)</th>\n",
       "      <th>Masonry wall Stiffeness Et (MS)</th>\n",
       "      <th>Period (P)</th>\n",
       "    </tr>\n",
       "  </thead>\n",
       "  <tbody>\n",
       "    <tr>\n",
       "      <th>0</th>\n",
       "      <td>1</td>\n",
       "      <td>3</td>\n",
       "      <td>2</td>\n",
       "      <td>3.0</td>\n",
       "      <td>0</td>\n",
       "      <td>2.25</td>\n",
       "      <td>0.092970</td>\n",
       "    </tr>\n",
       "    <tr>\n",
       "      <th>1</th>\n",
       "      <td>1</td>\n",
       "      <td>3</td>\n",
       "      <td>2</td>\n",
       "      <td>3.0</td>\n",
       "      <td>100</td>\n",
       "      <td>2.25</td>\n",
       "      <td>0.159750</td>\n",
       "    </tr>\n",
       "    <tr>\n",
       "      <th>2</th>\n",
       "      <td>1</td>\n",
       "      <td>3</td>\n",
       "      <td>2</td>\n",
       "      <td>4.5</td>\n",
       "      <td>0</td>\n",
       "      <td>2.25</td>\n",
       "      <td>0.094770</td>\n",
       "    </tr>\n",
       "    <tr>\n",
       "      <th>3</th>\n",
       "      <td>1</td>\n",
       "      <td>3</td>\n",
       "      <td>2</td>\n",
       "      <td>4.5</td>\n",
       "      <td>100</td>\n",
       "      <td>2.25</td>\n",
       "      <td>0.156589</td>\n",
       "    </tr>\n",
       "    <tr>\n",
       "      <th>4</th>\n",
       "      <td>1</td>\n",
       "      <td>3</td>\n",
       "      <td>2</td>\n",
       "      <td>6.0</td>\n",
       "      <td>0</td>\n",
       "      <td>2.25</td>\n",
       "      <td>0.106350</td>\n",
       "    </tr>\n",
       "    <tr>\n",
       "      <th>...</th>\n",
       "      <td>...</td>\n",
       "      <td>...</td>\n",
       "      <td>...</td>\n",
       "      <td>...</td>\n",
       "      <td>...</td>\n",
       "      <td>...</td>\n",
       "      <td>...</td>\n",
       "    </tr>\n",
       "    <tr>\n",
       "      <th>4021</th>\n",
       "      <td>22</td>\n",
       "      <td>66</td>\n",
       "      <td>6</td>\n",
       "      <td>6.0</td>\n",
       "      <td>50</td>\n",
       "      <td>25.00</td>\n",
       "      <td>1.628000</td>\n",
       "    </tr>\n",
       "    <tr>\n",
       "      <th>4022</th>\n",
       "      <td>22</td>\n",
       "      <td>66</td>\n",
       "      <td>6</td>\n",
       "      <td>6.0</td>\n",
       "      <td>75</td>\n",
       "      <td>25.00</td>\n",
       "      <td>2.714000</td>\n",
       "    </tr>\n",
       "    <tr>\n",
       "      <th>4023</th>\n",
       "      <td>22</td>\n",
       "      <td>66</td>\n",
       "      <td>6</td>\n",
       "      <td>6.0</td>\n",
       "      <td>100</td>\n",
       "      <td>25.00</td>\n",
       "      <td>2.879000</td>\n",
       "    </tr>\n",
       "    <tr>\n",
       "      <th>4024</th>\n",
       "      <td>22</td>\n",
       "      <td>66</td>\n",
       "      <td>6</td>\n",
       "      <td>7.5</td>\n",
       "      <td>0</td>\n",
       "      <td>25.00</td>\n",
       "      <td>0.602680</td>\n",
       "    </tr>\n",
       "    <tr>\n",
       "      <th>4025</th>\n",
       "      <td>22</td>\n",
       "      <td>66</td>\n",
       "      <td>6</td>\n",
       "      <td>7.5</td>\n",
       "      <td>100</td>\n",
       "      <td>25.00</td>\n",
       "      <td>3.474000</td>\n",
       "    </tr>\n",
       "  </tbody>\n",
       "</table>\n",
       "<p>4026 rows × 7 columns</p>\n",
       "</div>"
      ],
      "text/plain": [
       "      Number of Storeys(NS)  Height of Structure(HS)  Number of Spans(HSP)  \\\n",
       "0                         1                        3                     2   \n",
       "1                         1                        3                     2   \n",
       "2                         1                        3                     2   \n",
       "3                         1                        3                     2   \n",
       "4                         1                        3                     2   \n",
       "...                     ...                      ...                   ...   \n",
       "4021                     22                       66                     6   \n",
       "4022                     22                       66                     6   \n",
       "4023                     22                       66                     6   \n",
       "4024                     22                       66                     6   \n",
       "4025                     22                       66                     6   \n",
       "\n",
       "      Length of Spans (LS)  Opening percentage (OP)  \\\n",
       "0                      3.0                        0   \n",
       "1                      3.0                      100   \n",
       "2                      4.5                        0   \n",
       "3                      4.5                      100   \n",
       "4                      6.0                        0   \n",
       "...                    ...                      ...   \n",
       "4021                   6.0                       50   \n",
       "4022                   6.0                       75   \n",
       "4023                   6.0                      100   \n",
       "4024                   7.5                        0   \n",
       "4025                   7.5                      100   \n",
       "\n",
       "      Masonry wall Stiffeness Et (MS)  Period (P)  \n",
       "0                                2.25    0.092970  \n",
       "1                                2.25    0.159750  \n",
       "2                                2.25    0.094770  \n",
       "3                                2.25    0.156589  \n",
       "4                                2.25    0.106350  \n",
       "...                               ...         ...  \n",
       "4021                            25.00    1.628000  \n",
       "4022                            25.00    2.714000  \n",
       "4023                            25.00    2.879000  \n",
       "4024                            25.00    0.602680  \n",
       "4025                            25.00    3.474000  \n",
       "\n",
       "[4026 rows x 7 columns]"
      ]
     },
     "execution_count": 2,
     "metadata": {},
     "output_type": "execute_result"
    }
   ],
   "source": [
    "df=pd.read_excel(r\"../dataset/data.xlsx\",sheet_name=\"Sheet1\")\n",
    "df"
   ]
  },
  {
   "cell_type": "code",
   "execution_count": 3,
   "id": "e275a747",
   "metadata": {},
   "outputs": [
    {
     "data": {
      "text/plain": [
       "(4026, 7)"
      ]
     },
     "execution_count": 3,
     "metadata": {},
     "output_type": "execute_result"
    }
   ],
   "source": [
    "df.shape"
   ]
  },
  {
   "cell_type": "code",
   "execution_count": 4,
   "id": "fe2e8e65",
   "metadata": {},
   "outputs": [
    {
     "data": {
      "text/html": [
       "<div>\n",
       "<style scoped>\n",
       "    .dataframe tbody tr th:only-of-type {\n",
       "        vertical-align: middle;\n",
       "    }\n",
       "\n",
       "    .dataframe tbody tr th {\n",
       "        vertical-align: top;\n",
       "    }\n",
       "\n",
       "    .dataframe thead th {\n",
       "        text-align: right;\n",
       "    }\n",
       "</style>\n",
       "<table border=\"1\" class=\"dataframe\">\n",
       "  <thead>\n",
       "    <tr style=\"text-align: right;\">\n",
       "      <th></th>\n",
       "      <th>Number of Storeys(NS)</th>\n",
       "      <th>Height of Structure(HS)</th>\n",
       "      <th>Number of Spans(HSP)</th>\n",
       "      <th>Length of Spans (LS)</th>\n",
       "      <th>Opening percentage (OP)</th>\n",
       "      <th>Masonry wall Stiffeness Et (MS)</th>\n",
       "      <th>Period (P)</th>\n",
       "    </tr>\n",
       "  </thead>\n",
       "  <tbody>\n",
       "    <tr>\n",
       "      <th>0</th>\n",
       "      <td>1</td>\n",
       "      <td>3</td>\n",
       "      <td>2</td>\n",
       "      <td>3.0</td>\n",
       "      <td>0</td>\n",
       "      <td>2.25</td>\n",
       "      <td>0.092970</td>\n",
       "    </tr>\n",
       "    <tr>\n",
       "      <th>1</th>\n",
       "      <td>1</td>\n",
       "      <td>3</td>\n",
       "      <td>2</td>\n",
       "      <td>3.0</td>\n",
       "      <td>100</td>\n",
       "      <td>2.25</td>\n",
       "      <td>0.159750</td>\n",
       "    </tr>\n",
       "    <tr>\n",
       "      <th>2</th>\n",
       "      <td>1</td>\n",
       "      <td>3</td>\n",
       "      <td>2</td>\n",
       "      <td>4.5</td>\n",
       "      <td>0</td>\n",
       "      <td>2.25</td>\n",
       "      <td>0.094770</td>\n",
       "    </tr>\n",
       "    <tr>\n",
       "      <th>3</th>\n",
       "      <td>1</td>\n",
       "      <td>3</td>\n",
       "      <td>2</td>\n",
       "      <td>4.5</td>\n",
       "      <td>100</td>\n",
       "      <td>2.25</td>\n",
       "      <td>0.156589</td>\n",
       "    </tr>\n",
       "    <tr>\n",
       "      <th>4</th>\n",
       "      <td>1</td>\n",
       "      <td>3</td>\n",
       "      <td>2</td>\n",
       "      <td>6.0</td>\n",
       "      <td>0</td>\n",
       "      <td>2.25</td>\n",
       "      <td>0.106350</td>\n",
       "    </tr>\n",
       "  </tbody>\n",
       "</table>\n",
       "</div>"
      ],
      "text/plain": [
       "   Number of Storeys(NS)  Height of Structure(HS)  Number of Spans(HSP)  \\\n",
       "0                      1                        3                     2   \n",
       "1                      1                        3                     2   \n",
       "2                      1                        3                     2   \n",
       "3                      1                        3                     2   \n",
       "4                      1                        3                     2   \n",
       "\n",
       "   Length of Spans (LS)  Opening percentage (OP)  \\\n",
       "0                   3.0                        0   \n",
       "1                   3.0                      100   \n",
       "2                   4.5                        0   \n",
       "3                   4.5                      100   \n",
       "4                   6.0                        0   \n",
       "\n",
       "   Masonry wall Stiffeness Et (MS)  Period (P)  \n",
       "0                             2.25    0.092970  \n",
       "1                             2.25    0.159750  \n",
       "2                             2.25    0.094770  \n",
       "3                             2.25    0.156589  \n",
       "4                             2.25    0.106350  "
      ]
     },
     "execution_count": 4,
     "metadata": {},
     "output_type": "execute_result"
    }
   ],
   "source": [
    "df.head()"
   ]
  },
  {
   "cell_type": "code",
   "execution_count": 5,
   "id": "9e9bfd27",
   "metadata": {},
   "outputs": [
    {
     "name": "stdout",
     "output_type": "stream",
     "text": [
      "      Number of Storeys(NS)  Height of Structure(HS)  Number of Spans(HSP)  \\\n",
      "0                       0.0                      0.0                   0.0   \n",
      "1                       0.0                      0.0                   0.0   \n",
      "2                       0.0                      0.0                   0.0   \n",
      "3                       0.0                      0.0                   0.0   \n",
      "4                       0.0                      0.0                   0.0   \n",
      "...                     ...                      ...                   ...   \n",
      "4021                    1.0                      1.0                   1.0   \n",
      "4022                    1.0                      1.0                   1.0   \n",
      "4023                    1.0                      1.0                   1.0   \n",
      "4024                    1.0                      1.0                   1.0   \n",
      "4025                    1.0                      1.0                   1.0   \n",
      "\n",
      "      Length of Spans (LS)  Opening percentage (OP)  \\\n",
      "0                 0.000000                     0.00   \n",
      "1                 0.000000                     1.00   \n",
      "2                 0.333333                     0.00   \n",
      "3                 0.333333                     1.00   \n",
      "4                 0.666667                     0.00   \n",
      "...                    ...                      ...   \n",
      "4021              0.666667                     0.50   \n",
      "4022              0.666667                     0.75   \n",
      "4023              0.666667                     1.00   \n",
      "4024              1.000000                     0.00   \n",
      "4025              1.000000                     1.00   \n",
      "\n",
      "      Masonry wall Stiffeness Et (MS)  Period (P)  \n",
      "0                                 0.0    0.015051  \n",
      "1                                 0.0    0.033991  \n",
      "2                                 0.0    0.015562  \n",
      "3                                 0.0    0.033095  \n",
      "4                                 0.0    0.018846  \n",
      "...                               ...         ...  \n",
      "4021                              1.0    0.450410  \n",
      "4022                              1.0    0.758416  \n",
      "4023                              1.0    0.805213  \n",
      "4024                              1.0    0.159613  \n",
      "4025                              1.0    0.973964  \n",
      "\n",
      "[4026 rows x 7 columns]\n"
     ]
    }
   ],
   "source": [
    "import pandas as pd\n",
    "from sklearn.preprocessing import MinMaxScaler\n",
    "\n",
    "scaler = MinMaxScaler()\n",
    "normalized_data = scaler.fit_transform(df)\n",
    "normalized_df = pd.DataFrame(normalized_data, columns=df.columns)\n",
    "\n",
    "print(normalized_df)"
   ]
  },
  {
   "cell_type": "code",
   "execution_count": 6,
   "id": "9f75398b",
   "metadata": {},
   "outputs": [
    {
     "data": {
      "text/plain": [
       "Index(['Number of Storeys(NS)', 'Height of Structure(HS)',\n",
       "       'Number of Spans(HSP)', 'Length of Spans (LS)',\n",
       "       'Opening percentage (OP)', 'Masonry wall Stiffeness Et (MS)',\n",
       "       'Period (P)'],\n",
       "      dtype='object')"
      ]
     },
     "execution_count": 6,
     "metadata": {},
     "output_type": "execute_result"
    }
   ],
   "source": [
    "normalized_df.keys()"
   ]
  },
  {
   "cell_type": "code",
   "execution_count": 7,
   "id": "f15b32dd",
   "metadata": {},
   "outputs": [],
   "source": [
    "X=normalized_df.drop(\"Period (P)\" ,axis=1)"
   ]
  },
  {
   "cell_type": "code",
   "execution_count": 8,
   "id": "cd30344d",
   "metadata": {},
   "outputs": [],
   "source": [
    "y=normalized_df[\"Period (P)\"]"
   ]
  },
  {
   "cell_type": "code",
   "execution_count": 9,
   "id": "8bddc88f",
   "metadata": {},
   "outputs": [],
   "source": [
    "X_train, X_test, y_train, y_test = train_test_split(X, y, test_size=0.2, random_state=99)\n",
    "\n",
    "X_train, X_val, y_train, y_val = train_test_split(X_train, y_train, test_size=0.25, random_state=99)"
   ]
  },
  {
   "cell_type": "markdown",
   "id": "d8042ce6",
   "metadata": {},
   "source": [
    "# knn"
   ]
  },
  {
   "cell_type": "code",
   "execution_count": 10,
   "id": "cb6264f4",
   "metadata": {
    "scrolled": true
   },
   "outputs": [
    {
     "name": "stderr",
     "output_type": "stream",
     "text": [
      "[I 2024-01-01 10:57:10,847] A new study created in memory with name: no-name-9a24f874-4793-403b-b415-af03194b7462\n",
      "[I 2024-01-01 10:57:10,950] Trial 0 finished with value: 0.0008373157957402373 and parameters: {'n_neighbors': 12, 'weights': 'uniform', 'p': 1}. Best is trial 0 with value: 0.0008373157957402373.\n",
      "[I 2024-01-01 10:57:11,039] Trial 1 finished with value: 0.0007004489612332597 and parameters: {'n_neighbors': 9, 'weights': 'uniform', 'p': 2}. Best is trial 1 with value: 0.0007004489612332597.\n",
      "[I 2024-01-01 10:57:11,143] Trial 2 finished with value: 0.0006283106057929841 and parameters: {'n_neighbors': 7, 'weights': 'uniform', 'p': 2}. Best is trial 2 with value: 0.0006283106057929841.\n",
      "[I 2024-01-01 10:57:11,241] Trial 3 finished with value: 0.0005025233897546657 and parameters: {'n_neighbors': 9, 'weights': 'distance', 'p': 1}. Best is trial 3 with value: 0.0005025233897546657.\n",
      "[I 2024-01-01 10:57:11,347] Trial 4 finished with value: 0.0007896323535511032 and parameters: {'n_neighbors': 11, 'weights': 'uniform', 'p': 2}. Best is trial 3 with value: 0.0005025233897546657.\n",
      "[I 2024-01-01 10:57:11,448] Trial 5 finished with value: 0.00044420875344535805 and parameters: {'n_neighbors': 5, 'weights': 'distance', 'p': 2}. Best is trial 5 with value: 0.00044420875344535805.\n",
      "[I 2024-01-01 10:57:11,532] Trial 6 finished with value: 0.000558797800543008 and parameters: {'n_neighbors': 5, 'weights': 'uniform', 'p': 2}. Best is trial 5 with value: 0.00044420875344535805.\n",
      "[I 2024-01-01 10:57:11,631] Trial 7 finished with value: 0.0005727911283704319 and parameters: {'n_neighbors': 12, 'weights': 'distance', 'p': 1}. Best is trial 5 with value: 0.00044420875344535805.\n",
      "[I 2024-01-01 10:57:11,716] Trial 8 finished with value: 0.0005727911283704319 and parameters: {'n_neighbors': 12, 'weights': 'distance', 'p': 1}. Best is trial 5 with value: 0.00044420875344535805.\n",
      "[I 2024-01-01 10:57:11,816] Trial 9 finished with value: 0.0004551220840733972 and parameters: {'n_neighbors': 4, 'weights': 'distance', 'p': 1}. Best is trial 5 with value: 0.00044420875344535805.\n",
      "[I 2024-01-01 10:57:11,914] Trial 10 finished with value: 0.0006310098225147719 and parameters: {'n_neighbors': 15, 'weights': 'distance', 'p': 2}. Best is trial 5 with value: 0.00044420875344535805.\n",
      "[I 2024-01-01 10:57:11,999] Trial 11 finished with value: 0.00048695265376473605 and parameters: {'n_neighbors': 3, 'weights': 'distance', 'p': 1}. Best is trial 5 with value: 0.00044420875344535805.\n",
      "[I 2024-01-01 10:57:12,083] Trial 12 finished with value: 0.00048695265376473605 and parameters: {'n_neighbors': 3, 'weights': 'distance', 'p': 1}. Best is trial 5 with value: 0.00044420875344535805.\n",
      "[I 2024-01-01 10:57:12,165] Trial 13 finished with value: 0.00044420875344535805 and parameters: {'n_neighbors': 5, 'weights': 'distance', 'p': 2}. Best is trial 5 with value: 0.00044420875344535805.\n",
      "[I 2024-01-01 10:57:12,247] Trial 14 finished with value: 0.0004541219554404311 and parameters: {'n_neighbors': 6, 'weights': 'distance', 'p': 2}. Best is trial 5 with value: 0.00044420875344535805.\n",
      "[I 2024-01-01 10:57:12,363] Trial 15 finished with value: 0.0004691690117971794 and parameters: {'n_neighbors': 7, 'weights': 'distance', 'p': 2}. Best is trial 5 with value: 0.00044420875344535805.\n",
      "[I 2024-01-01 10:57:12,478] Trial 16 finished with value: 0.00044420875344535805 and parameters: {'n_neighbors': 5, 'weights': 'distance', 'p': 2}. Best is trial 5 with value: 0.00044420875344535805.\n",
      "[I 2024-01-01 10:57:12,572] Trial 17 finished with value: 0.0004691690117971794 and parameters: {'n_neighbors': 7, 'weights': 'distance', 'p': 2}. Best is trial 5 with value: 0.00044420875344535805.\n",
      "[I 2024-01-01 10:57:12,679] Trial 18 finished with value: 0.00044420875344535805 and parameters: {'n_neighbors': 5, 'weights': 'distance', 'p': 2}. Best is trial 5 with value: 0.00044420875344535805.\n",
      "[I 2024-01-01 10:57:12,793] Trial 19 finished with value: 0.0004855156417208452 and parameters: {'n_neighbors': 8, 'weights': 'distance', 'p': 2}. Best is trial 5 with value: 0.00044420875344535805.\n",
      "[I 2024-01-01 10:57:12,908] Trial 20 finished with value: 0.0005278781584946914 and parameters: {'n_neighbors': 10, 'weights': 'distance', 'p': 2}. Best is trial 5 with value: 0.00044420875344535805.\n",
      "[I 2024-01-01 10:57:13,008] Trial 21 finished with value: 0.00044420875344535805 and parameters: {'n_neighbors': 5, 'weights': 'distance', 'p': 2}. Best is trial 5 with value: 0.00044420875344535805.\n",
      "[I 2024-01-01 10:57:13,114] Trial 22 finished with value: 0.0004551220840733972 and parameters: {'n_neighbors': 4, 'weights': 'distance', 'p': 2}. Best is trial 5 with value: 0.00044420875344535805.\n",
      "[I 2024-01-01 10:57:13,223] Trial 23 finished with value: 0.0004541219554404311 and parameters: {'n_neighbors': 6, 'weights': 'distance', 'p': 2}. Best is trial 5 with value: 0.00044420875344535805.\n",
      "[I 2024-01-01 10:57:13,334] Trial 24 finished with value: 0.0004551220840733972 and parameters: {'n_neighbors': 4, 'weights': 'distance', 'p': 2}. Best is trial 5 with value: 0.00044420875344535805.\n",
      "[I 2024-01-01 10:57:13,456] Trial 25 finished with value: 0.0004541219554404311 and parameters: {'n_neighbors': 6, 'weights': 'distance', 'p': 2}. Best is trial 5 with value: 0.00044420875344535805.\n",
      "[I 2024-01-01 10:57:13,547] Trial 26 finished with value: 0.0005823606376769561 and parameters: {'n_neighbors': 3, 'weights': 'uniform', 'p': 2}. Best is trial 5 with value: 0.00044420875344535805.\n",
      "[I 2024-01-01 10:57:13,635] Trial 27 finished with value: 0.0004855156417208452 and parameters: {'n_neighbors': 8, 'weights': 'distance', 'p': 2}. Best is trial 5 with value: 0.00044420875344535805.\n",
      "[I 2024-01-01 10:57:13,713] Trial 28 finished with value: 0.00044420875344535805 and parameters: {'n_neighbors': 5, 'weights': 'distance', 'p': 2}. Best is trial 5 with value: 0.00044420875344535805.\n",
      "[I 2024-01-01 10:57:13,831] Trial 29 finished with value: 0.0006631399433470783 and parameters: {'n_neighbors': 8, 'weights': 'uniform', 'p': 2}. Best is trial 5 with value: 0.00044420875344535805.\n",
      "[I 2024-01-01 10:57:13,936] Trial 30 finished with value: 0.0004551220840733972 and parameters: {'n_neighbors': 4, 'weights': 'distance', 'p': 2}. Best is trial 5 with value: 0.00044420875344535805.\n",
      "[I 2024-01-01 10:57:14,035] Trial 31 finished with value: 0.00044420875344535805 and parameters: {'n_neighbors': 5, 'weights': 'distance', 'p': 2}. Best is trial 5 with value: 0.00044420875344535805.\n",
      "[I 2024-01-01 10:57:14,132] Trial 32 finished with value: 0.0006310098225147719 and parameters: {'n_neighbors': 15, 'weights': 'distance', 'p': 2}. Best is trial 5 with value: 0.00044420875344535805.\n",
      "[I 2024-01-01 10:57:14,218] Trial 33 finished with value: 0.0004541219554404311 and parameters: {'n_neighbors': 6, 'weights': 'distance', 'p': 2}. Best is trial 5 with value: 0.00044420875344535805.\n",
      "[I 2024-01-01 10:57:14,317] Trial 34 finished with value: 0.0006283106057929841 and parameters: {'n_neighbors': 7, 'weights': 'uniform', 'p': 2}. Best is trial 5 with value: 0.00044420875344535805.\n",
      "[I 2024-01-01 10:57:14,437] Trial 35 finished with value: 0.00044420875344535805 and parameters: {'n_neighbors': 5, 'weights': 'distance', 'p': 2}. Best is trial 5 with value: 0.00044420875344535805.\n",
      "[I 2024-01-01 10:57:14,545] Trial 36 finished with value: 0.0005553646269382837 and parameters: {'n_neighbors': 4, 'weights': 'uniform', 'p': 2}. Best is trial 5 with value: 0.00044420875344535805.\n",
      "[I 2024-01-01 10:57:14,643] Trial 37 finished with value: 0.0005025233897546657 and parameters: {'n_neighbors': 9, 'weights': 'distance', 'p': 1}. Best is trial 5 with value: 0.00044420875344535805.\n",
      "[I 2024-01-01 10:57:14,729] Trial 38 finished with value: 0.0004541219554404311 and parameters: {'n_neighbors': 6, 'weights': 'distance', 'p': 2}. Best is trial 5 with value: 0.00044420875344535805.\n",
      "[I 2024-01-01 10:57:14,828] Trial 39 finished with value: 0.0005823606376769561 and parameters: {'n_neighbors': 3, 'weights': 'uniform', 'p': 2}. Best is trial 5 with value: 0.00044420875344535805.\n",
      "[I 2024-01-01 10:57:14,943] Trial 40 finished with value: 0.0006113612341007512 and parameters: {'n_neighbors': 14, 'weights': 'distance', 'p': 1}. Best is trial 5 with value: 0.00044420875344535805.\n"
     ]
    },
    {
     "name": "stderr",
     "output_type": "stream",
     "text": [
      "[I 2024-01-01 10:57:15,030] Trial 41 finished with value: 0.00044420875344535805 and parameters: {'n_neighbors': 5, 'weights': 'distance', 'p': 2}. Best is trial 5 with value: 0.00044420875344535805.\n",
      "[I 2024-01-01 10:57:15,144] Trial 42 finished with value: 0.00044420875344535805 and parameters: {'n_neighbors': 5, 'weights': 'distance', 'p': 2}. Best is trial 5 with value: 0.00044420875344535805.\n",
      "[I 2024-01-01 10:57:15,228] Trial 43 finished with value: 0.0004551220840733972 and parameters: {'n_neighbors': 4, 'weights': 'distance', 'p': 2}. Best is trial 5 with value: 0.00044420875344535805.\n",
      "[I 2024-01-01 10:57:15,327] Trial 44 finished with value: 0.0004691690117971794 and parameters: {'n_neighbors': 7, 'weights': 'distance', 'p': 2}. Best is trial 5 with value: 0.00044420875344535805.\n",
      "[I 2024-01-01 10:57:15,411] Trial 45 finished with value: 0.00044420875344535805 and parameters: {'n_neighbors': 5, 'weights': 'distance', 'p': 2}. Best is trial 5 with value: 0.00044420875344535805.\n",
      "[I 2024-01-01 10:57:15,511] Trial 46 finished with value: 0.0004541219554404311 and parameters: {'n_neighbors': 6, 'weights': 'distance', 'p': 1}. Best is trial 5 with value: 0.00044420875344535805.\n",
      "[I 2024-01-01 10:57:15,627] Trial 47 finished with value: 0.00048695265376473605 and parameters: {'n_neighbors': 3, 'weights': 'distance', 'p': 2}. Best is trial 5 with value: 0.00044420875344535805.\n",
      "[I 2024-01-01 10:57:15,740] Trial 48 finished with value: 0.00044420875344535805 and parameters: {'n_neighbors': 5, 'weights': 'distance', 'p': 2}. Best is trial 5 with value: 0.00044420875344535805.\n",
      "[I 2024-01-01 10:57:15,828] Trial 49 finished with value: 0.0005484973184532872 and parameters: {'n_neighbors': 11, 'weights': 'distance', 'p': 1}. Best is trial 5 with value: 0.00044420875344535805.\n",
      "[I 2024-01-01 10:57:15,928] Trial 50 finished with value: 0.0005930188371201351 and parameters: {'n_neighbors': 6, 'weights': 'uniform', 'p': 2}. Best is trial 5 with value: 0.00044420875344535805.\n",
      "[I 2024-01-01 10:57:16,012] Trial 51 finished with value: 0.00044420875344535805 and parameters: {'n_neighbors': 5, 'weights': 'distance', 'p': 2}. Best is trial 5 with value: 0.00044420875344535805.\n",
      "[I 2024-01-01 10:57:16,108] Trial 52 finished with value: 0.0004551220840733972 and parameters: {'n_neighbors': 4, 'weights': 'distance', 'p': 2}. Best is trial 5 with value: 0.00044420875344535805.\n",
      "[I 2024-01-01 10:57:16,210] Trial 53 finished with value: 0.0004691690117971794 and parameters: {'n_neighbors': 7, 'weights': 'distance', 'p': 2}. Best is trial 5 with value: 0.00044420875344535805.\n",
      "[I 2024-01-01 10:57:16,306] Trial 54 finished with value: 0.0004551220840733972 and parameters: {'n_neighbors': 4, 'weights': 'distance', 'p': 2}. Best is trial 5 with value: 0.00044420875344535805.\n",
      "[I 2024-01-01 10:57:16,410] Trial 55 finished with value: 0.00044420875344535805 and parameters: {'n_neighbors': 5, 'weights': 'distance', 'p': 2}. Best is trial 5 with value: 0.00044420875344535805.\n",
      "[I 2024-01-01 10:57:16,525] Trial 56 finished with value: 0.0004541219554404311 and parameters: {'n_neighbors': 6, 'weights': 'distance', 'p': 2}. Best is trial 5 with value: 0.00044420875344535805.\n",
      "[I 2024-01-01 10:57:16,658] Trial 57 finished with value: 0.0004855156417208452 and parameters: {'n_neighbors': 8, 'weights': 'distance', 'p': 2}. Best is trial 5 with value: 0.00044420875344535805.\n",
      "[I 2024-01-01 10:57:16,760] Trial 58 finished with value: 0.0004551220840733972 and parameters: {'n_neighbors': 4, 'weights': 'distance', 'p': 2}. Best is trial 5 with value: 0.00044420875344535805.\n",
      "[I 2024-01-01 10:57:16,843] Trial 59 finished with value: 0.0004691690117971794 and parameters: {'n_neighbors': 7, 'weights': 'distance', 'p': 2}. Best is trial 5 with value: 0.00044420875344535805.\n",
      "[I 2024-01-01 10:57:16,959] Trial 60 finished with value: 0.0005278781584946914 and parameters: {'n_neighbors': 10, 'weights': 'distance', 'p': 1}. Best is trial 5 with value: 0.00044420875344535805.\n",
      "[I 2024-01-01 10:57:17,044] Trial 61 finished with value: 0.00044420875344535805 and parameters: {'n_neighbors': 5, 'weights': 'distance', 'p': 2}. Best is trial 5 with value: 0.00044420875344535805.\n",
      "[I 2024-01-01 10:57:17,140] Trial 62 finished with value: 0.00044420875344535805 and parameters: {'n_neighbors': 5, 'weights': 'distance', 'p': 2}. Best is trial 5 with value: 0.00044420875344535805.\n",
      "[I 2024-01-01 10:57:17,209] Trial 63 finished with value: 0.00048695265376473605 and parameters: {'n_neighbors': 3, 'weights': 'distance', 'p': 2}. Best is trial 5 with value: 0.00044420875344535805.\n",
      "[I 2024-01-01 10:57:17,309] Trial 64 finished with value: 0.0004541219554404311 and parameters: {'n_neighbors': 6, 'weights': 'distance', 'p': 2}. Best is trial 5 with value: 0.00044420875344535805.\n",
      "[I 2024-01-01 10:57:17,409] Trial 65 finished with value: 0.0004551220840733972 and parameters: {'n_neighbors': 4, 'weights': 'distance', 'p': 2}. Best is trial 5 with value: 0.00044420875344535805.\n",
      "[I 2024-01-01 10:57:17,525] Trial 66 finished with value: 0.0005930188371201351 and parameters: {'n_neighbors': 6, 'weights': 'uniform', 'p': 2}. Best is trial 5 with value: 0.00044420875344535805.\n",
      "[I 2024-01-01 10:57:17,623] Trial 67 finished with value: 0.00044420875344535805 and parameters: {'n_neighbors': 5, 'weights': 'distance', 'p': 2}. Best is trial 5 with value: 0.00044420875344535805.\n",
      "[I 2024-01-01 10:57:17,726] Trial 68 finished with value: 0.0004551220840733972 and parameters: {'n_neighbors': 4, 'weights': 'distance', 'p': 2}. Best is trial 5 with value: 0.00044420875344535805.\n",
      "[I 2024-01-01 10:57:17,842] Trial 69 finished with value: 0.0005943313310326034 and parameters: {'n_neighbors': 13, 'weights': 'distance', 'p': 2}. Best is trial 5 with value: 0.00044420875344535805.\n",
      "[I 2024-01-01 10:57:17,943] Trial 70 finished with value: 0.00044420875344535805 and parameters: {'n_neighbors': 5, 'weights': 'distance', 'p': 2}. Best is trial 5 with value: 0.00044420875344535805.\n",
      "[I 2024-01-01 10:57:18,024] Trial 71 finished with value: 0.00044420875344535805 and parameters: {'n_neighbors': 5, 'weights': 'distance', 'p': 2}. Best is trial 5 with value: 0.00044420875344535805.\n",
      "[I 2024-01-01 10:57:18,123] Trial 72 finished with value: 0.0004541219554404311 and parameters: {'n_neighbors': 6, 'weights': 'distance', 'p': 2}. Best is trial 5 with value: 0.00044420875344535805.\n",
      "[I 2024-01-01 10:57:18,224] Trial 73 finished with value: 0.00044420875344535805 and parameters: {'n_neighbors': 5, 'weights': 'distance', 'p': 2}. Best is trial 5 with value: 0.00044420875344535805.\n",
      "[I 2024-01-01 10:57:18,322] Trial 74 finished with value: 0.00048695265376473605 and parameters: {'n_neighbors': 3, 'weights': 'distance', 'p': 2}. Best is trial 5 with value: 0.00044420875344535805.\n",
      "[I 2024-01-01 10:57:18,441] Trial 75 finished with value: 0.0004551220840733972 and parameters: {'n_neighbors': 4, 'weights': 'distance', 'p': 2}. Best is trial 5 with value: 0.00044420875344535805.\n",
      "[I 2024-01-01 10:57:18,523] Trial 76 finished with value: 0.000558797800543008 and parameters: {'n_neighbors': 5, 'weights': 'uniform', 'p': 1}. Best is trial 5 with value: 0.00044420875344535805.\n",
      "[I 2024-01-01 10:57:18,614] Trial 77 finished with value: 0.0004541219554404311 and parameters: {'n_neighbors': 6, 'weights': 'distance', 'p': 2}. Best is trial 5 with value: 0.00044420875344535805.\n",
      "[I 2024-01-01 10:57:18,693] Trial 78 finished with value: 0.0004541219554404311 and parameters: {'n_neighbors': 6, 'weights': 'distance', 'p': 2}. Best is trial 5 with value: 0.00044420875344535805.\n",
      "[I 2024-01-01 10:57:18,831] Trial 79 finished with value: 0.0004691690117971794 and parameters: {'n_neighbors': 7, 'weights': 'distance', 'p': 2}. Best is trial 5 with value: 0.00044420875344535805.\n",
      "[I 2024-01-01 10:57:18,925] Trial 80 finished with value: 0.0004551220840733972 and parameters: {'n_neighbors': 4, 'weights': 'distance', 'p': 2}. Best is trial 5 with value: 0.00044420875344535805.\n",
      "[I 2024-01-01 10:57:19,025] Trial 81 finished with value: 0.00044420875344535805 and parameters: {'n_neighbors': 5, 'weights': 'distance', 'p': 2}. Best is trial 5 with value: 0.00044420875344535805.\n",
      "[I 2024-01-01 10:57:19,127] Trial 82 finished with value: 0.00044420875344535805 and parameters: {'n_neighbors': 5, 'weights': 'distance', 'p': 2}. Best is trial 5 with value: 0.00044420875344535805.\n"
     ]
    },
    {
     "name": "stderr",
     "output_type": "stream",
     "text": [
      "[I 2024-01-01 10:57:19,212] Trial 83 finished with value: 0.0004551220840733972 and parameters: {'n_neighbors': 4, 'weights': 'distance', 'p': 2}. Best is trial 5 with value: 0.00044420875344535805.\n",
      "[I 2024-01-01 10:57:19,308] Trial 84 finished with value: 0.0004541219554404311 and parameters: {'n_neighbors': 6, 'weights': 'distance', 'p': 2}. Best is trial 5 with value: 0.00044420875344535805.\n",
      "[I 2024-01-01 10:57:19,407] Trial 85 finished with value: 0.00044420875344535805 and parameters: {'n_neighbors': 5, 'weights': 'distance', 'p': 2}. Best is trial 5 with value: 0.00044420875344535805.\n",
      "[I 2024-01-01 10:57:19,507] Trial 86 finished with value: 0.00044420875344535805 and parameters: {'n_neighbors': 5, 'weights': 'distance', 'p': 2}. Best is trial 5 with value: 0.00044420875344535805.\n",
      "[I 2024-01-01 10:57:19,591] Trial 87 finished with value: 0.0004551220840733972 and parameters: {'n_neighbors': 4, 'weights': 'distance', 'p': 1}. Best is trial 5 with value: 0.00044420875344535805.\n",
      "[I 2024-01-01 10:57:19,691] Trial 88 finished with value: 0.0005930188371201351 and parameters: {'n_neighbors': 6, 'weights': 'uniform', 'p': 2}. Best is trial 5 with value: 0.00044420875344535805.\n",
      "[I 2024-01-01 10:57:19,806] Trial 89 finished with value: 0.00044420875344535805 and parameters: {'n_neighbors': 5, 'weights': 'distance', 'p': 2}. Best is trial 5 with value: 0.00044420875344535805.\n",
      "[I 2024-01-01 10:57:19,892] Trial 90 finished with value: 0.00048695265376473605 and parameters: {'n_neighbors': 3, 'weights': 'distance', 'p': 2}. Best is trial 5 with value: 0.00044420875344535805.\n",
      "[I 2024-01-01 10:57:19,990] Trial 91 finished with value: 0.00044420875344535805 and parameters: {'n_neighbors': 5, 'weights': 'distance', 'p': 2}. Best is trial 5 with value: 0.00044420875344535805.\n",
      "[I 2024-01-01 10:57:20,074] Trial 92 finished with value: 0.0004541219554404311 and parameters: {'n_neighbors': 6, 'weights': 'distance', 'p': 2}. Best is trial 5 with value: 0.00044420875344535805.\n",
      "[I 2024-01-01 10:57:20,157] Trial 93 finished with value: 0.00044420875344535805 and parameters: {'n_neighbors': 5, 'weights': 'distance', 'p': 2}. Best is trial 5 with value: 0.00044420875344535805.\n",
      "[I 2024-01-01 10:57:20,256] Trial 94 finished with value: 0.0004551220840733972 and parameters: {'n_neighbors': 4, 'weights': 'distance', 'p': 2}. Best is trial 5 with value: 0.00044420875344535805.\n",
      "[I 2024-01-01 10:57:20,357] Trial 95 finished with value: 0.0004691690117971794 and parameters: {'n_neighbors': 7, 'weights': 'distance', 'p': 2}. Best is trial 5 with value: 0.00044420875344535805.\n",
      "[I 2024-01-01 10:57:20,457] Trial 96 finished with value: 0.0004551220840733972 and parameters: {'n_neighbors': 4, 'weights': 'distance', 'p': 2}. Best is trial 5 with value: 0.00044420875344535805.\n",
      "[I 2024-01-01 10:57:20,556] Trial 97 finished with value: 0.00044420875344535805 and parameters: {'n_neighbors': 5, 'weights': 'distance', 'p': 2}. Best is trial 5 with value: 0.00044420875344535805.\n",
      "[I 2024-01-01 10:57:20,673] Trial 98 finished with value: 0.0004541219554404311 and parameters: {'n_neighbors': 6, 'weights': 'distance', 'p': 2}. Best is trial 5 with value: 0.00044420875344535805.\n",
      "[I 2024-01-01 10:57:20,756] Trial 99 finished with value: 0.0004551220840733972 and parameters: {'n_neighbors': 4, 'weights': 'distance', 'p': 2}. Best is trial 5 with value: 0.00044420875344535805.\n"
     ]
    },
    {
     "name": "stdout",
     "output_type": "stream",
     "text": [
      "Total time taken:  9.909696340560913\n",
      "Best Parameters:  {'n_neighbors': 5, 'weights': 'distance', 'p': 2}\n",
      "Best Value:  0.00044420875344535805\n"
     ]
    },
    {
     "data": {
      "text/html": [
       "<style>#sk-container-id-1 {color: black;}#sk-container-id-1 pre{padding: 0;}#sk-container-id-1 div.sk-toggleable {background-color: white;}#sk-container-id-1 label.sk-toggleable__label {cursor: pointer;display: block;width: 100%;margin-bottom: 0;padding: 0.3em;box-sizing: border-box;text-align: center;}#sk-container-id-1 label.sk-toggleable__label-arrow:before {content: \"▸\";float: left;margin-right: 0.25em;color: #696969;}#sk-container-id-1 label.sk-toggleable__label-arrow:hover:before {color: black;}#sk-container-id-1 div.sk-estimator:hover label.sk-toggleable__label-arrow:before {color: black;}#sk-container-id-1 div.sk-toggleable__content {max-height: 0;max-width: 0;overflow: hidden;text-align: left;background-color: #f0f8ff;}#sk-container-id-1 div.sk-toggleable__content pre {margin: 0.2em;color: black;border-radius: 0.25em;background-color: #f0f8ff;}#sk-container-id-1 input.sk-toggleable__control:checked~div.sk-toggleable__content {max-height: 200px;max-width: 100%;overflow: auto;}#sk-container-id-1 input.sk-toggleable__control:checked~label.sk-toggleable__label-arrow:before {content: \"▾\";}#sk-container-id-1 div.sk-estimator input.sk-toggleable__control:checked~label.sk-toggleable__label {background-color: #d4ebff;}#sk-container-id-1 div.sk-label input.sk-toggleable__control:checked~label.sk-toggleable__label {background-color: #d4ebff;}#sk-container-id-1 input.sk-hidden--visually {border: 0;clip: rect(1px 1px 1px 1px);clip: rect(1px, 1px, 1px, 1px);height: 1px;margin: -1px;overflow: hidden;padding: 0;position: absolute;width: 1px;}#sk-container-id-1 div.sk-estimator {font-family: monospace;background-color: #f0f8ff;border: 1px dotted black;border-radius: 0.25em;box-sizing: border-box;margin-bottom: 0.5em;}#sk-container-id-1 div.sk-estimator:hover {background-color: #d4ebff;}#sk-container-id-1 div.sk-parallel-item::after {content: \"\";width: 100%;border-bottom: 1px solid gray;flex-grow: 1;}#sk-container-id-1 div.sk-label:hover label.sk-toggleable__label {background-color: #d4ebff;}#sk-container-id-1 div.sk-serial::before {content: \"\";position: absolute;border-left: 1px solid gray;box-sizing: border-box;top: 0;bottom: 0;left: 50%;z-index: 0;}#sk-container-id-1 div.sk-serial {display: flex;flex-direction: column;align-items: center;background-color: white;padding-right: 0.2em;padding-left: 0.2em;position: relative;}#sk-container-id-1 div.sk-item {position: relative;z-index: 1;}#sk-container-id-1 div.sk-parallel {display: flex;align-items: stretch;justify-content: center;background-color: white;position: relative;}#sk-container-id-1 div.sk-item::before, #sk-container-id-1 div.sk-parallel-item::before {content: \"\";position: absolute;border-left: 1px solid gray;box-sizing: border-box;top: 0;bottom: 0;left: 50%;z-index: -1;}#sk-container-id-1 div.sk-parallel-item {display: flex;flex-direction: column;z-index: 1;position: relative;background-color: white;}#sk-container-id-1 div.sk-parallel-item:first-child::after {align-self: flex-end;width: 50%;}#sk-container-id-1 div.sk-parallel-item:last-child::after {align-self: flex-start;width: 50%;}#sk-container-id-1 div.sk-parallel-item:only-child::after {width: 0;}#sk-container-id-1 div.sk-dashed-wrapped {border: 1px dashed gray;margin: 0 0.4em 0.5em 0.4em;box-sizing: border-box;padding-bottom: 0.4em;background-color: white;}#sk-container-id-1 div.sk-label label {font-family: monospace;font-weight: bold;display: inline-block;line-height: 1.2em;}#sk-container-id-1 div.sk-label-container {text-align: center;}#sk-container-id-1 div.sk-container {/* jupyter's `normalize.less` sets `[hidden] { display: none; }` but bootstrap.min.css set `[hidden] { display: none !important; }` so we also need the `!important` here to be able to override the default hidden behavior on the sphinx rendered scikit-learn.org. See: https://github.com/scikit-learn/scikit-learn/issues/21755 */display: inline-block !important;position: relative;}#sk-container-id-1 div.sk-text-repr-fallback {display: none;}</style><div id=\"sk-container-id-1\" class=\"sk-top-container\"><div class=\"sk-text-repr-fallback\"><pre>KNeighborsRegressor(weights=&#x27;distance&#x27;)</pre><b>In a Jupyter environment, please rerun this cell to show the HTML representation or trust the notebook. <br />On GitHub, the HTML representation is unable to render, please try loading this page with nbviewer.org.</b></div><div class=\"sk-container\" hidden><div class=\"sk-item\"><div class=\"sk-estimator sk-toggleable\"><input class=\"sk-toggleable__control sk-hidden--visually\" id=\"sk-estimator-id-1\" type=\"checkbox\" checked><label for=\"sk-estimator-id-1\" class=\"sk-toggleable__label sk-toggleable__label-arrow\">KNeighborsRegressor</label><div class=\"sk-toggleable__content\"><pre>KNeighborsRegressor(weights=&#x27;distance&#x27;)</pre></div></div></div></div></div>"
      ],
      "text/plain": [
       "KNeighborsRegressor(weights='distance')"
      ]
     },
     "execution_count": 10,
     "metadata": {},
     "output_type": "execute_result"
    }
   ],
   "source": [
    "import optuna\n",
    "from sklearn.model_selection import cross_val_score\n",
    "from sklearn.neighbors import KNeighborsRegressor\n",
    "\n",
    "def objective(trial):\n",
    "\n",
    "    n_neighbors = trial.suggest_int('n_neighbors', 3, 15)\n",
    "    weights = trial.suggest_categorical('weights', ['uniform', 'distance'])\n",
    "    p= trial.suggest_categorical('p',[1, 2])\n",
    "\n",
    "    knn = KNeighborsRegressor(n_neighbors=n_neighbors, weights=weights)\n",
    "\n",
    "    mse = -cross_val_score(knn, X_train, y_train, cv=10, scoring='neg_mean_squared_error').mean()\n",
    "    \n",
    "    return mse\n",
    "\n",
    "# Start time\n",
    "start_time = time.time()\n",
    "study = optuna.create_study(direction='minimize')\n",
    "study.optimize(objective, n_trials=100)\n",
    "# End time\n",
    "end_time = time.time()\n",
    "# Calculate total time\n",
    "total_time = end_time - start_time\n",
    "print(\"Total time taken: \", total_time)\n",
    "best_params = study.best_params\n",
    "best_value = study.best_value\n",
    "print(\"Best Parameters: \", best_params)\n",
    "print(\"Best Value: \", best_value)\n",
    "knn = KNeighborsRegressor(n_neighbors=best_params['n_neighbors'], weights=best_params['weights'])\n",
    "knn.fit(X_train, y_train)"
   ]
  },
  {
   "cell_type": "code",
   "execution_count": 14,
   "id": "bb077e7a",
   "metadata": {},
   "outputs": [],
   "source": [
    "from sklearn.neighbors import KNeighborsRegressor"
   ]
  },
  {
   "cell_type": "code",
   "execution_count": 13,
   "id": "391231fe",
   "metadata": {},
   "outputs": [
    {
     "data": {
      "text/html": [
       "<style>#sk-container-id-3 {color: black;}#sk-container-id-3 pre{padding: 0;}#sk-container-id-3 div.sk-toggleable {background-color: white;}#sk-container-id-3 label.sk-toggleable__label {cursor: pointer;display: block;width: 100%;margin-bottom: 0;padding: 0.3em;box-sizing: border-box;text-align: center;}#sk-container-id-3 label.sk-toggleable__label-arrow:before {content: \"▸\";float: left;margin-right: 0.25em;color: #696969;}#sk-container-id-3 label.sk-toggleable__label-arrow:hover:before {color: black;}#sk-container-id-3 div.sk-estimator:hover label.sk-toggleable__label-arrow:before {color: black;}#sk-container-id-3 div.sk-toggleable__content {max-height: 0;max-width: 0;overflow: hidden;text-align: left;background-color: #f0f8ff;}#sk-container-id-3 div.sk-toggleable__content pre {margin: 0.2em;color: black;border-radius: 0.25em;background-color: #f0f8ff;}#sk-container-id-3 input.sk-toggleable__control:checked~div.sk-toggleable__content {max-height: 200px;max-width: 100%;overflow: auto;}#sk-container-id-3 input.sk-toggleable__control:checked~label.sk-toggleable__label-arrow:before {content: \"▾\";}#sk-container-id-3 div.sk-estimator input.sk-toggleable__control:checked~label.sk-toggleable__label {background-color: #d4ebff;}#sk-container-id-3 div.sk-label input.sk-toggleable__control:checked~label.sk-toggleable__label {background-color: #d4ebff;}#sk-container-id-3 input.sk-hidden--visually {border: 0;clip: rect(1px 1px 1px 1px);clip: rect(1px, 1px, 1px, 1px);height: 1px;margin: -1px;overflow: hidden;padding: 0;position: absolute;width: 1px;}#sk-container-id-3 div.sk-estimator {font-family: monospace;background-color: #f0f8ff;border: 1px dotted black;border-radius: 0.25em;box-sizing: border-box;margin-bottom: 0.5em;}#sk-container-id-3 div.sk-estimator:hover {background-color: #d4ebff;}#sk-container-id-3 div.sk-parallel-item::after {content: \"\";width: 100%;border-bottom: 1px solid gray;flex-grow: 1;}#sk-container-id-3 div.sk-label:hover label.sk-toggleable__label {background-color: #d4ebff;}#sk-container-id-3 div.sk-serial::before {content: \"\";position: absolute;border-left: 1px solid gray;box-sizing: border-box;top: 0;bottom: 0;left: 50%;z-index: 0;}#sk-container-id-3 div.sk-serial {display: flex;flex-direction: column;align-items: center;background-color: white;padding-right: 0.2em;padding-left: 0.2em;position: relative;}#sk-container-id-3 div.sk-item {position: relative;z-index: 1;}#sk-container-id-3 div.sk-parallel {display: flex;align-items: stretch;justify-content: center;background-color: white;position: relative;}#sk-container-id-3 div.sk-item::before, #sk-container-id-3 div.sk-parallel-item::before {content: \"\";position: absolute;border-left: 1px solid gray;box-sizing: border-box;top: 0;bottom: 0;left: 50%;z-index: -1;}#sk-container-id-3 div.sk-parallel-item {display: flex;flex-direction: column;z-index: 1;position: relative;background-color: white;}#sk-container-id-3 div.sk-parallel-item:first-child::after {align-self: flex-end;width: 50%;}#sk-container-id-3 div.sk-parallel-item:last-child::after {align-self: flex-start;width: 50%;}#sk-container-id-3 div.sk-parallel-item:only-child::after {width: 0;}#sk-container-id-3 div.sk-dashed-wrapped {border: 1px dashed gray;margin: 0 0.4em 0.5em 0.4em;box-sizing: border-box;padding-bottom: 0.4em;background-color: white;}#sk-container-id-3 div.sk-label label {font-family: monospace;font-weight: bold;display: inline-block;line-height: 1.2em;}#sk-container-id-3 div.sk-label-container {text-align: center;}#sk-container-id-3 div.sk-container {/* jupyter's `normalize.less` sets `[hidden] { display: none; }` but bootstrap.min.css set `[hidden] { display: none !important; }` so we also need the `!important` here to be able to override the default hidden behavior on the sphinx rendered scikit-learn.org. See: https://github.com/scikit-learn/scikit-learn/issues/21755 */display: inline-block !important;position: relative;}#sk-container-id-3 div.sk-text-repr-fallback {display: none;}</style><div id=\"sk-container-id-3\" class=\"sk-top-container\"><div class=\"sk-text-repr-fallback\"><pre>KNeighborsRegressor()</pre><b>In a Jupyter environment, please rerun this cell to show the HTML representation or trust the notebook. <br />On GitHub, the HTML representation is unable to render, please try loading this page with nbviewer.org.</b></div><div class=\"sk-container\" hidden><div class=\"sk-item\"><div class=\"sk-estimator sk-toggleable\"><input class=\"sk-toggleable__control sk-hidden--visually\" id=\"sk-estimator-id-3\" type=\"checkbox\" checked><label for=\"sk-estimator-id-3\" class=\"sk-toggleable__label sk-toggleable__label-arrow\">KNeighborsRegressor</label><div class=\"sk-toggleable__content\"><pre>KNeighborsRegressor()</pre></div></div></div></div></div>"
      ],
      "text/plain": [
       "KNeighborsRegressor()"
      ]
     },
     "execution_count": 13,
     "metadata": {},
     "output_type": "execute_result"
    }
   ],
   "source": [
    "params_best['n_neighbors'] = int(params_best['n_neighbors'])\n",
    "knn_reg=KNeighborsRegressor(**best_params)\n",
    "knn_reg.fit(X_train, y_train)"
   ]
  },
  {
   "cell_type": "code",
   "execution_count": 14,
   "id": "5a8bfdd1",
   "metadata": {},
   "outputs": [],
   "source": [
    "y_pred= knn_reg.predict(X_test)\n",
    "y_pred1=knn_reg.predict(X_val)\n",
    "y_pred2=knn_reg.predict(X_train)"
   ]
  },
  {
   "cell_type": "code",
   "execution_count": 15,
   "id": "e2c53d09",
   "metadata": {},
   "outputs": [
    {
     "name": "stdout",
     "output_type": "stream",
     "text": [
      "mean_absolute_error: 0.01650384599570983\n",
      "mean_squared_error: 0.0005408395284442838\n",
      "rmse: 0.023255956837857344\n",
      "r2 score: 0.9891525784707974\n"
     ]
    }
   ],
   "source": [
    "print(\"mean_absolute_error:\", mean_absolute_error(y_val, y_pred1))\n",
    "print(\"mean_squared_error:\", mean_squared_error(y_val, y_pred1))\n",
    "print(\"rmse:\", sqrt(mean_squared_error(y_val, y_pred1)))\n",
    "print(\"r2 score:\", r2_score(y_val, y_pred1))"
   ]
  },
  {
   "cell_type": "code",
   "execution_count": 16,
   "id": "03733979",
   "metadata": {},
   "outputs": [
    {
     "name": "stdout",
     "output_type": "stream",
     "text": [
      "mean_absolute_error: 0.012746558259063352\n",
      "mean_squared_error: 0.0003115396719372521\n",
      "rmse: 0.017650486450442437\n",
      "r2 score: 0.9936310376915166\n"
     ]
    }
   ],
   "source": [
    "print(\"mean_absolute_error:\", mean_absolute_error(y_train, y_pred2))\n",
    "print(\"mean_squared_error:\", mean_squared_error(y_train, y_pred2))\n",
    "print(\"rmse:\", sqrt(mean_squared_error(y_train, y_pred2)))\n",
    "print(\"r2 score:\", r2_score(y_train, y_pred2))"
   ]
  },
  {
   "cell_type": "code",
   "execution_count": 17,
   "id": "50721851",
   "metadata": {},
   "outputs": [
    {
     "name": "stdout",
     "output_type": "stream",
     "text": [
      "mean_absolute_error: 0.016549601011360316\n",
      "mean_squared_error: 0.000551595607850019\n",
      "rmse: 0.023486072635713683\n",
      "r2 score: 0.989233096567893\n"
     ]
    }
   ],
   "source": [
    "print(\"mean_absolute_error:\", mean_absolute_error(y_test, y_pred))\n",
    "print(\"mean_squared_error:\", mean_squared_error(y_test, y_pred))\n",
    "print(\"rmse:\", sqrt(mean_squared_error(y_test, y_pred)))\n",
    "print(\"r2 score:\", r2_score(y_test, y_pred))"
   ]
  },
  {
   "cell_type": "code",
   "execution_count": 18,
   "id": "a6121d92",
   "metadata": {},
   "outputs": [],
   "source": [
    "from yellowbrick.regressor import PredictionError"
   ]
  },
  {
   "cell_type": "code",
   "execution_count": 19,
   "id": "06f609e0",
   "metadata": {},
   "outputs": [
    {
     "name": "stderr",
     "output_type": "stream",
     "text": [
      "D:\\anaconda3\\Lib\\site-packages\\sklearn\\base.py:464: UserWarning: X does not have valid feature names, but KNeighborsRegressor was fitted with feature names\n",
      "  warnings.warn(\n"
     ]
    },
    {
     "data": {
      "image/png": "[encoded data removed]",
      "text/plain": [
       "<Figure size 800x550 with 1 Axes>"
      ]
     },
     "metadata": {},
     "output_type": "display_data"
    },
    {
     "data": {
      "text/plain": [
       "<Axes: title={'center': 'Prediction Error for KNeighborsRegressor'}, xlabel='$y$', ylabel='$\\\\hat{y}$'>"
      ]
     },
     "execution_count": 19,
     "metadata": {},
     "output_type": "execute_result"
    }
   ],
   "source": [
    "visualizer = PredictionError(knn)\n",
    "\n",
    "visualizer.fit(X_train, y_train)  # Fit the training data to the visualizer\n",
    "visualizer.score(X_test, y_test)  # Evaluate the model on the test data\n",
    "visualizer.show()"
   ]
  },
  {
   "cell_type": "code",
   "execution_count": null,
   "id": "df00012a",
   "metadata": {},
   "outputs": [],
   "source": []
  }
 ],
 "metadata": {
  "kernelspec": {
   "display_name": "Python 3 (ipykernel)",
   "language": "python",
   "name": "python3"
  },
  "language_info": {
   "codemirror_mode": {
    "name": "ipython",
    "version": 3
   },
   "file_extension": ".py",
   "mimetype": "text/x-python",
   "name": "python",
   "nbconvert_exporter": "python",
   "pygments_lexer": "ipython3",
   "version": "3.9.19"
  }
 },
 "nbformat": 4,
 "nbformat_minor": 5
}
