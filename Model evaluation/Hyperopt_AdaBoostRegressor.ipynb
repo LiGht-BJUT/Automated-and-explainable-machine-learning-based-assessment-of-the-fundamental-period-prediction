{
 "cells": [
  {
   "cell_type": "code",
   "execution_count": 1,
   "id": "357b095b",
   "metadata": {},
   "outputs": [],
   "source": [
    "import pandas as pd\n",
    "import matplotlib.pyplot as plt\n",
    "import numpy as np\n",
    "from sklearn.model_selection import train_test_split\n",
    "import time\n",
    "from math import sqrt\n",
    "from sklearn.metrics import mean_absolute_error\n",
    "from sklearn.metrics import mean_squared_error\n",
    "from sklearn.metrics import r2_score"
   ]
  },
  {
   "cell_type": "code",
   "execution_count": 2,
   "id": "f4040213",
   "metadata": {},
   "outputs": [
    {
     "data": {
      "text/html": [
       "<div>\n",
       "<style scoped>\n",
       "    .dataframe tbody tr th:only-of-type {\n",
       "        vertical-align: middle;\n",
       "    }\n",
       "\n",
       "    .dataframe tbody tr th {\n",
       "        vertical-align: top;\n",
       "    }\n",
       "\n",
       "    .dataframe thead th {\n",
       "        text-align: right;\n",
       "    }\n",
       "</style>\n",
       "<table border=\"1\" class=\"dataframe\">\n",
       "  <thead>\n",
       "    <tr style=\"text-align: right;\">\n",
       "      <th></th>\n",
       "      <th>Number of Storeys(NS)</th>\n",
       "      <th>Height of Structure(HS)</th>\n",
       "      <th>Number of Spans(HSP)</th>\n",
       "      <th>Length of Spans (LS)</th>\n",
       "      <th>Opening percentage (OP)</th>\n",
       "      <th>Masonry wall Stiffeness Et (MS)</th>\n",
       "      <th>Period (P)</th>\n",
       "    </tr>\n",
       "  </thead>\n",
       "  <tbody>\n",
       "    <tr>\n",
       "      <th>0</th>\n",
       "      <td>1</td>\n",
       "      <td>3</td>\n",
       "      <td>2</td>\n",
       "      <td>3.0</td>\n",
       "      <td>0</td>\n",
       "      <td>2.25</td>\n",
       "      <td>0.092970</td>\n",
       "    </tr>\n",
       "    <tr>\n",
       "      <th>1</th>\n",
       "      <td>1</td>\n",
       "      <td>3</td>\n",
       "      <td>2</td>\n",
       "      <td>3.0</td>\n",
       "      <td>100</td>\n",
       "      <td>2.25</td>\n",
       "      <td>0.159750</td>\n",
       "    </tr>\n",
       "    <tr>\n",
       "      <th>2</th>\n",
       "      <td>1</td>\n",
       "      <td>3</td>\n",
       "      <td>2</td>\n",
       "      <td>4.5</td>\n",
       "      <td>0</td>\n",
       "      <td>2.25</td>\n",
       "      <td>0.094770</td>\n",
       "    </tr>\n",
       "    <tr>\n",
       "      <th>3</th>\n",
       "      <td>1</td>\n",
       "      <td>3</td>\n",
       "      <td>2</td>\n",
       "      <td>4.5</td>\n",
       "      <td>100</td>\n",
       "      <td>2.25</td>\n",
       "      <td>0.156589</td>\n",
       "    </tr>\n",
       "    <tr>\n",
       "      <th>4</th>\n",
       "      <td>1</td>\n",
       "      <td>3</td>\n",
       "      <td>2</td>\n",
       "      <td>6.0</td>\n",
       "      <td>0</td>\n",
       "      <td>2.25</td>\n",
       "      <td>0.106350</td>\n",
       "    </tr>\n",
       "    <tr>\n",
       "      <th>...</th>\n",
       "      <td>...</td>\n",
       "      <td>...</td>\n",
       "      <td>...</td>\n",
       "      <td>...</td>\n",
       "      <td>...</td>\n",
       "      <td>...</td>\n",
       "      <td>...</td>\n",
       "    </tr>\n",
       "    <tr>\n",
       "      <th>4021</th>\n",
       "      <td>22</td>\n",
       "      <td>66</td>\n",
       "      <td>6</td>\n",
       "      <td>6.0</td>\n",
       "      <td>50</td>\n",
       "      <td>25.00</td>\n",
       "      <td>1.628000</td>\n",
       "    </tr>\n",
       "    <tr>\n",
       "      <th>4022</th>\n",
       "      <td>22</td>\n",
       "      <td>66</td>\n",
       "      <td>6</td>\n",
       "      <td>6.0</td>\n",
       "      <td>75</td>\n",
       "      <td>25.00</td>\n",
       "      <td>2.714000</td>\n",
       "    </tr>\n",
       "    <tr>\n",
       "      <th>4023</th>\n",
       "      <td>22</td>\n",
       "      <td>66</td>\n",
       "      <td>6</td>\n",
       "      <td>6.0</td>\n",
       "      <td>100</td>\n",
       "      <td>25.00</td>\n",
       "      <td>2.879000</td>\n",
       "    </tr>\n",
       "    <tr>\n",
       "      <th>4024</th>\n",
       "      <td>22</td>\n",
       "      <td>66</td>\n",
       "      <td>6</td>\n",
       "      <td>7.5</td>\n",
       "      <td>0</td>\n",
       "      <td>25.00</td>\n",
       "      <td>0.602680</td>\n",
       "    </tr>\n",
       "    <tr>\n",
       "      <th>4025</th>\n",
       "      <td>22</td>\n",
       "      <td>66</td>\n",
       "      <td>6</td>\n",
       "      <td>7.5</td>\n",
       "      <td>100</td>\n",
       "      <td>25.00</td>\n",
       "      <td>3.474000</td>\n",
       "    </tr>\n",
       "  </tbody>\n",
       "</table>\n",
       "<p>4026 rows × 7 columns</p>\n",
       "</div>"
      ],
      "text/plain": [
       "      Number of Storeys(NS)  Height of Structure(HS)  Number of Spans(HSP)  \\\n",
       "0                         1                        3                     2   \n",
       "1                         1                        3                     2   \n",
       "2                         1                        3                     2   \n",
       "3                         1                        3                     2   \n",
       "4                         1                        3                     2   \n",
       "...                     ...                      ...                   ...   \n",
       "4021                     22                       66                     6   \n",
       "4022                     22                       66                     6   \n",
       "4023                     22                       66                     6   \n",
       "4024                     22                       66                     6   \n",
       "4025                     22                       66                     6   \n",
       "\n",
       "      Length of Spans (LS)  Opening percentage (OP)  \\\n",
       "0                      3.0                        0   \n",
       "1                      3.0                      100   \n",
       "2                      4.5                        0   \n",
       "3                      4.5                      100   \n",
       "4                      6.0                        0   \n",
       "...                    ...                      ...   \n",
       "4021                   6.0                       50   \n",
       "4022                   6.0                       75   \n",
       "4023                   6.0                      100   \n",
       "4024                   7.5                        0   \n",
       "4025                   7.5                      100   \n",
       "\n",
       "      Masonry wall Stiffeness Et (MS)  Period (P)  \n",
       "0                                2.25    0.092970  \n",
       "1                                2.25    0.159750  \n",
       "2                                2.25    0.094770  \n",
       "3                                2.25    0.156589  \n",
       "4                                2.25    0.106350  \n",
       "...                               ...         ...  \n",
       "4021                            25.00    1.628000  \n",
       "4022                            25.00    2.714000  \n",
       "4023                            25.00    2.879000  \n",
       "4024                            25.00    0.602680  \n",
       "4025                            25.00    3.474000  \n",
       "\n",
       "[4026 rows x 7 columns]"
      ]
     },
     "execution_count": 2,
     "metadata": {},
     "output_type": "execute_result"
    }
   ],
   "source": [
    "df=pd.read_excel(r\"./dataset/data.xlsx\",sheet_name=\"Sheet1\")\n",
    "\n",
    "df"
   ]
  },
  {
   "cell_type": "code",
   "execution_count": 3,
   "id": "e275a747",
   "metadata": {},
   "outputs": [
    {
     "data": {
      "text/plain": [
       "(4026, 7)"
      ]
     },
     "execution_count": 3,
     "metadata": {},
     "output_type": "execute_result"
    }
   ],
   "source": [
    "df.shape"
   ]
  },
  {
   "cell_type": "code",
   "execution_count": 4,
   "id": "fe2e8e65",
   "metadata": {},
   "outputs": [
    {
     "data": {
      "text/html": [
       "<div>\n",
       "<style scoped>\n",
       "    .dataframe tbody tr th:only-of-type {\n",
       "        vertical-align: middle;\n",
       "    }\n",
       "\n",
       "    .dataframe tbody tr th {\n",
       "        vertical-align: top;\n",
       "    }\n",
       "\n",
       "    .dataframe thead th {\n",
       "        text-align: right;\n",
       "    }\n",
       "</style>\n",
       "<table border=\"1\" class=\"dataframe\">\n",
       "  <thead>\n",
       "    <tr style=\"text-align: right;\">\n",
       "      <th></th>\n",
       "      <th>Number of Storeys(NS)</th>\n",
       "      <th>Height of Structure(HS)</th>\n",
       "      <th>Number of Spans(HSP)</th>\n",
       "      <th>Length of Spans (LS)</th>\n",
       "      <th>Opening percentage (OP)</th>\n",
       "      <th>Masonry wall Stiffeness Et (MS)</th>\n",
       "      <th>Period (P)</th>\n",
       "    </tr>\n",
       "  </thead>\n",
       "  <tbody>\n",
       "    <tr>\n",
       "      <th>0</th>\n",
       "      <td>1</td>\n",
       "      <td>3</td>\n",
       "      <td>2</td>\n",
       "      <td>3.0</td>\n",
       "      <td>0</td>\n",
       "      <td>2.25</td>\n",
       "      <td>0.092970</td>\n",
       "    </tr>\n",
       "    <tr>\n",
       "      <th>1</th>\n",
       "      <td>1</td>\n",
       "      <td>3</td>\n",
       "      <td>2</td>\n",
       "      <td>3.0</td>\n",
       "      <td>100</td>\n",
       "      <td>2.25</td>\n",
       "      <td>0.159750</td>\n",
       "    </tr>\n",
       "    <tr>\n",
       "      <th>2</th>\n",
       "      <td>1</td>\n",
       "      <td>3</td>\n",
       "      <td>2</td>\n",
       "      <td>4.5</td>\n",
       "      <td>0</td>\n",
       "      <td>2.25</td>\n",
       "      <td>0.094770</td>\n",
       "    </tr>\n",
       "    <tr>\n",
       "      <th>3</th>\n",
       "      <td>1</td>\n",
       "      <td>3</td>\n",
       "      <td>2</td>\n",
       "      <td>4.5</td>\n",
       "      <td>100</td>\n",
       "      <td>2.25</td>\n",
       "      <td>0.156589</td>\n",
       "    </tr>\n",
       "    <tr>\n",
       "      <th>4</th>\n",
       "      <td>1</td>\n",
       "      <td>3</td>\n",
       "      <td>2</td>\n",
       "      <td>6.0</td>\n",
       "      <td>0</td>\n",
       "      <td>2.25</td>\n",
       "      <td>0.106350</td>\n",
       "    </tr>\n",
       "  </tbody>\n",
       "</table>\n",
       "</div>"
      ],
      "text/plain": [
       "   Number of Storeys(NS)  Height of Structure(HS)  Number of Spans(HSP)  \\\n",
       "0                      1                        3                     2   \n",
       "1                      1                        3                     2   \n",
       "2                      1                        3                     2   \n",
       "3                      1                        3                     2   \n",
       "4                      1                        3                     2   \n",
       "\n",
       "   Length of Spans (LS)  Opening percentage (OP)  \\\n",
       "0                   3.0                        0   \n",
       "1                   3.0                      100   \n",
       "2                   4.5                        0   \n",
       "3                   4.5                      100   \n",
       "4                   6.0                        0   \n",
       "\n",
       "   Masonry wall Stiffeness Et (MS)  Period (P)  \n",
       "0                             2.25    0.092970  \n",
       "1                             2.25    0.159750  \n",
       "2                             2.25    0.094770  \n",
       "3                             2.25    0.156589  \n",
       "4                             2.25    0.106350  "
      ]
     },
     "execution_count": 4,
     "metadata": {},
     "output_type": "execute_result"
    }
   ],
   "source": [
    "df.head()"
   ]
  },
  {
   "cell_type": "code",
   "execution_count": 5,
   "id": "9e9bfd27",
   "metadata": {},
   "outputs": [
    {
     "name": "stdout",
     "output_type": "stream",
     "text": [
      "      Number of Storeys(NS)  Height of Structure(HS)  Number of Spans(HSP)  \\\n",
      "0                       0.0                      0.0                   0.0   \n",
      "1                       0.0                      0.0                   0.0   \n",
      "2                       0.0                      0.0                   0.0   \n",
      "3                       0.0                      0.0                   0.0   \n",
      "4                       0.0                      0.0                   0.0   \n",
      "...                     ...                      ...                   ...   \n",
      "4021                    1.0                      1.0                   1.0   \n",
      "4022                    1.0                      1.0                   1.0   \n",
      "4023                    1.0                      1.0                   1.0   \n",
      "4024                    1.0                      1.0                   1.0   \n",
      "4025                    1.0                      1.0                   1.0   \n",
      "\n",
      "      Length of Spans (LS)  Opening percentage (OP)  \\\n",
      "0                 0.000000                     0.00   \n",
      "1                 0.000000                     1.00   \n",
      "2                 0.333333                     0.00   \n",
      "3                 0.333333                     1.00   \n",
      "4                 0.666667                     0.00   \n",
      "...                    ...                      ...   \n",
      "4021              0.666667                     0.50   \n",
      "4022              0.666667                     0.75   \n",
      "4023              0.666667                     1.00   \n",
      "4024              1.000000                     0.00   \n",
      "4025              1.000000                     1.00   \n",
      "\n",
      "      Masonry wall Stiffeness Et (MS)  Period (P)  \n",
      "0                                 0.0    0.015051  \n",
      "1                                 0.0    0.033991  \n",
      "2                                 0.0    0.015562  \n",
      "3                                 0.0    0.033095  \n",
      "4                                 0.0    0.018846  \n",
      "...                               ...         ...  \n",
      "4021                              1.0    0.450410  \n",
      "4022                              1.0    0.758416  \n",
      "4023                              1.0    0.805213  \n",
      "4024                              1.0    0.159613  \n",
      "4025                              1.0    0.973964  \n",
      "\n",
      "[4026 rows x 7 columns]\n"
     ]
    }
   ],
   "source": [
    "import pandas as pd\n",
    "from sklearn.preprocessing import MinMaxScaler\n",
    "\n",
    "scaler = MinMaxScaler()\n",
    "normalized_data = scaler.fit_transform(df)\n",
    "\n",
    "normalized_df = pd.DataFrame(normalized_data, columns=df.columns)\n",
    "\n",
    "print(normalized_df)"
   ]
  },
  {
   "cell_type": "code",
   "execution_count": 6,
   "id": "9f75398b",
   "metadata": {},
   "outputs": [
    {
     "data": {
      "text/plain": [
       "Index(['Number of Storeys(NS)', 'Height of Structure(HS)',\n",
       "       'Number of Spans(HSP)', 'Length of Spans (LS)',\n",
       "       'Opening percentage (OP)', 'Masonry wall Stiffeness Et (MS)',\n",
       "       'Period (P)'],\n",
       "      dtype='object')"
      ]
     },
     "execution_count": 6,
     "metadata": {},
     "output_type": "execute_result"
    }
   ],
   "source": [
    "normalized_df.keys()"
   ]
  },
  {
   "cell_type": "code",
   "execution_count": 7,
   "id": "f15b32dd",
   "metadata": {},
   "outputs": [],
   "source": [
    "X=normalized_df.drop(\"Period (P)\" ,axis=1)"
   ]
  },
  {
   "cell_type": "code",
   "execution_count": 8,
   "id": "cd30344d",
   "metadata": {},
   "outputs": [],
   "source": [
    "y=normalized_df[\"Period (P)\"]"
   ]
  },
  {
   "cell_type": "code",
   "execution_count": 9,
   "id": "979d5edd",
   "metadata": {},
   "outputs": [],
   "source": [
    "from sklearn.model_selection import train_test_split"
   ]
  },
  {
   "cell_type": "code",
   "execution_count": 10,
   "id": "8bddc88f",
   "metadata": {},
   "outputs": [],
   "source": [
    "X_train, X_test, y_train, y_test = train_test_split(X, y, test_size=0.2, random_state=99)\n",
    "X_train, X_val, y_train, y_val = train_test_split(X_train, y_train, test_size=0.25, random_state=99)"
   ]
  },
  {
   "cell_type": "markdown",
   "id": "d8042ce6",
   "metadata": {},
   "source": [
    "# AdaBoostRegressor"
   ]
  },
  {
   "cell_type": "code",
   "execution_count": 13,
   "id": "17ef160e",
   "metadata": {},
   "outputs": [],
   "source": [
    "from sklearn.ensemble import AdaBoostRegressor\n",
    "from sklearn.model_selection import train_test_split\n",
    "from sklearn.metrics import mean_squared_error\n",
    "from sklearn.model_selection import KFold,cross_validate\n",
    "from bayes_opt import BayesianOptimization\n",
    "from hyperopt import hp,fmin,tpe,Trials,partial\n",
    "from hyperopt.early_stop import no_progress_loss\n",
    "import hyperopt"
   ]
  },
  {
   "cell_type": "code",
   "execution_count": 14,
   "id": "639dac81",
   "metadata": {},
   "outputs": [],
   "source": [
    "param_grid_simple={'n_estimators':hp.quniform('n_estimators',800,5000,50),\n",
    "                  'learning_rate': hp.uniform('learning_rate', 0.01, 0.999),\n",
    "                  }\n"
   ]
  },
  {
   "cell_type": "code",
   "execution_count": 30,
   "id": "e66530ca",
   "metadata": {},
   "outputs": [],
   "source": [
    "def hyperopt_objective(params):\n",
    "    model=AdaBoostRegressor(n_estimators=int(params['n_estimators'])\n",
    "              ,learning_rate=params['learning_rate']\n",
    "              ,random_state=99\n",
    "             )\n",
    "    \n",
    "    cv=KFold(n_splits=10,shuffle=True,random_state=99)\n",
    "    validate_loss=cross_validate(model,X_train,y_train\n",
    "                                   ,cv=cv\n",
    "                                   ,scoring='neg_root_mean_squared_error'\n",
    "                                   ,n_jobs=-1\n",
    "                                   ,error_score='raise')\n",
    "    \n",
    "    return np.mean(abs(validate_loss['test_score']))\n"
   ]
  },
  {
   "cell_type": "code",
   "execution_count": 31,
   "id": "cb9e713f",
   "metadata": {},
   "outputs": [],
   "source": [
    "def param_hyperopt(max_evals=100):\n",
    "   \n",
    "    trials=Trials()\n",
    "    early_stop_fn=no_progress_loss(100) \n",
    "\n",
    "    params_best=fmin(hyperopt_objective \n",
    "                     ,space=param_grid_simple \n",
    "                     ,algo=tpe.suggest \n",
    "                     ,max_evals=max_evals \n",
    "                     ,trials=trials \n",
    "                     ,early_stop_fn=early_stop_fn \n",
    "                    )\n",
    "    \n",
    "    print('best parmas:',params_best)\n",
    "    return params_best,trials"
   ]
  },
  {
   "cell_type": "code",
   "execution_count": 32,
   "id": "d2943e83",
   "metadata": {},
   "outputs": [],
   "source": [
    "\n",
    "def hyperopt_validation(params):\n",
    "    model=AdaBoostRegressor(n_estimators=int(params['n_estimators'])\n",
    "              ,learning_rate=params['learning_rate']\n",
    "              ,random_state=99)\n",
    "        \n",
    "    cv=KFold(n_splits=10,shuffle=True,random_state=99)\n",
    "    validate_loss=cross_validate(model,X_train,y_train\n",
    "                                   ,cv=cv\n",
    "                                   ,scoring='neg_root_mean_squared_error'\n",
    "                                   ,n_jobs=-1\n",
    "                                  )\n",
    "    \n",
    "    return np.mean(abs(validate_loss['test_score']))"
   ]
  },
  {
   "cell_type": "code",
   "execution_count": 33,
   "id": "6f1557ca",
   "metadata": {},
   "outputs": [
    {
     "name": "stdout",
     "output_type": "stream",
     "text": [
      "100%|██████████| 100/100 [32:26<00:00, 19.46s/trial, best loss: 0.055900536339016184]\n",
      "best parmas: {'learning_rate': 0.027339409694912574, 'n_estimators': 1350.0}\n",
      "Total time taken:  1952.494148015976\n"
     ]
    }
   ],
   "source": [
    "# Start time\n",
    "start_time = time.time()\n",
    "\n",
    "params_best, trials = param_hyperopt(100)\n",
    "\n",
    "hyperopt_validation(params_best)\n",
    "\n",
    "trials.trials[0]\n",
    "\n",
    "trials.losses()[:10]\n",
    "# End time\n",
    "end_time = time.time()\n",
    "# Calculate total time\n",
    "total_time = end_time - start_time\n",
    "print(\"Total time taken: \", total_time)"
   ]
  },
  {
   "cell_type": "code",
   "execution_count": 34,
   "id": "373199be",
   "metadata": {},
   "outputs": [
    {
     "data": {
      "text/html": [
       "<style>#sk-container-id-1 {color: black;}#sk-container-id-1 pre{padding: 0;}#sk-container-id-1 div.sk-toggleable {background-color: white;}#sk-container-id-1 label.sk-toggleable__label {cursor: pointer;display: block;width: 100%;margin-bottom: 0;padding: 0.3em;box-sizing: border-box;text-align: center;}#sk-container-id-1 label.sk-toggleable__label-arrow:before {content: \"▸\";float: left;margin-right: 0.25em;color: #696969;}#sk-container-id-1 label.sk-toggleable__label-arrow:hover:before {color: black;}#sk-container-id-1 div.sk-estimator:hover label.sk-toggleable__label-arrow:before {color: black;}#sk-container-id-1 div.sk-toggleable__content {max-height: 0;max-width: 0;overflow: hidden;text-align: left;background-color: #f0f8ff;}#sk-container-id-1 div.sk-toggleable__content pre {margin: 0.2em;color: black;border-radius: 0.25em;background-color: #f0f8ff;}#sk-container-id-1 input.sk-toggleable__control:checked~div.sk-toggleable__content {max-height: 200px;max-width: 100%;overflow: auto;}#sk-container-id-1 input.sk-toggleable__control:checked~label.sk-toggleable__label-arrow:before {content: \"▾\";}#sk-container-id-1 div.sk-estimator input.sk-toggleable__control:checked~label.sk-toggleable__label {background-color: #d4ebff;}#sk-container-id-1 div.sk-label input.sk-toggleable__control:checked~label.sk-toggleable__label {background-color: #d4ebff;}#sk-container-id-1 input.sk-hidden--visually {border: 0;clip: rect(1px 1px 1px 1px);clip: rect(1px, 1px, 1px, 1px);height: 1px;margin: -1px;overflow: hidden;padding: 0;position: absolute;width: 1px;}#sk-container-id-1 div.sk-estimator {font-family: monospace;background-color: #f0f8ff;border: 1px dotted black;border-radius: 0.25em;box-sizing: border-box;margin-bottom: 0.5em;}#sk-container-id-1 div.sk-estimator:hover {background-color: #d4ebff;}#sk-container-id-1 div.sk-parallel-item::after {content: \"\";width: 100%;border-bottom: 1px solid gray;flex-grow: 1;}#sk-container-id-1 div.sk-label:hover label.sk-toggleable__label {background-color: #d4ebff;}#sk-container-id-1 div.sk-serial::before {content: \"\";position: absolute;border-left: 1px solid gray;box-sizing: border-box;top: 0;bottom: 0;left: 50%;z-index: 0;}#sk-container-id-1 div.sk-serial {display: flex;flex-direction: column;align-items: center;background-color: white;padding-right: 0.2em;padding-left: 0.2em;position: relative;}#sk-container-id-1 div.sk-item {position: relative;z-index: 1;}#sk-container-id-1 div.sk-parallel {display: flex;align-items: stretch;justify-content: center;background-color: white;position: relative;}#sk-container-id-1 div.sk-item::before, #sk-container-id-1 div.sk-parallel-item::before {content: \"\";position: absolute;border-left: 1px solid gray;box-sizing: border-box;top: 0;bottom: 0;left: 50%;z-index: -1;}#sk-container-id-1 div.sk-parallel-item {display: flex;flex-direction: column;z-index: 1;position: relative;background-color: white;}#sk-container-id-1 div.sk-parallel-item:first-child::after {align-self: flex-end;width: 50%;}#sk-container-id-1 div.sk-parallel-item:last-child::after {align-self: flex-start;width: 50%;}#sk-container-id-1 div.sk-parallel-item:only-child::after {width: 0;}#sk-container-id-1 div.sk-dashed-wrapped {border: 1px dashed gray;margin: 0 0.4em 0.5em 0.4em;box-sizing: border-box;padding-bottom: 0.4em;background-color: white;}#sk-container-id-1 div.sk-label label {font-family: monospace;font-weight: bold;display: inline-block;line-height: 1.2em;}#sk-container-id-1 div.sk-label-container {text-align: center;}#sk-container-id-1 div.sk-container {/* jupyter's `normalize.less` sets `[hidden] { display: none; }` but bootstrap.min.css set `[hidden] { display: none !important; }` so we also need the `!important` here to be able to override the default hidden behavior on the sphinx rendered scikit-learn.org. See: https://github.com/scikit-learn/scikit-learn/issues/21755 */display: inline-block !important;position: relative;}#sk-container-id-1 div.sk-text-repr-fallback {display: none;}</style><div id=\"sk-container-id-1\" class=\"sk-top-container\"><div class=\"sk-text-repr-fallback\"><pre>AdaBoostRegressor(learning_rate=0.0273, n_estimators=1350)</pre><b>In a Jupyter environment, please rerun this cell to show the HTML representation or trust the notebook. <br />On GitHub, the HTML representation is unable to render, please try loading this page with nbviewer.org.</b></div><div class=\"sk-container\" hidden><div class=\"sk-item\"><div class=\"sk-estimator sk-toggleable\"><input class=\"sk-toggleable__control sk-hidden--visually\" id=\"sk-estimator-id-1\" type=\"checkbox\" checked><label for=\"sk-estimator-id-1\" class=\"sk-toggleable__label sk-toggleable__label-arrow\">AdaBoostRegressor</label><div class=\"sk-toggleable__content\"><pre>AdaBoostRegressor(learning_rate=0.0273, n_estimators=1350)</pre></div></div></div></div></div>"
      ],
      "text/plain": [
       "AdaBoostRegressor(learning_rate=0.0273, n_estimators=1350)"
      ]
     },
     "execution_count": 34,
     "metadata": {},
     "output_type": "execute_result"
    }
   ],
   "source": [
    "params_best['n_estimators'] = int(params_best['n_estimators'])\n",
    "ada_reg= AdaBoostRegressor(**params_best )\n",
    "ada_reg.fit(X_train, y_train)"
   ]
  },
  {
   "cell_type": "code",
   "execution_count": 35,
   "id": "5a8bfdd1",
   "metadata": {},
   "outputs": [],
   "source": [
    "y_pred= ada_reg.predict(X_test)\n",
    "y_pred1=ada_reg.predict(X_val)\n",
    "y_pred2=ada_reg.predict(X_train)"
   ]
  },
  {
   "cell_type": "code",
   "execution_count": 36,
   "id": "df5fead8",
   "metadata": {},
   "outputs": [
    {
     "name": "stdout",
     "output_type": "stream",
     "text": [
      "mean_absolute_error: 0.04718713510709387\n",
      "mean_squared_error: 0.0032100967269006603\n",
      "rmse: 0.05665771551078159\n",
      "r2 score: 0.9356162585853001\n"
     ]
    }
   ],
   "source": [
    "print(\"mean_absolute_error:\", mean_absolute_error(y_val, y_pred1))\n",
    "print(\"mean_squared_error:\", mean_squared_error(y_val, y_pred1))\n",
    "print(\"rmse:\", sqrt(mean_squared_error(y_val, y_pred1)))\n",
    "print(\"r2 score:\", r2_score(y_val, y_pred1))"
   ]
  },
  {
   "cell_type": "code",
   "execution_count": 37,
   "id": "a3fe3ba9",
   "metadata": {},
   "outputs": [
    {
     "name": "stdout",
     "output_type": "stream",
     "text": [
      "mean_absolute_error: 0.04624952537486817\n",
      "mean_squared_error: 0.0030480396551020895\n",
      "rmse: 0.05520905410439568\n",
      "r2 score: 0.9376873912802415\n"
     ]
    }
   ],
   "source": [
    "print(\"mean_absolute_error:\", mean_absolute_error(y_train, y_pred2))\n",
    "print(\"mean_squared_error:\", mean_squared_error(y_train, y_pred2))\n",
    "print(\"rmse:\", sqrt(mean_squared_error(y_train, y_pred2)))\n",
    "print(\"r2 score:\", r2_score(y_train, y_pred2))"
   ]
  },
  {
   "cell_type": "code",
   "execution_count": 38,
   "id": "e2179297",
   "metadata": {},
   "outputs": [
    {
     "name": "stdout",
     "output_type": "stream",
     "text": [
      "mean_absolute_error: 0.04603689827881899\n",
      "mean_squared_error: 0.002982392511182338\n",
      "rmse: 0.05461128556610198\n",
      "r2 score: 0.9417850111430357\n"
     ]
    }
   ],
   "source": [
    "print(\"mean_absolute_error:\", mean_absolute_error(y_test, y_pred))\n",
    "print(\"mean_squared_error:\", mean_squared_error(y_test, y_pred))\n",
    "print(\"rmse:\", sqrt(mean_squared_error(y_test, y_pred)))\n",
    "print(\"r2 score:\", r2_score(y_test, y_pred))"
   ]
  },
  {
   "cell_type": "code",
   "execution_count": 39,
   "id": "a6121d92",
   "metadata": {},
   "outputs": [],
   "source": [
    "from yellowbrick.regressor import PredictionError"
   ]
  },
  {
   "cell_type": "code",
   "execution_count": 40,
   "id": "06f609e0",
   "metadata": {},
   "outputs": [
    {
     "name": "stderr",
     "output_type": "stream",
     "text": [
      "D:\\anaconda3\\Lib\\site-packages\\sklearn\\base.py:464: UserWarning: X does not have valid feature names, but AdaBoostRegressor was fitted with feature names\n",
      "  warnings.warn(\n"
     ]
    },
    {
     "data": {
      "image/png": "[encoded data removed]",
      "text/plain": [
       "<Figure size 800x550 with 1 Axes>"
      ]
     },
     "metadata": {},
     "output_type": "display_data"
    },
    {
     "data": {
      "text/plain": [
       "<Axes: title={'center': 'Prediction Error for AdaBoostRegressor'}, xlabel='$y$', ylabel='$\\\\hat{y}$'>"
      ]
     },
     "execution_count": 40,
     "metadata": {},
     "output_type": "execute_result"
    }
   ],
   "source": [
    "visualizer = PredictionError(ada_reg)\n",
    "\n",
    "visualizer.fit(X_train, y_train)  # Fit the training data to the visualizer\n",
    "visualizer.score(X_test, y_test)  # Evaluate the model on the test data\n",
    "visualizer.show()"
   ]
  },
  {
   "cell_type": "code",
   "execution_count": null,
   "id": "df00012a",
   "metadata": {},
   "outputs": [],
   "source": []
  }
 ],
 "metadata": {
  "kernelspec": {
   "display_name": "Python 3 (ipykernel)",
   "language": "python",
   "name": "python3"
  },
  "language_info": {
   "codemirror_mode": {
    "name": "ipython",
    "version": 3
   },
   "file_extension": ".py",
   "mimetype": "text/x-python",
   "name": "python",
   "nbconvert_exporter": "python",
   "pygments_lexer": "ipython3",
   "version": "3.9.19"
  }
 },
 "nbformat": 4,
 "nbformat_minor": 5
}
