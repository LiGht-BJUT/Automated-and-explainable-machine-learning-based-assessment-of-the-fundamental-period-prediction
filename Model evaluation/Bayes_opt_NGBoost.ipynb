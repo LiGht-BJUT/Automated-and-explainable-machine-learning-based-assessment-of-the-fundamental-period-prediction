{
 "cells": [
  {
   "cell_type": "code",
   "execution_count": 4,
   "id": "357b095b",
   "metadata": {},
   "outputs": [],
   "source": [
    "import pandas as pd\n",
    "import matplotlib.pyplot as plt\n",
    "import numpy as np\n",
    "from sklearn.model_selection import train_test_split\n",
    "import time\n",
    "from math import sqrt\n",
    "from sklearn.metrics import mean_absolute_error\n",
    "from sklearn.metrics import mean_squared_error\n",
    "from sklearn.metrics import r2_score"
   ]
  },
  {
   "cell_type": "code",
   "execution_count": 5,
   "id": "f4040213",
   "metadata": {},
   "outputs": [
    {
     "data": {
      "text/html": [
       "<div>\n",
       "<style scoped>\n",
       "    .dataframe tbody tr th:only-of-type {\n",
       "        vertical-align: middle;\n",
       "    }\n",
       "\n",
       "    .dataframe tbody tr th {\n",
       "        vertical-align: top;\n",
       "    }\n",
       "\n",
       "    .dataframe thead th {\n",
       "        text-align: right;\n",
       "    }\n",
       "</style>\n",
       "<table border=\"1\" class=\"dataframe\">\n",
       "  <thead>\n",
       "    <tr style=\"text-align: right;\">\n",
       "      <th></th>\n",
       "      <th>Number of Storeys(NS)</th>\n",
       "      <th>Height of Structure(HS)</th>\n",
       "      <th>Number of Spans(HSP)</th>\n",
       "      <th>Length of Spans (LS)</th>\n",
       "      <th>Opening percentage (OP)</th>\n",
       "      <th>Masonry wall Stiffeness Et (MS)</th>\n",
       "      <th>Period (P)</th>\n",
       "    </tr>\n",
       "  </thead>\n",
       "  <tbody>\n",
       "    <tr>\n",
       "      <th>0</th>\n",
       "      <td>1</td>\n",
       "      <td>3</td>\n",
       "      <td>2</td>\n",
       "      <td>3.0</td>\n",
       "      <td>0</td>\n",
       "      <td>2.25</td>\n",
       "      <td>0.092970</td>\n",
       "    </tr>\n",
       "    <tr>\n",
       "      <th>1</th>\n",
       "      <td>1</td>\n",
       "      <td>3</td>\n",
       "      <td>2</td>\n",
       "      <td>3.0</td>\n",
       "      <td>100</td>\n",
       "      <td>2.25</td>\n",
       "      <td>0.159750</td>\n",
       "    </tr>\n",
       "    <tr>\n",
       "      <th>2</th>\n",
       "      <td>1</td>\n",
       "      <td>3</td>\n",
       "      <td>2</td>\n",
       "      <td>4.5</td>\n",
       "      <td>0</td>\n",
       "      <td>2.25</td>\n",
       "      <td>0.094770</td>\n",
       "    </tr>\n",
       "    <tr>\n",
       "      <th>3</th>\n",
       "      <td>1</td>\n",
       "      <td>3</td>\n",
       "      <td>2</td>\n",
       "      <td>4.5</td>\n",
       "      <td>100</td>\n",
       "      <td>2.25</td>\n",
       "      <td>0.156589</td>\n",
       "    </tr>\n",
       "    <tr>\n",
       "      <th>4</th>\n",
       "      <td>1</td>\n",
       "      <td>3</td>\n",
       "      <td>2</td>\n",
       "      <td>6.0</td>\n",
       "      <td>0</td>\n",
       "      <td>2.25</td>\n",
       "      <td>0.106350</td>\n",
       "    </tr>\n",
       "    <tr>\n",
       "      <th>...</th>\n",
       "      <td>...</td>\n",
       "      <td>...</td>\n",
       "      <td>...</td>\n",
       "      <td>...</td>\n",
       "      <td>...</td>\n",
       "      <td>...</td>\n",
       "      <td>...</td>\n",
       "    </tr>\n",
       "    <tr>\n",
       "      <th>4021</th>\n",
       "      <td>22</td>\n",
       "      <td>66</td>\n",
       "      <td>6</td>\n",
       "      <td>6.0</td>\n",
       "      <td>50</td>\n",
       "      <td>25.00</td>\n",
       "      <td>1.628000</td>\n",
       "    </tr>\n",
       "    <tr>\n",
       "      <th>4022</th>\n",
       "      <td>22</td>\n",
       "      <td>66</td>\n",
       "      <td>6</td>\n",
       "      <td>6.0</td>\n",
       "      <td>75</td>\n",
       "      <td>25.00</td>\n",
       "      <td>2.714000</td>\n",
       "    </tr>\n",
       "    <tr>\n",
       "      <th>4023</th>\n",
       "      <td>22</td>\n",
       "      <td>66</td>\n",
       "      <td>6</td>\n",
       "      <td>6.0</td>\n",
       "      <td>100</td>\n",
       "      <td>25.00</td>\n",
       "      <td>2.879000</td>\n",
       "    </tr>\n",
       "    <tr>\n",
       "      <th>4024</th>\n",
       "      <td>22</td>\n",
       "      <td>66</td>\n",
       "      <td>6</td>\n",
       "      <td>7.5</td>\n",
       "      <td>0</td>\n",
       "      <td>25.00</td>\n",
       "      <td>0.602680</td>\n",
       "    </tr>\n",
       "    <tr>\n",
       "      <th>4025</th>\n",
       "      <td>22</td>\n",
       "      <td>66</td>\n",
       "      <td>6</td>\n",
       "      <td>7.5</td>\n",
       "      <td>100</td>\n",
       "      <td>25.00</td>\n",
       "      <td>3.474000</td>\n",
       "    </tr>\n",
       "  </tbody>\n",
       "</table>\n",
       "<p>4026 rows × 7 columns</p>\n",
       "</div>"
      ],
      "text/plain": [
       "      Number of Storeys(NS)  Height of Structure(HS)  Number of Spans(HSP)  \\\n",
       "0                         1                        3                     2   \n",
       "1                         1                        3                     2   \n",
       "2                         1                        3                     2   \n",
       "3                         1                        3                     2   \n",
       "4                         1                        3                     2   \n",
       "...                     ...                      ...                   ...   \n",
       "4021                     22                       66                     6   \n",
       "4022                     22                       66                     6   \n",
       "4023                     22                       66                     6   \n",
       "4024                     22                       66                     6   \n",
       "4025                     22                       66                     6   \n",
       "\n",
       "      Length of Spans (LS)  Opening percentage (OP)  \\\n",
       "0                      3.0                        0   \n",
       "1                      3.0                      100   \n",
       "2                      4.5                        0   \n",
       "3                      4.5                      100   \n",
       "4                      6.0                        0   \n",
       "...                    ...                      ...   \n",
       "4021                   6.0                       50   \n",
       "4022                   6.0                       75   \n",
       "4023                   6.0                      100   \n",
       "4024                   7.5                        0   \n",
       "4025                   7.5                      100   \n",
       "\n",
       "      Masonry wall Stiffeness Et (MS)  Period (P)  \n",
       "0                                2.25    0.092970  \n",
       "1                                2.25    0.159750  \n",
       "2                                2.25    0.094770  \n",
       "3                                2.25    0.156589  \n",
       "4                                2.25    0.106350  \n",
       "...                               ...         ...  \n",
       "4021                            25.00    1.628000  \n",
       "4022                            25.00    2.714000  \n",
       "4023                            25.00    2.879000  \n",
       "4024                            25.00    0.602680  \n",
       "4025                            25.00    3.474000  \n",
       "\n",
       "[4026 rows x 7 columns]"
      ]
     },
     "execution_count": 5,
     "metadata": {},
     "output_type": "execute_result"
    }
   ],
   "source": [
    "df=pd.read_excel(r\"../dataset/data.xlsx\",sheet_name=\"Sheet1\")\n",
    "df"
   ]
  },
  {
   "cell_type": "code",
   "execution_count": 6,
   "id": "e275a747",
   "metadata": {},
   "outputs": [
    {
     "data": {
      "text/plain": [
       "(4026, 7)"
      ]
     },
     "execution_count": 6,
     "metadata": {},
     "output_type": "execute_result"
    }
   ],
   "source": [
    "df.shape"
   ]
  },
  {
   "cell_type": "code",
   "execution_count": 7,
   "id": "fe2e8e65",
   "metadata": {},
   "outputs": [
    {
     "data": {
      "text/html": [
       "<div>\n",
       "<style scoped>\n",
       "    .dataframe tbody tr th:only-of-type {\n",
       "        vertical-align: middle;\n",
       "    }\n",
       "\n",
       "    .dataframe tbody tr th {\n",
       "        vertical-align: top;\n",
       "    }\n",
       "\n",
       "    .dataframe thead th {\n",
       "        text-align: right;\n",
       "    }\n",
       "</style>\n",
       "<table border=\"1\" class=\"dataframe\">\n",
       "  <thead>\n",
       "    <tr style=\"text-align: right;\">\n",
       "      <th></th>\n",
       "      <th>Number of Storeys(NS)</th>\n",
       "      <th>Height of Structure(HS)</th>\n",
       "      <th>Number of Spans(HSP)</th>\n",
       "      <th>Length of Spans (LS)</th>\n",
       "      <th>Opening percentage (OP)</th>\n",
       "      <th>Masonry wall Stiffeness Et (MS)</th>\n",
       "      <th>Period (P)</th>\n",
       "    </tr>\n",
       "  </thead>\n",
       "  <tbody>\n",
       "    <tr>\n",
       "      <th>0</th>\n",
       "      <td>1</td>\n",
       "      <td>3</td>\n",
       "      <td>2</td>\n",
       "      <td>3.0</td>\n",
       "      <td>0</td>\n",
       "      <td>2.25</td>\n",
       "      <td>0.092970</td>\n",
       "    </tr>\n",
       "    <tr>\n",
       "      <th>1</th>\n",
       "      <td>1</td>\n",
       "      <td>3</td>\n",
       "      <td>2</td>\n",
       "      <td>3.0</td>\n",
       "      <td>100</td>\n",
       "      <td>2.25</td>\n",
       "      <td>0.159750</td>\n",
       "    </tr>\n",
       "    <tr>\n",
       "      <th>2</th>\n",
       "      <td>1</td>\n",
       "      <td>3</td>\n",
       "      <td>2</td>\n",
       "      <td>4.5</td>\n",
       "      <td>0</td>\n",
       "      <td>2.25</td>\n",
       "      <td>0.094770</td>\n",
       "    </tr>\n",
       "    <tr>\n",
       "      <th>3</th>\n",
       "      <td>1</td>\n",
       "      <td>3</td>\n",
       "      <td>2</td>\n",
       "      <td>4.5</td>\n",
       "      <td>100</td>\n",
       "      <td>2.25</td>\n",
       "      <td>0.156589</td>\n",
       "    </tr>\n",
       "    <tr>\n",
       "      <th>4</th>\n",
       "      <td>1</td>\n",
       "      <td>3</td>\n",
       "      <td>2</td>\n",
       "      <td>6.0</td>\n",
       "      <td>0</td>\n",
       "      <td>2.25</td>\n",
       "      <td>0.106350</td>\n",
       "    </tr>\n",
       "  </tbody>\n",
       "</table>\n",
       "</div>"
      ],
      "text/plain": [
       "   Number of Storeys(NS)  Height of Structure(HS)  Number of Spans(HSP)  \\\n",
       "0                      1                        3                     2   \n",
       "1                      1                        3                     2   \n",
       "2                      1                        3                     2   \n",
       "3                      1                        3                     2   \n",
       "4                      1                        3                     2   \n",
       "\n",
       "   Length of Spans (LS)  Opening percentage (OP)  \\\n",
       "0                   3.0                        0   \n",
       "1                   3.0                      100   \n",
       "2                   4.5                        0   \n",
       "3                   4.5                      100   \n",
       "4                   6.0                        0   \n",
       "\n",
       "   Masonry wall Stiffeness Et (MS)  Period (P)  \n",
       "0                             2.25    0.092970  \n",
       "1                             2.25    0.159750  \n",
       "2                             2.25    0.094770  \n",
       "3                             2.25    0.156589  \n",
       "4                             2.25    0.106350  "
      ]
     },
     "execution_count": 7,
     "metadata": {},
     "output_type": "execute_result"
    }
   ],
   "source": [
    "df.head()"
   ]
  },
  {
   "cell_type": "code",
   "execution_count": 8,
   "id": "9e9bfd27",
   "metadata": {},
   "outputs": [
    {
     "name": "stdout",
     "output_type": "stream",
     "text": [
      "      Number of Storeys(NS)  Height of Structure(HS)  Number of Spans(HSP)  \\\n",
      "0                       0.0                      0.0                   0.0   \n",
      "1                       0.0                      0.0                   0.0   \n",
      "2                       0.0                      0.0                   0.0   \n",
      "3                       0.0                      0.0                   0.0   \n",
      "4                       0.0                      0.0                   0.0   \n",
      "...                     ...                      ...                   ...   \n",
      "4021                    1.0                      1.0                   1.0   \n",
      "4022                    1.0                      1.0                   1.0   \n",
      "4023                    1.0                      1.0                   1.0   \n",
      "4024                    1.0                      1.0                   1.0   \n",
      "4025                    1.0                      1.0                   1.0   \n",
      "\n",
      "      Length of Spans (LS)  Opening percentage (OP)  \\\n",
      "0                 0.000000                     0.00   \n",
      "1                 0.000000                     1.00   \n",
      "2                 0.333333                     0.00   \n",
      "3                 0.333333                     1.00   \n",
      "4                 0.666667                     0.00   \n",
      "...                    ...                      ...   \n",
      "4021              0.666667                     0.50   \n",
      "4022              0.666667                     0.75   \n",
      "4023              0.666667                     1.00   \n",
      "4024              1.000000                     0.00   \n",
      "4025              1.000000                     1.00   \n",
      "\n",
      "      Masonry wall Stiffeness Et (MS)  Period (P)  \n",
      "0                                 0.0    0.015051  \n",
      "1                                 0.0    0.033991  \n",
      "2                                 0.0    0.015562  \n",
      "3                                 0.0    0.033095  \n",
      "4                                 0.0    0.018846  \n",
      "...                               ...         ...  \n",
      "4021                              1.0    0.450410  \n",
      "4022                              1.0    0.758416  \n",
      "4023                              1.0    0.805213  \n",
      "4024                              1.0    0.159613  \n",
      "4025                              1.0    0.973964  \n",
      "\n",
      "[4026 rows x 7 columns]\n"
     ]
    }
   ],
   "source": [
    "import pandas as pd\n",
    "from sklearn.preprocessing import MinMaxScaler\n",
    "\n",
    "scaler = MinMaxScaler()\n",
    "normalized_data = scaler.fit_transform(df)\n",
    "\n",
    "normalized_df = pd.DataFrame(normalized_data, columns=df.columns)\n",
    "\n",
    "print(normalized_df)"
   ]
  },
  {
   "cell_type": "code",
   "execution_count": 9,
   "id": "9f75398b",
   "metadata": {},
   "outputs": [
    {
     "data": {
      "text/plain": [
       "Index(['Number of Storeys(NS)', 'Height of Structure(HS)',\n",
       "       'Number of Spans(HSP)', 'Length of Spans (LS)',\n",
       "       'Opening percentage (OP)', 'Masonry wall Stiffeness Et (MS)',\n",
       "       'Period (P)'],\n",
       "      dtype='object')"
      ]
     },
     "execution_count": 9,
     "metadata": {},
     "output_type": "execute_result"
    }
   ],
   "source": [
    "normalized_df.keys()"
   ]
  },
  {
   "cell_type": "code",
   "execution_count": 10,
   "id": "f15b32dd",
   "metadata": {},
   "outputs": [],
   "source": [
    "X=normalized_df.drop(\"Period (P)\" ,axis=1)"
   ]
  },
  {
   "cell_type": "code",
   "execution_count": 11,
   "id": "cd30344d",
   "metadata": {},
   "outputs": [],
   "source": [
    "y=normalized_df[\"Period (P)\"]"
   ]
  },
  {
   "cell_type": "code",
   "execution_count": 12,
   "id": "b1e09009",
   "metadata": {},
   "outputs": [],
   "source": [
    "from sklearn.model_selection import train_test_split"
   ]
  },
  {
   "cell_type": "code",
   "execution_count": 13,
   "id": "8bddc88f",
   "metadata": {},
   "outputs": [],
   "source": [
    "X_train, X_test, y_train, y_test = train_test_split(X, y, test_size=0.2, random_state=99)\n",
    "X_train, X_val, y_train, y_val = train_test_split(X_train, y_train, test_size=0.25, random_state=99)"
   ]
  },
  {
   "cell_type": "markdown",
   "id": "d8042ce6",
   "metadata": {},
   "source": [
    "# ngboost"
   ]
  },
  {
   "cell_type": "code",
   "execution_count": 1,
   "id": "c7867e5e",
   "metadata": {},
   "outputs": [],
   "source": [
    "from ngboost import NGBRegressor"
   ]
  },
  {
   "cell_type": "code",
   "execution_count": 15,
   "id": "b282f4c3",
   "metadata": {},
   "outputs": [],
   "source": [
    "from sklearn.model_selection import KFold,cross_validate\n",
    "from bayes_opt import BayesianOptimization\n",
    "from hyperopt import hp,fmin,tpe,Trials,partial\n",
    "from hyperopt.early_stop import no_progress_loss\n",
    "from sklearn.metrics import mean_squared_error\n",
    "from sklearn.model_selection import train_test_split, KFold\n",
    "import optuna.integration.lightgbm as oplg"
   ]
  },
  {
   "cell_type": "code",
   "execution_count": 20,
   "id": "70ae5b62",
   "metadata": {},
   "outputs": [],
   "source": [
    "def bayesopt_objective(n_estimators,learning_rate):\n",
    "    model= NGBRegressor(n_estimators=int(n_estimators)\n",
    "              ,learning_rate=learning_rate\n",
    "              )\n",
    "    cv=KFold(n_splits=10,shuffle=True,random_state=99)\n",
    "    validate_loss=cross_validate(model,X_train,y_train\n",
    "                                   ,cv=cv\n",
    "                                   ,scoring='neg_root_mean_squared_error'\n",
    "                                   ,n_jobs=-1\n",
    "                                   ,error_score='raise')\n",
    "    \n",
    "    return np.mean(abs(validate_loss['test_score']))"
   ]
  },
  {
   "cell_type": "code",
   "execution_count": 21,
   "id": "ca25f926",
   "metadata": {},
   "outputs": [],
   "source": [
    "def param_bayes_opt(init_points,n_iter):\n",
    "    opt=BayesianOptimization(bayesopt_objective\n",
    "                             ,param_grid_simple\n",
    "                             ,random_state=99)\n",
    "    \n",
    "    opt.maximize(init_points=init_points \n",
    "                 ,n_iter=n_iter \n",
    "                )\n",
    "   \n",
    "    params_best=opt.max['params'] \n",
    "    score_best=opt.max['target'] \n",
    "    \n",
    "  \n",
    "    print(\"\\n\",\"best params: \", params_best,\n",
    "          \"\\n\",\"best cvscore: \", score_best)\n",
    "    \n",
    "    return params_best,score_best"
   ]
  },
  {
   "cell_type": "code",
   "execution_count": 22,
   "id": "da5b0615",
   "metadata": {},
   "outputs": [],
   "source": [
    "def bayes_opt_validation(params_best):\n",
    "    model=NGBRegressor(n_estimators=int(params_best['n_estimators'])\n",
    "            ,learning_rate=params_best['learning_rate']\n",
    "           )\n",
    "    cv=KFold(n_splits=10,shuffle=True,random_state=99)\n",
    "    validate_loss=cross_validate(model,X_train,y_train\n",
    "                                   ,cv=cv\n",
    "                                   ,scoring='neg_root_mean_squared_error'\n",
    "                                   ,n_jobs=-1\n",
    "                                  )\n",
    "    \n",
    "    return np.mean(abs(validate_loss['test_score']))"
   ]
  },
  {
   "cell_type": "code",
   "execution_count": 23,
   "id": "8ef2278e",
   "metadata": {},
   "outputs": [
    {
     "name": "stdout",
     "output_type": "stream",
     "text": [
      "|   iter    |  target   | learni... | n_esti... |\n",
      "-------------------------------------------------\n",
      "| \u001b[0m1        \u001b[0m | \u001b[0m0.01005  \u001b[0m | \u001b[0m0.6719   \u001b[0m | \u001b[0m2.952e+03\u001b[0m |\n",
      "| \u001b[95m2        \u001b[0m | \u001b[95m0.01018  \u001b[0m | \u001b[95m0.8248   \u001b[0m | \u001b[95m1.126e+03\u001b[0m |\n",
      "| \u001b[0m3        \u001b[0m | \u001b[0m0.00935  \u001b[0m | \u001b[0m0.8074   \u001b[0m | \u001b[0m3.262e+03\u001b[0m |\n",
      "| \u001b[95m4        \u001b[0m | \u001b[95m0.01128  \u001b[0m | \u001b[95m0.298    \u001b[0m | \u001b[95m1.187e+03\u001b[0m |\n",
      "| \u001b[0m5        \u001b[0m | \u001b[0m0.01044  \u001b[0m | \u001b[0m0.9896   \u001b[0m | \u001b[0m1.027e+03\u001b[0m |\n",
      "| \u001b[0m6        \u001b[0m | \u001b[0m0.008945 \u001b[0m | \u001b[0m0.7693   \u001b[0m | \u001b[0m3.987e+03\u001b[0m |\n",
      "| \u001b[0m7        \u001b[0m | \u001b[0m0.009574 \u001b[0m | \u001b[0m0.3777   \u001b[0m | \u001b[0m2.977e+03\u001b[0m |\n",
      "| \u001b[0m8        \u001b[0m | \u001b[0m0.009083 \u001b[0m | \u001b[0m0.9281   \u001b[0m | \u001b[0m2.582e+03\u001b[0m |\n",
      "| \u001b[0m9        \u001b[0m | \u001b[0m0.009047 \u001b[0m | \u001b[0m0.973    \u001b[0m | \u001b[0m3.098e+03\u001b[0m |\n",
      "| \u001b[0m10       \u001b[0m | \u001b[0m0.009308 \u001b[0m | \u001b[0m0.09443  \u001b[0m | \u001b[0m4.253e+03\u001b[0m |\n",
      "| \u001b[0m11       \u001b[0m | \u001b[0m0.009466 \u001b[0m | \u001b[0m0.2123   \u001b[0m | \u001b[0m3.217e+03\u001b[0m |\n",
      "| \u001b[0m12       \u001b[0m | \u001b[0m0.009624 \u001b[0m | \u001b[0m0.2927   \u001b[0m | \u001b[0m4.265e+03\u001b[0m |\n",
      "| \u001b[0m13       \u001b[0m | \u001b[0m0.01002  \u001b[0m | \u001b[0m0.8274   \u001b[0m | \u001b[0m1.886e+03\u001b[0m |\n",
      "| \u001b[95m14       \u001b[0m | \u001b[95m0.0114   \u001b[0m | \u001b[95m0.6445   \u001b[0m | \u001b[95m1.381e+03\u001b[0m |\n",
      "| \u001b[0m15       \u001b[0m | \u001b[0m0.01061  \u001b[0m | \u001b[0m0.4118   \u001b[0m | \u001b[0m1.387e+03\u001b[0m |\n",
      "| \u001b[0m16       \u001b[0m | \u001b[0m0.00978  \u001b[0m | \u001b[0m0.1447   \u001b[0m | \u001b[0m1.849e+03\u001b[0m |\n",
      "| \u001b[0m17       \u001b[0m | \u001b[0m0.01026  \u001b[0m | \u001b[0m0.4767   \u001b[0m | \u001b[0m1.31e+03 \u001b[0m |\n",
      "| \u001b[0m18       \u001b[0m | \u001b[0m0.01093  \u001b[0m | \u001b[0m0.2356   \u001b[0m | \u001b[0m1.026e+03\u001b[0m |\n",
      "| \u001b[0m19       \u001b[0m | \u001b[0m0.008838 \u001b[0m | \u001b[0m0.8978   \u001b[0m | \u001b[0m3.209e+03\u001b[0m |\n",
      "| \u001b[0m20       \u001b[0m | \u001b[0m0.009183 \u001b[0m | \u001b[0m0.1682   \u001b[0m | \u001b[0m4.716e+03\u001b[0m |\n",
      "| \u001b[0m21       \u001b[0m | \u001b[0m0.01083  \u001b[0m | \u001b[0m0.3293   \u001b[0m | \u001b[0m1.383e+03\u001b[0m |\n",
      "| \u001b[0m22       \u001b[0m | \u001b[0m0.01093  \u001b[0m | \u001b[0m0.2909   \u001b[0m | \u001b[0m1.378e+03\u001b[0m |\n",
      "| \u001b[0m23       \u001b[0m | \u001b[0m0.01043  \u001b[0m | \u001b[0m0.3952   \u001b[0m | \u001b[0m1.183e+03\u001b[0m |\n",
      "| \u001b[0m24       \u001b[0m | \u001b[0m0.01055  \u001b[0m | \u001b[0m0.3967   \u001b[0m | \u001b[0m1.19e+03 \u001b[0m |\n",
      "| \u001b[95m25       \u001b[0m | \u001b[95m0.01148  \u001b[0m | \u001b[95m0.2078   \u001b[0m | \u001b[95m1.022e+03\u001b[0m |\n",
      "| \u001b[95m26       \u001b[0m | \u001b[95m0.03613  \u001b[0m | \u001b[95m0.002031 \u001b[0m | \u001b[95m1.017e+03\u001b[0m |\n",
      "| \u001b[0m27       \u001b[0m | \u001b[0m0.01068  \u001b[0m | \u001b[0m0.07696  \u001b[0m | \u001b[0m1.016e+03\u001b[0m |\n",
      "| \u001b[0m28       \u001b[0m | \u001b[0m0.008763 \u001b[0m | \u001b[0m0.4558   \u001b[0m | \u001b[0m4.444e+03\u001b[0m |\n",
      "| \u001b[0m29       \u001b[0m | \u001b[0m0.011    \u001b[0m | \u001b[0m0.06002  \u001b[0m | \u001b[0m1.85e+03 \u001b[0m |\n",
      "| \u001b[0m30       \u001b[0m | \u001b[0m0.00944  \u001b[0m | \u001b[0m0.6295   \u001b[0m | \u001b[0m4.833e+03\u001b[0m |\n",
      "| \u001b[0m31       \u001b[0m | \u001b[0m0.0104   \u001b[0m | \u001b[0m0.6078   \u001b[0m | \u001b[0m2.346e+03\u001b[0m |\n",
      "| \u001b[0m32       \u001b[0m | \u001b[0m0.01157  \u001b[0m | \u001b[0m0.682    \u001b[0m | \u001b[0m1.071e+03\u001b[0m |\n",
      "| \u001b[0m33       \u001b[0m | \u001b[0m0.009971 \u001b[0m | \u001b[0m0.724    \u001b[0m | \u001b[0m3.553e+03\u001b[0m |\n",
      "| \u001b[0m34       \u001b[0m | \u001b[0m0.01001  \u001b[0m | \u001b[0m0.5692   \u001b[0m | \u001b[0m2.378e+03\u001b[0m |\n",
      "| \u001b[0m35       \u001b[0m | \u001b[0m0.009684 \u001b[0m | \u001b[0m0.6938   \u001b[0m | \u001b[0m4.259e+03\u001b[0m |\n",
      "| \u001b[0m36       \u001b[0m | \u001b[0m0.009507 \u001b[0m | \u001b[0m0.07827  \u001b[0m | \u001b[0m2.558e+03\u001b[0m |\n",
      "| \u001b[0m37       \u001b[0m | \u001b[0m0.009629 \u001b[0m | \u001b[0m0.3045   \u001b[0m | \u001b[0m3.484e+03\u001b[0m |\n",
      "| \u001b[0m38       \u001b[0m | \u001b[0m0.01015  \u001b[0m | \u001b[0m0.8412   \u001b[0m | \u001b[0m1.732e+03\u001b[0m |\n",
      "| \u001b[0m39       \u001b[0m | \u001b[0m0.009391 \u001b[0m | \u001b[0m0.6911   \u001b[0m | \u001b[0m4.112e+03\u001b[0m |\n",
      "| \u001b[0m40       \u001b[0m | \u001b[0m0.01026  \u001b[0m | \u001b[0m0.1856   \u001b[0m | \u001b[0m1.36e+03 \u001b[0m |\n",
      "| \u001b[0m41       \u001b[0m | \u001b[0m0.009068 \u001b[0m | \u001b[0m0.935    \u001b[0m | \u001b[0m2.862e+03\u001b[0m |\n",
      "| \u001b[0m42       \u001b[0m | \u001b[0m0.008957 \u001b[0m | \u001b[0m0.4694   \u001b[0m | \u001b[0m3.763e+03\u001b[0m |\n",
      "| \u001b[0m43       \u001b[0m | \u001b[0m0.01255  \u001b[0m | \u001b[0m0.01252  \u001b[0m | \u001b[0m3.564e+03\u001b[0m |\n",
      "| \u001b[0m44       \u001b[0m | \u001b[0m0.01046  \u001b[0m | \u001b[0m0.5565   \u001b[0m | \u001b[0m2.094e+03\u001b[0m |\n",
      "| \u001b[0m45       \u001b[0m | \u001b[0m0.00914  \u001b[0m | \u001b[0m0.4846   \u001b[0m | \u001b[0m2.942e+03\u001b[0m |\n",
      "| \u001b[0m46       \u001b[0m | \u001b[0m0.009039 \u001b[0m | \u001b[0m0.3917   \u001b[0m | \u001b[0m3.563e+03\u001b[0m |\n",
      "| \u001b[0m47       \u001b[0m | \u001b[0m0.01056  \u001b[0m | \u001b[0m0.1074   \u001b[0m | \u001b[0m1.378e+03\u001b[0m |\n",
      "| \u001b[0m48       \u001b[0m | \u001b[0m0.01271  \u001b[0m | \u001b[0m0.02749  \u001b[0m | \u001b[0m1.017e+03\u001b[0m |\n",
      "| \u001b[0m49       \u001b[0m | \u001b[0m0.01161  \u001b[0m | \u001b[0m0.6934   \u001b[0m | \u001b[0m1.372e+03\u001b[0m |\n",
      "| \u001b[0m50       \u001b[0m | \u001b[0m0.0102   \u001b[0m | \u001b[0m0.548    \u001b[0m | \u001b[0m2.418e+03\u001b[0m |\n",
      "| \u001b[0m51       \u001b[0m | \u001b[0m0.008882 \u001b[0m | \u001b[0m0.3834   \u001b[0m | \u001b[0m4.871e+03\u001b[0m |\n",
      "| \u001b[0m52       \u001b[0m | \u001b[0m0.01013  \u001b[0m | \u001b[0m0.232    \u001b[0m | \u001b[0m1.62e+03 \u001b[0m |\n",
      "| \u001b[0m53       \u001b[0m | \u001b[0m0.01088  \u001b[0m | \u001b[0m0.329    \u001b[0m | \u001b[0m1.059e+03\u001b[0m |\n",
      "| \u001b[0m54       \u001b[0m | \u001b[0m0.009624 \u001b[0m | \u001b[0m0.7226   \u001b[0m | \u001b[0m4.635e+03\u001b[0m |\n",
      "| \u001b[0m55       \u001b[0m | \u001b[0m0.01114  \u001b[0m | \u001b[0m0.2912   \u001b[0m | \u001b[0m1.187e+03\u001b[0m |\n",
      "| \u001b[0m56       \u001b[0m | \u001b[0m0.01064  \u001b[0m | \u001b[0m0.5884   \u001b[0m | \u001b[0m1.381e+03\u001b[0m |\n",
      "| \u001b[0m57       \u001b[0m | \u001b[0m0.01015  \u001b[0m | \u001b[0m0.5974   \u001b[0m | \u001b[0m1.981e+03\u001b[0m |\n",
      "| \u001b[0m58       \u001b[0m | \u001b[0m0.008498 \u001b[0m | \u001b[0m0.4566   \u001b[0m | \u001b[0m4.712e+03\u001b[0m |\n",
      "| \u001b[0m59       \u001b[0m | \u001b[0m0.01103  \u001b[0m | \u001b[0m0.4045   \u001b[0m | \u001b[0m1.376e+03\u001b[0m |\n",
      "| \u001b[0m60       \u001b[0m | \u001b[0m0.009366 \u001b[0m | \u001b[0m0.3764   \u001b[0m | \u001b[0m3.323e+03\u001b[0m |\n",
      "| \u001b[0m61       \u001b[0m | \u001b[0m0.01309  \u001b[0m | \u001b[0m0.007013 \u001b[0m | \u001b[0m3.564e+03\u001b[0m |\n",
      "| \u001b[0m62       \u001b[0m | \u001b[0m0.01043  \u001b[0m | \u001b[0m0.1449   \u001b[0m | \u001b[0m1.022e+03\u001b[0m |\n",
      "| \u001b[0m63       \u001b[0m | \u001b[0m0.01118  \u001b[0m | \u001b[0m0.3023   \u001b[0m | \u001b[0m1.022e+03\u001b[0m |\n",
      "| \u001b[0m64       \u001b[0m | \u001b[0m0.009928 \u001b[0m | \u001b[0m0.2802   \u001b[0m | \u001b[0m2.076e+03\u001b[0m |\n",
      "| \u001b[0m65       \u001b[0m | \u001b[0m0.009121 \u001b[0m | \u001b[0m0.1181   \u001b[0m | \u001b[0m3.795e+03\u001b[0m |\n",
      "| \u001b[0m66       \u001b[0m | \u001b[0m0.01015  \u001b[0m | \u001b[0m0.5078   \u001b[0m | \u001b[0m1.583e+03\u001b[0m |\n",
      "| \u001b[0m67       \u001b[0m | \u001b[0m0.009035 \u001b[0m | \u001b[0m0.3369   \u001b[0m | \u001b[0m4.07e+03 \u001b[0m |\n",
      "| \u001b[0m68       \u001b[0m | \u001b[0m0.01006  \u001b[0m | \u001b[0m0.1608   \u001b[0m | \u001b[0m1.599e+03\u001b[0m |\n",
      "| \u001b[0m69       \u001b[0m | \u001b[0m0.01039  \u001b[0m | \u001b[0m0.6821   \u001b[0m | \u001b[0m2.195e+03\u001b[0m |\n",
      "| \u001b[0m70       \u001b[0m | \u001b[0m0.01226  \u001b[0m | \u001b[0m0.01232  \u001b[0m | \u001b[0m2.955e+03\u001b[0m |\n",
      "| \u001b[0m71       \u001b[0m | \u001b[0m0.01087  \u001b[0m | \u001b[0m0.083    \u001b[0m | \u001b[0m1.929e+03\u001b[0m |\n",
      "| \u001b[0m72       \u001b[0m | \u001b[0m0.0105   \u001b[0m | \u001b[0m0.2302   \u001b[0m | \u001b[0m1.187e+03\u001b[0m |\n",
      "| \u001b[0m73       \u001b[0m | \u001b[0m0.009503 \u001b[0m | \u001b[0m0.07819  \u001b[0m | \u001b[0m3.564e+03\u001b[0m |\n",
      "| \u001b[0m74       \u001b[0m | \u001b[0m0.01049  \u001b[0m | \u001b[0m0.3289   \u001b[0m | \u001b[0m1.383e+03\u001b[0m |\n",
      "| \u001b[0m75       \u001b[0m | \u001b[0m0.01102  \u001b[0m | \u001b[0m0.0652   \u001b[0m | \u001b[0m1.644e+03\u001b[0m |\n",
      "| \u001b[0m76       \u001b[0m | \u001b[0m0.01039  \u001b[0m | \u001b[0m0.3461   \u001b[0m | \u001b[0m1.059e+03\u001b[0m |\n",
      "| \u001b[0m77       \u001b[0m | \u001b[0m0.009416 \u001b[0m | \u001b[0m0.8273   \u001b[0m | \u001b[0m4.798e+03\u001b[0m |\n",
      "| \u001b[0m78       \u001b[0m | \u001b[0m0.009469 \u001b[0m | \u001b[0m0.08858  \u001b[0m | \u001b[0m3.563e+03\u001b[0m |\n",
      "| \u001b[0m79       \u001b[0m | \u001b[0m0.009818 \u001b[0m | \u001b[0m0.07735  \u001b[0m | \u001b[0m2.955e+03\u001b[0m |\n",
      "| \u001b[0m80       \u001b[0m | \u001b[0m0.01114  \u001b[0m | \u001b[0m0.1681   \u001b[0m | \u001b[0m1.017e+03\u001b[0m |\n",
      "| \u001b[0m81       \u001b[0m | \u001b[0m0.01034  \u001b[0m | \u001b[0m0.7659   \u001b[0m | \u001b[0m1.381e+03\u001b[0m |\n",
      "| \u001b[0m82       \u001b[0m | \u001b[0m0.008569 \u001b[0m | \u001b[0m0.4403   \u001b[0m | \u001b[0m4.737e+03\u001b[0m |\n",
      "| \u001b[0m83       \u001b[0m | \u001b[0m0.01248  \u001b[0m | \u001b[0m0.03804  \u001b[0m | \u001b[0m1.017e+03\u001b[0m |\n",
      "| \u001b[0m84       \u001b[0m | \u001b[0m0.009047 \u001b[0m | \u001b[0m0.3602   \u001b[0m | \u001b[0m3.958e+03\u001b[0m |\n",
      "| \u001b[0m85       \u001b[0m | \u001b[0m0.009798 \u001b[0m | \u001b[0m0.7491   \u001b[0m | \u001b[0m2.407e+03\u001b[0m |\n",
      "| \u001b[0m86       \u001b[0m | \u001b[0m0.01017  \u001b[0m | \u001b[0m0.6039   \u001b[0m | \u001b[0m2.238e+03\u001b[0m |\n",
      "| \u001b[0m87       \u001b[0m | \u001b[0m0.01085  \u001b[0m | \u001b[0m0.02867  \u001b[0m | \u001b[0m4.71e+03 \u001b[0m |\n",
      "| \u001b[0m88       \u001b[0m | \u001b[0m0.01067  \u001b[0m | \u001b[0m0.5515   \u001b[0m | \u001b[0m1.37e+03 \u001b[0m |\n",
      "| \u001b[0m89       \u001b[0m | \u001b[0m0.00914  \u001b[0m | \u001b[0m0.3422   \u001b[0m | \u001b[0m2.641e+03\u001b[0m |\n",
      "| \u001b[0m90       \u001b[0m | \u001b[0m0.01111  \u001b[0m | \u001b[0m0.08868  \u001b[0m | \u001b[0m1.017e+03\u001b[0m |\n",
      "| \u001b[0m91       \u001b[0m | \u001b[0m0.008832 \u001b[0m | \u001b[0m0.3971   \u001b[0m | \u001b[0m4.364e+03\u001b[0m |\n",
      "| \u001b[0m92       \u001b[0m | \u001b[0m0.009097 \u001b[0m | \u001b[0m0.8552   \u001b[0m | \u001b[0m2.463e+03\u001b[0m |\n",
      "| \u001b[0m93       \u001b[0m | \u001b[0m0.01101  \u001b[0m | \u001b[0m0.3256   \u001b[0m | \u001b[0m1.022e+03\u001b[0m |\n",
      "| \u001b[0m94       \u001b[0m | \u001b[0m0.009304 \u001b[0m | \u001b[0m0.211    \u001b[0m | \u001b[0m4.049e+03\u001b[0m |\n",
      "| \u001b[0m95       \u001b[0m | \u001b[0m0.01058  \u001b[0m | \u001b[0m0.1523   \u001b[0m | \u001b[0m1.017e+03\u001b[0m |\n",
      "| \u001b[0m96       \u001b[0m | \u001b[0m0.01081  \u001b[0m | \u001b[0m0.3863   \u001b[0m | \u001b[0m1.19e+03 \u001b[0m |\n",
      "| \u001b[0m97       \u001b[0m | \u001b[0m0.01003  \u001b[0m | \u001b[0m0.6527   \u001b[0m | \u001b[0m3.933e+03\u001b[0m |\n",
      "| \u001b[0m98       \u001b[0m | \u001b[0m0.01055  \u001b[0m | \u001b[0m0.731    \u001b[0m | \u001b[0m2.175e+03\u001b[0m |\n",
      "| \u001b[0m99       \u001b[0m | \u001b[0m0.01189  \u001b[0m | \u001b[0m0.6946   \u001b[0m | \u001b[0m1.372e+03\u001b[0m |\n"
     ]
    },
    {
     "name": "stdout",
     "output_type": "stream",
     "text": [
      "| \u001b[0m100      \u001b[0m | \u001b[0m0.008826 \u001b[0m | \u001b[0m0.4598   \u001b[0m | \u001b[0m4.197e+03\u001b[0m |\n",
      "| \u001b[0m101      \u001b[0m | \u001b[0m0.01026  \u001b[0m | \u001b[0m0.683    \u001b[0m | \u001b[0m2.079e+03\u001b[0m |\n",
      "| \u001b[0m102      \u001b[0m | \u001b[0m0.01137  \u001b[0m | \u001b[0m0.04437  \u001b[0m | \u001b[0m1.644e+03\u001b[0m |\n",
      "| \u001b[0m103      \u001b[0m | \u001b[0m0.009758 \u001b[0m | \u001b[0m0.1807   \u001b[0m | \u001b[0m1.85e+03 \u001b[0m |\n",
      "| \u001b[0m104      \u001b[0m | \u001b[0m0.009414 \u001b[0m | \u001b[0m0.926    \u001b[0m | \u001b[0m1.571e+03\u001b[0m |\n",
      "| \u001b[0m105      \u001b[0m | \u001b[0m0.01103  \u001b[0m | \u001b[0m0.37     \u001b[0m | \u001b[0m1.388e+03\u001b[0m |\n",
      "| \u001b[0m106      \u001b[0m | \u001b[0m0.009743 \u001b[0m | \u001b[0m0.6869   \u001b[0m | \u001b[0m3.861e+03\u001b[0m |\n",
      "| \u001b[0m107      \u001b[0m | \u001b[0m0.01174  \u001b[0m | \u001b[0m0.7009   \u001b[0m | \u001b[0m1.071e+03\u001b[0m |\n",
      "| \u001b[0m108      \u001b[0m | \u001b[0m0.01038  \u001b[0m | \u001b[0m0.2141   \u001b[0m | \u001b[0m1.761e+03\u001b[0m |\n",
      "| \u001b[0m109      \u001b[0m | \u001b[0m0.008774 \u001b[0m | \u001b[0m0.8768   \u001b[0m | \u001b[0m4.999e+03\u001b[0m |\n",
      "| \u001b[0m110      \u001b[0m | \u001b[0m0.008785 \u001b[0m | \u001b[0m0.3478   \u001b[0m | \u001b[0m4.285e+03\u001b[0m |\n",
      "| \u001b[0m111      \u001b[0m | \u001b[0m0.009053 \u001b[0m | \u001b[0m0.8613   \u001b[0m | \u001b[0m4.164e+03\u001b[0m |\n",
      "| \u001b[0m112      \u001b[0m | \u001b[0m0.01001  \u001b[0m | \u001b[0m0.4942   \u001b[0m | \u001b[0m1.388e+03\u001b[0m |\n",
      "| \u001b[0m113      \u001b[0m | \u001b[0m0.01067  \u001b[0m | \u001b[0m0.7838   \u001b[0m | \u001b[0m1.071e+03\u001b[0m |\n",
      "| \u001b[0m114      \u001b[0m | \u001b[0m0.009147 \u001b[0m | \u001b[0m0.2597   \u001b[0m | \u001b[0m4.795e+03\u001b[0m |\n",
      "| \u001b[0m115      \u001b[0m | \u001b[0m0.0105   \u001b[0m | \u001b[0m0.7475   \u001b[0m | \u001b[0m1.071e+03\u001b[0m |\n",
      "| \u001b[0m116      \u001b[0m | \u001b[0m0.01113  \u001b[0m | \u001b[0m0.07374  \u001b[0m | \u001b[0m1.017e+03\u001b[0m |\n",
      "| \u001b[0m117      \u001b[0m | \u001b[0m0.01208  \u001b[0m | \u001b[0m0.05528  \u001b[0m | \u001b[0m1.017e+03\u001b[0m |\n",
      "| \u001b[0m118      \u001b[0m | \u001b[0m0.01646  \u001b[0m | \u001b[0m0.004727 \u001b[0m | \u001b[0m1.644e+03\u001b[0m |\n",
      "| \u001b[0m119      \u001b[0m | \u001b[0m0.008752 \u001b[0m | \u001b[0m0.4341   \u001b[0m | \u001b[0m4.772e+03\u001b[0m |\n",
      "| \u001b[0m120      \u001b[0m | \u001b[0m0.01006  \u001b[0m | \u001b[0m0.8796   \u001b[0m | \u001b[0m1.07e+03 \u001b[0m |\n",
      "=================================================\n",
      "\n",
      " best params:  {'learning_rate': 0.0020310548568615, 'n_estimators': 1017.2910851099939} \n",
      " best cvscore:  0.03613429494898601\n",
      "Total time taken:  8224.03205537796\n"
     ]
    }
   ],
   "source": [
    "# Start time\n",
    "start_time = time.time()\n",
    "\n",
    "param_grid_simple={'n_estimators':(1000,5000)\n",
    "                   ,'learning_rate':( 0.001,0.999)\n",
    "                  }\n",
    "\n",
    "params_best,score_best=param_bayes_opt(20,100)\n",
    "\n",
    "params_best \n",
    "score_best \n",
    "validation_score=bayes_opt_validation(params_best)\n",
    "validation_score \n",
    "# End time\n",
    "end_time = time.time()\n",
    "# Calculate total time\n",
    "total_time = end_time - start_time\n",
    "print(\"Total time taken: \", total_time)"
   ]
  },
  {
   "cell_type": "code",
   "execution_count": 24,
   "id": "373199be",
   "metadata": {
    "scrolled": true
   },
   "outputs": [
    {
     "name": "stdout",
     "output_type": "stream",
     "text": [
      "[iter 0] loss=-0.0899 val_loss=0.0000 scale=1.0000 norm=0.4985\n",
      "[iter 100] loss=-3.1627 val_loss=0.0000 scale=1.0000 norm=0.4446\n",
      "[iter 200] loss=-3.5664 val_loss=0.0000 scale=0.5000 norm=0.2173\n",
      "[iter 300] loss=-3.7803 val_loss=0.0000 scale=0.0039 norm=0.0017\n",
      "[iter 400] loss=-3.8126 val_loss=0.0000 scale=1.0000 norm=0.4201\n",
      "[iter 500] loss=-3.8830 val_loss=0.0000 scale=0.2500 norm=0.1035\n",
      "[iter 600] loss=-3.9435 val_loss=0.0000 scale=0.0078 norm=0.0032\n",
      "[iter 700] loss=-3.9980 val_loss=0.0000 scale=0.0078 norm=0.0032\n",
      "[iter 800] loss=-4.0559 val_loss=0.0000 scale=0.0078 norm=0.0032\n",
      "[iter 900] loss=-4.0923 val_loss=0.0000 scale=0.5000 norm=0.2046\n",
      "[iter 1000] loss=-4.1161 val_loss=0.0000 scale=1.0000 norm=0.4064\n"
     ]
    },
    {
     "data": {
      "text/html": [
       "<style>#sk-container-id-1 {color: black;}#sk-container-id-1 pre{padding: 0;}#sk-container-id-1 div.sk-toggleable {background-color: white;}#sk-container-id-1 label.sk-toggleable__label {cursor: pointer;display: block;width: 100%;margin-bottom: 0;padding: 0.3em;box-sizing: border-box;text-align: center;}#sk-container-id-1 label.sk-toggleable__label-arrow:before {content: \"▸\";float: left;margin-right: 0.25em;color: #696969;}#sk-container-id-1 label.sk-toggleable__label-arrow:hover:before {color: black;}#sk-container-id-1 div.sk-estimator:hover label.sk-toggleable__label-arrow:before {color: black;}#sk-container-id-1 div.sk-toggleable__content {max-height: 0;max-width: 0;overflow: hidden;text-align: left;background-color: #f0f8ff;}#sk-container-id-1 div.sk-toggleable__content pre {margin: 0.2em;color: black;border-radius: 0.25em;background-color: #f0f8ff;}#sk-container-id-1 input.sk-toggleable__control:checked~div.sk-toggleable__content {max-height: 200px;max-width: 100%;overflow: auto;}#sk-container-id-1 input.sk-toggleable__control:checked~label.sk-toggleable__label-arrow:before {content: \"▾\";}#sk-container-id-1 div.sk-estimator input.sk-toggleable__control:checked~label.sk-toggleable__label {background-color: #d4ebff;}#sk-container-id-1 div.sk-label input.sk-toggleable__control:checked~label.sk-toggleable__label {background-color: #d4ebff;}#sk-container-id-1 input.sk-hidden--visually {border: 0;clip: rect(1px 1px 1px 1px);clip: rect(1px, 1px, 1px, 1px);height: 1px;margin: -1px;overflow: hidden;padding: 0;position: absolute;width: 1px;}#sk-container-id-1 div.sk-estimator {font-family: monospace;background-color: #f0f8ff;border: 1px dotted black;border-radius: 0.25em;box-sizing: border-box;margin-bottom: 0.5em;}#sk-container-id-1 div.sk-estimator:hover {background-color: #d4ebff;}#sk-container-id-1 div.sk-parallel-item::after {content: \"\";width: 100%;border-bottom: 1px solid gray;flex-grow: 1;}#sk-container-id-1 div.sk-label:hover label.sk-toggleable__label {background-color: #d4ebff;}#sk-container-id-1 div.sk-serial::before {content: \"\";position: absolute;border-left: 1px solid gray;box-sizing: border-box;top: 0;bottom: 0;left: 50%;z-index: 0;}#sk-container-id-1 div.sk-serial {display: flex;flex-direction: column;align-items: center;background-color: white;padding-right: 0.2em;padding-left: 0.2em;position: relative;}#sk-container-id-1 div.sk-item {position: relative;z-index: 1;}#sk-container-id-1 div.sk-parallel {display: flex;align-items: stretch;justify-content: center;background-color: white;position: relative;}#sk-container-id-1 div.sk-item::before, #sk-container-id-1 div.sk-parallel-item::before {content: \"\";position: absolute;border-left: 1px solid gray;box-sizing: border-box;top: 0;bottom: 0;left: 50%;z-index: -1;}#sk-container-id-1 div.sk-parallel-item {display: flex;flex-direction: column;z-index: 1;position: relative;background-color: white;}#sk-container-id-1 div.sk-parallel-item:first-child::after {align-self: flex-end;width: 50%;}#sk-container-id-1 div.sk-parallel-item:last-child::after {align-self: flex-start;width: 50%;}#sk-container-id-1 div.sk-parallel-item:only-child::after {width: 0;}#sk-container-id-1 div.sk-dashed-wrapped {border: 1px dashed gray;margin: 0 0.4em 0.5em 0.4em;box-sizing: border-box;padding-bottom: 0.4em;background-color: white;}#sk-container-id-1 div.sk-label label {font-family: monospace;font-weight: bold;display: inline-block;line-height: 1.2em;}#sk-container-id-1 div.sk-label-container {text-align: center;}#sk-container-id-1 div.sk-container {/* jupyter's `normalize.less` sets `[hidden] { display: none; }` but bootstrap.min.css set `[hidden] { display: none !important; }` so we also need the `!important` here to be able to override the default hidden behavior on the sphinx rendered scikit-learn.org. See: https://github.com/scikit-learn/scikit-learn/issues/21755 */display: inline-block !important;position: relative;}#sk-container-id-1 div.sk-text-repr-fallback {display: none;}</style><div id=\"sk-container-id-1\" class=\"sk-top-container\"><div class=\"sk-text-repr-fallback\"><pre>NGBRegressor(learning_rate=0.8854, n_estimators=1017,\n",
       "             random_state=RandomState(MT19937) at 0x23220E7D240)</pre><b>In a Jupyter environment, please rerun this cell to show the HTML representation or trust the notebook. <br />On GitHub, the HTML representation is unable to render, please try loading this page with nbviewer.org.</b></div><div class=\"sk-container\" hidden><div class=\"sk-item sk-dashed-wrapped\"><div class=\"sk-label-container\"><div class=\"sk-label sk-toggleable\"><input class=\"sk-toggleable__control sk-hidden--visually\" id=\"sk-estimator-id-1\" type=\"checkbox\" ><label for=\"sk-estimator-id-1\" class=\"sk-toggleable__label sk-toggleable__label-arrow\">NGBRegressor</label><div class=\"sk-toggleable__content\"><pre>NGBRegressor(learning_rate=0.8854, n_estimators=1017,\n",
       "             random_state=RandomState(MT19937) at 0x23220E7D240)</pre></div></div></div><div class=\"sk-parallel\"><div class=\"sk-parallel-item\"><div class=\"sk-item\"><div class=\"sk-label-container\"><div class=\"sk-label sk-toggleable\"><input class=\"sk-toggleable__control sk-hidden--visually\" id=\"sk-estimator-id-2\" type=\"checkbox\" ><label for=\"sk-estimator-id-2\" class=\"sk-toggleable__label sk-toggleable__label-arrow\">Base: DecisionTreeRegressor</label><div class=\"sk-toggleable__content\"><pre>DecisionTreeRegressor(criterion=&#x27;friedman_mse&#x27;, max_depth=3)</pre></div></div></div><div class=\"sk-serial\"><div class=\"sk-item\"><div class=\"sk-estimator sk-toggleable\"><input class=\"sk-toggleable__control sk-hidden--visually\" id=\"sk-estimator-id-3\" type=\"checkbox\" ><label for=\"sk-estimator-id-3\" class=\"sk-toggleable__label sk-toggleable__label-arrow\">DecisionTreeRegressor</label><div class=\"sk-toggleable__content\"><pre>DecisionTreeRegressor(criterion=&#x27;friedman_mse&#x27;, max_depth=3)</pre></div></div></div></div></div></div></div></div></div></div>"
      ],
      "text/plain": [
       "NGBRegressor(learning_rate=0.8854, n_estimators=1017,\n",
       "             random_state=RandomState(MT19937) at 0x23220E7D240)"
      ]
     },
     "execution_count": 24,
     "metadata": {},
     "output_type": "execute_result"
    }
   ],
   "source": [
    "from ngboost import NGBRegressor\n",
    "params_best['n_estimators'] = int(params_best['n_estimators'])\n",
    "nbr_reg= NGBRegressor(**params_best )\n",
    "nbr_reg.fit(X_train, y_train)"
   ]
  },
  {
   "cell_type": "code",
   "execution_count": 25,
   "id": "5a8bfdd1",
   "metadata": {},
   "outputs": [],
   "source": [
    "y_pred= nbr_reg.predict(X_test)\n",
    "y_pred1=nbr_reg.predict(X_val)\n",
    "y_pred2=nbr_reg.predict(X_train)"
   ]
  },
  {
   "cell_type": "code",
   "execution_count": 26,
   "id": "285f5a25",
   "metadata": {},
   "outputs": [
    {
     "name": "stdout",
     "output_type": "stream",
     "text": [
      "mean_absolute_error: 0.005439384593051375\n",
      "mean_squared_error: 5.6569356100853564e-05\n",
      "rmse: 0.007521260273441783\n",
      "r2 score: 0.9988654090187775\n"
     ]
    }
   ],
   "source": [
    "print(\"mean_absolute_error:\", mean_absolute_error(y_val, y_pred1))\n",
    "print(\"mean_squared_error:\", mean_squared_error(y_val, y_pred1))\n",
    "print(\"rmse:\", sqrt(mean_squared_error(y_val, y_pred1)))\n",
    "print(\"r2 score:\", r2_score(y_val, y_pred1))"
   ]
  },
  {
   "cell_type": "code",
   "execution_count": 27,
   "id": "4a3f3505",
   "metadata": {},
   "outputs": [
    {
     "name": "stdout",
     "output_type": "stream",
     "text": [
      "mean_absolute_error: 0.004014162036098418\n",
      "mean_squared_error: 3.1328460140959686e-05\n",
      "rmse: 0.005597183232748387\n",
      "r2 score: 0.9993595365220106\n"
     ]
    }
   ],
   "source": [
    "print(\"mean_absolute_error:\", mean_absolute_error(y_train, y_pred2))\n",
    "print(\"mean_squared_error:\", mean_squared_error(y_train, y_pred2))\n",
    "print(\"rmse:\", sqrt(mean_squared_error(y_train, y_pred2)))\n",
    "print(\"r2 score:\", r2_score(y_train, y_pred2))"
   ]
  },
  {
   "cell_type": "code",
   "execution_count": 28,
   "id": "d0c9b86e",
   "metadata": {},
   "outputs": [
    {
     "name": "stdout",
     "output_type": "stream",
     "text": [
      "mean_absolute_error: 0.005668775500325886\n",
      "mean_squared_error: 6.50179537181907e-05\n",
      "rmse: 0.008063371113758233\n",
      "r2 score: 0.9987308781667686\n"
     ]
    }
   ],
   "source": [
    "print(\"mean_absolute_error:\", mean_absolute_error(y_test, y_pred))\n",
    "print(\"mean_squared_error:\", mean_squared_error(y_test, y_pred))\n",
    "print(\"rmse:\", sqrt(mean_squared_error(y_test, y_pred)))\n",
    "print(\"r2 score:\", r2_score(y_test, y_pred))"
   ]
  },
  {
   "cell_type": "code",
   "execution_count": null,
   "id": "df00012a",
   "metadata": {},
   "outputs": [],
   "source": []
  }
 ],
 "metadata": {
  "kernelspec": {
   "display_name": "Python 3 (ipykernel)",
   "language": "python",
   "name": "python3"
  },
  "language_info": {
   "codemirror_mode": {
    "name": "ipython",
    "version": 3
   },
   "file_extension": ".py",
   "mimetype": "text/x-python",
   "name": "python",
   "nbconvert_exporter": "python",
   "pygments_lexer": "ipython3",
   "version": "3.9.19"
  }
 },
 "nbformat": 4,
 "nbformat_minor": 5
}
