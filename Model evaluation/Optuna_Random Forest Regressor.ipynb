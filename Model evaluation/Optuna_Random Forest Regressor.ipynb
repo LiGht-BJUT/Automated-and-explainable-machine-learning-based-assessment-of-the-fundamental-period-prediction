{
 "cells": [
  {
   "cell_type": "code",
   "execution_count": 1,
   "id": "357b095b",
   "metadata": {},
   "outputs": [],
   "source": [
    "import pandas as pd\n",
    "import matplotlib.pyplot as plt\n",
    "import numpy as np\n",
    "from sklearn.model_selection import train_test_split\n",
    "import time"
   ]
  },
  {
   "cell_type": "code",
   "execution_count": 2,
   "id": "f4040213",
   "metadata": {},
   "outputs": [
    {
     "data": {
      "text/html": [
       "<div>\n",
       "<style scoped>\n",
       "    .dataframe tbody tr th:only-of-type {\n",
       "        vertical-align: middle;\n",
       "    }\n",
       "\n",
       "    .dataframe tbody tr th {\n",
       "        vertical-align: top;\n",
       "    }\n",
       "\n",
       "    .dataframe thead th {\n",
       "        text-align: right;\n",
       "    }\n",
       "</style>\n",
       "<table border=\"1\" class=\"dataframe\">\n",
       "  <thead>\n",
       "    <tr style=\"text-align: right;\">\n",
       "      <th></th>\n",
       "      <th>Number of Storeys(NS)</th>\n",
       "      <th>Height of Structure(HS)</th>\n",
       "      <th>Number of Spans(HSP)</th>\n",
       "      <th>Length of Spans (LS)</th>\n",
       "      <th>Opening percentage (OP)</th>\n",
       "      <th>Masonry wall Stiffeness Et (MS)</th>\n",
       "      <th>Period (P)</th>\n",
       "    </tr>\n",
       "  </thead>\n",
       "  <tbody>\n",
       "    <tr>\n",
       "      <th>0</th>\n",
       "      <td>1</td>\n",
       "      <td>3</td>\n",
       "      <td>2</td>\n",
       "      <td>3.0</td>\n",
       "      <td>0</td>\n",
       "      <td>2.25</td>\n",
       "      <td>0.092970</td>\n",
       "    </tr>\n",
       "    <tr>\n",
       "      <th>1</th>\n",
       "      <td>1</td>\n",
       "      <td>3</td>\n",
       "      <td>2</td>\n",
       "      <td>3.0</td>\n",
       "      <td>100</td>\n",
       "      <td>2.25</td>\n",
       "      <td>0.159750</td>\n",
       "    </tr>\n",
       "    <tr>\n",
       "      <th>2</th>\n",
       "      <td>1</td>\n",
       "      <td>3</td>\n",
       "      <td>2</td>\n",
       "      <td>4.5</td>\n",
       "      <td>0</td>\n",
       "      <td>2.25</td>\n",
       "      <td>0.094770</td>\n",
       "    </tr>\n",
       "    <tr>\n",
       "      <th>3</th>\n",
       "      <td>1</td>\n",
       "      <td>3</td>\n",
       "      <td>2</td>\n",
       "      <td>4.5</td>\n",
       "      <td>100</td>\n",
       "      <td>2.25</td>\n",
       "      <td>0.156589</td>\n",
       "    </tr>\n",
       "    <tr>\n",
       "      <th>4</th>\n",
       "      <td>1</td>\n",
       "      <td>3</td>\n",
       "      <td>2</td>\n",
       "      <td>6.0</td>\n",
       "      <td>0</td>\n",
       "      <td>2.25</td>\n",
       "      <td>0.106350</td>\n",
       "    </tr>\n",
       "    <tr>\n",
       "      <th>...</th>\n",
       "      <td>...</td>\n",
       "      <td>...</td>\n",
       "      <td>...</td>\n",
       "      <td>...</td>\n",
       "      <td>...</td>\n",
       "      <td>...</td>\n",
       "      <td>...</td>\n",
       "    </tr>\n",
       "    <tr>\n",
       "      <th>4021</th>\n",
       "      <td>22</td>\n",
       "      <td>66</td>\n",
       "      <td>6</td>\n",
       "      <td>6.0</td>\n",
       "      <td>50</td>\n",
       "      <td>25.00</td>\n",
       "      <td>1.628000</td>\n",
       "    </tr>\n",
       "    <tr>\n",
       "      <th>4022</th>\n",
       "      <td>22</td>\n",
       "      <td>66</td>\n",
       "      <td>6</td>\n",
       "      <td>6.0</td>\n",
       "      <td>75</td>\n",
       "      <td>25.00</td>\n",
       "      <td>2.714000</td>\n",
       "    </tr>\n",
       "    <tr>\n",
       "      <th>4023</th>\n",
       "      <td>22</td>\n",
       "      <td>66</td>\n",
       "      <td>6</td>\n",
       "      <td>6.0</td>\n",
       "      <td>100</td>\n",
       "      <td>25.00</td>\n",
       "      <td>2.879000</td>\n",
       "    </tr>\n",
       "    <tr>\n",
       "      <th>4024</th>\n",
       "      <td>22</td>\n",
       "      <td>66</td>\n",
       "      <td>6</td>\n",
       "      <td>7.5</td>\n",
       "      <td>0</td>\n",
       "      <td>25.00</td>\n",
       "      <td>0.602680</td>\n",
       "    </tr>\n",
       "    <tr>\n",
       "      <th>4025</th>\n",
       "      <td>22</td>\n",
       "      <td>66</td>\n",
       "      <td>6</td>\n",
       "      <td>7.5</td>\n",
       "      <td>100</td>\n",
       "      <td>25.00</td>\n",
       "      <td>3.474000</td>\n",
       "    </tr>\n",
       "  </tbody>\n",
       "</table>\n",
       "<p>4026 rows × 7 columns</p>\n",
       "</div>"
      ],
      "text/plain": [
       "      Number of Storeys(NS)  Height of Structure(HS)  Number of Spans(HSP)  \\\n",
       "0                         1                        3                     2   \n",
       "1                         1                        3                     2   \n",
       "2                         1                        3                     2   \n",
       "3                         1                        3                     2   \n",
       "4                         1                        3                     2   \n",
       "...                     ...                      ...                   ...   \n",
       "4021                     22                       66                     6   \n",
       "4022                     22                       66                     6   \n",
       "4023                     22                       66                     6   \n",
       "4024                     22                       66                     6   \n",
       "4025                     22                       66                     6   \n",
       "\n",
       "      Length of Spans (LS)  Opening percentage (OP)  \\\n",
       "0                      3.0                        0   \n",
       "1                      3.0                      100   \n",
       "2                      4.5                        0   \n",
       "3                      4.5                      100   \n",
       "4                      6.0                        0   \n",
       "...                    ...                      ...   \n",
       "4021                   6.0                       50   \n",
       "4022                   6.0                       75   \n",
       "4023                   6.0                      100   \n",
       "4024                   7.5                        0   \n",
       "4025                   7.5                      100   \n",
       "\n",
       "      Masonry wall Stiffeness Et (MS)  Period (P)  \n",
       "0                                2.25    0.092970  \n",
       "1                                2.25    0.159750  \n",
       "2                                2.25    0.094770  \n",
       "3                                2.25    0.156589  \n",
       "4                                2.25    0.106350  \n",
       "...                               ...         ...  \n",
       "4021                            25.00    1.628000  \n",
       "4022                            25.00    2.714000  \n",
       "4023                            25.00    2.879000  \n",
       "4024                            25.00    0.602680  \n",
       "4025                            25.00    3.474000  \n",
       "\n",
       "[4026 rows x 7 columns]"
      ]
     },
     "execution_count": 2,
     "metadata": {},
     "output_type": "execute_result"
    }
   ],
   "source": [
    "df=pd.read_excel(r\"../dataset/data.xlsx\",sheet_name=\"Sheet1\")\n",
    "df"
   ]
  },
  {
   "cell_type": "code",
   "execution_count": 3,
   "id": "e275a747",
   "metadata": {},
   "outputs": [
    {
     "data": {
      "text/plain": [
       "(4026, 7)"
      ]
     },
     "execution_count": 3,
     "metadata": {},
     "output_type": "execute_result"
    }
   ],
   "source": [
    "df.shape"
   ]
  },
  {
   "cell_type": "code",
   "execution_count": 4,
   "id": "fe2e8e65",
   "metadata": {},
   "outputs": [
    {
     "data": {
      "text/html": [
       "<div>\n",
       "<style scoped>\n",
       "    .dataframe tbody tr th:only-of-type {\n",
       "        vertical-align: middle;\n",
       "    }\n",
       "\n",
       "    .dataframe tbody tr th {\n",
       "        vertical-align: top;\n",
       "    }\n",
       "\n",
       "    .dataframe thead th {\n",
       "        text-align: right;\n",
       "    }\n",
       "</style>\n",
       "<table border=\"1\" class=\"dataframe\">\n",
       "  <thead>\n",
       "    <tr style=\"text-align: right;\">\n",
       "      <th></th>\n",
       "      <th>Number of Storeys(NS)</th>\n",
       "      <th>Height of Structure(HS)</th>\n",
       "      <th>Number of Spans(HSP)</th>\n",
       "      <th>Length of Spans (LS)</th>\n",
       "      <th>Opening percentage (OP)</th>\n",
       "      <th>Masonry wall Stiffeness Et (MS)</th>\n",
       "      <th>Period (P)</th>\n",
       "    </tr>\n",
       "  </thead>\n",
       "  <tbody>\n",
       "    <tr>\n",
       "      <th>0</th>\n",
       "      <td>1</td>\n",
       "      <td>3</td>\n",
       "      <td>2</td>\n",
       "      <td>3.0</td>\n",
       "      <td>0</td>\n",
       "      <td>2.25</td>\n",
       "      <td>0.092970</td>\n",
       "    </tr>\n",
       "    <tr>\n",
       "      <th>1</th>\n",
       "      <td>1</td>\n",
       "      <td>3</td>\n",
       "      <td>2</td>\n",
       "      <td>3.0</td>\n",
       "      <td>100</td>\n",
       "      <td>2.25</td>\n",
       "      <td>0.159750</td>\n",
       "    </tr>\n",
       "    <tr>\n",
       "      <th>2</th>\n",
       "      <td>1</td>\n",
       "      <td>3</td>\n",
       "      <td>2</td>\n",
       "      <td>4.5</td>\n",
       "      <td>0</td>\n",
       "      <td>2.25</td>\n",
       "      <td>0.094770</td>\n",
       "    </tr>\n",
       "    <tr>\n",
       "      <th>3</th>\n",
       "      <td>1</td>\n",
       "      <td>3</td>\n",
       "      <td>2</td>\n",
       "      <td>4.5</td>\n",
       "      <td>100</td>\n",
       "      <td>2.25</td>\n",
       "      <td>0.156589</td>\n",
       "    </tr>\n",
       "    <tr>\n",
       "      <th>4</th>\n",
       "      <td>1</td>\n",
       "      <td>3</td>\n",
       "      <td>2</td>\n",
       "      <td>6.0</td>\n",
       "      <td>0</td>\n",
       "      <td>2.25</td>\n",
       "      <td>0.106350</td>\n",
       "    </tr>\n",
       "  </tbody>\n",
       "</table>\n",
       "</div>"
      ],
      "text/plain": [
       "   Number of Storeys(NS)  Height of Structure(HS)  Number of Spans(HSP)  \\\n",
       "0                      1                        3                     2   \n",
       "1                      1                        3                     2   \n",
       "2                      1                        3                     2   \n",
       "3                      1                        3                     2   \n",
       "4                      1                        3                     2   \n",
       "\n",
       "   Length of Spans (LS)  Opening percentage (OP)  \\\n",
       "0                   3.0                        0   \n",
       "1                   3.0                      100   \n",
       "2                   4.5                        0   \n",
       "3                   4.5                      100   \n",
       "4                   6.0                        0   \n",
       "\n",
       "   Masonry wall Stiffeness Et (MS)  Period (P)  \n",
       "0                             2.25    0.092970  \n",
       "1                             2.25    0.159750  \n",
       "2                             2.25    0.094770  \n",
       "3                             2.25    0.156589  \n",
       "4                             2.25    0.106350  "
      ]
     },
     "execution_count": 4,
     "metadata": {},
     "output_type": "execute_result"
    }
   ],
   "source": [
    "df.head()"
   ]
  },
  {
   "cell_type": "code",
   "execution_count": 5,
   "id": "9e9bfd27",
   "metadata": {},
   "outputs": [
    {
     "name": "stdout",
     "output_type": "stream",
     "text": [
      "      Number of Storeys(NS)  Height of Structure(HS)  Number of Spans(HSP)  \\\n",
      "0                       0.0                      0.0                   0.0   \n",
      "1                       0.0                      0.0                   0.0   \n",
      "2                       0.0                      0.0                   0.0   \n",
      "3                       0.0                      0.0                   0.0   \n",
      "4                       0.0                      0.0                   0.0   \n",
      "...                     ...                      ...                   ...   \n",
      "4021                    1.0                      1.0                   1.0   \n",
      "4022                    1.0                      1.0                   1.0   \n",
      "4023                    1.0                      1.0                   1.0   \n",
      "4024                    1.0                      1.0                   1.0   \n",
      "4025                    1.0                      1.0                   1.0   \n",
      "\n",
      "      Length of Spans (LS)  Opening percentage (OP)  \\\n",
      "0                 0.000000                     0.00   \n",
      "1                 0.000000                     1.00   \n",
      "2                 0.333333                     0.00   \n",
      "3                 0.333333                     1.00   \n",
      "4                 0.666667                     0.00   \n",
      "...                    ...                      ...   \n",
      "4021              0.666667                     0.50   \n",
      "4022              0.666667                     0.75   \n",
      "4023              0.666667                     1.00   \n",
      "4024              1.000000                     0.00   \n",
      "4025              1.000000                     1.00   \n",
      "\n",
      "      Masonry wall Stiffeness Et (MS)  Period (P)  \n",
      "0                                 0.0    0.015051  \n",
      "1                                 0.0    0.033991  \n",
      "2                                 0.0    0.015562  \n",
      "3                                 0.0    0.033095  \n",
      "4                                 0.0    0.018846  \n",
      "...                               ...         ...  \n",
      "4021                              1.0    0.450410  \n",
      "4022                              1.0    0.758416  \n",
      "4023                              1.0    0.805213  \n",
      "4024                              1.0    0.159613  \n",
      "4025                              1.0    0.973964  \n",
      "\n",
      "[4026 rows x 7 columns]\n"
     ]
    }
   ],
   "source": [
    "import pandas as pd\n",
    "from sklearn.preprocessing import MinMaxScaler\n",
    "\n",
    "scaler = MinMaxScaler()\n",
    "normalized_data = scaler.fit_transform(df)\n",
    "\n",
    "normalized_df = pd.DataFrame(normalized_data, columns=df.columns)\n",
    "\n",
    "print(normalized_df)"
   ]
  },
  {
   "cell_type": "code",
   "execution_count": 6,
   "id": "9f75398b",
   "metadata": {},
   "outputs": [
    {
     "data": {
      "text/plain": [
       "Index(['Number of Storeys(NS)', 'Height of Structure(HS)',\n",
       "       'Number of Spans(HSP)', 'Length of Spans (LS)',\n",
       "       'Opening percentage (OP)', 'Masonry wall Stiffeness Et (MS)',\n",
       "       'Period (P)'],\n",
       "      dtype='object')"
      ]
     },
     "execution_count": 6,
     "metadata": {},
     "output_type": "execute_result"
    }
   ],
   "source": [
    "normalized_df.keys()"
   ]
  },
  {
   "cell_type": "code",
   "execution_count": 9,
   "id": "f15b32dd",
   "metadata": {},
   "outputs": [],
   "source": [
    "X=normalized_df.drop(\"Period (P)\" ,axis=1)"
   ]
  },
  {
   "cell_type": "code",
   "execution_count": 10,
   "id": "cd30344d",
   "metadata": {},
   "outputs": [],
   "source": [
    "y=normalized_df[\"Period (P)\"] "
   ]
  },
  {
   "cell_type": "code",
   "execution_count": 11,
   "id": "8bddc88f",
   "metadata": {},
   "outputs": [],
   "source": [
    "X_train, X_test, y_train, y_test = train_test_split(X, y, test_size=0.2, random_state=99)\n",
    "X_train, X_val, y_train, y_val = train_test_split(X_train, y_train, test_size=0.25, random_state=99)"
   ]
  },
  {
   "cell_type": "markdown",
   "id": "d8042ce6",
   "metadata": {},
   "source": [
    "# RandomForestRegressor"
   ]
  },
  {
   "cell_type": "code",
   "execution_count": 12,
   "id": "373199be",
   "metadata": {
    "scrolled": true
   },
   "outputs": [
    {
     "name": "stderr",
     "output_type": "stream",
     "text": [
      "[I 2024-01-01 10:51:10,933] A new study created in memory with name: no-name-9086b186-2358-4dbb-a853-4c705f28e946\n",
      "[I 2024-01-01 10:51:16,468] Trial 0 finished with value: 0.0264824931269275 and parameters: {'n_estimators': 1800, 'max_depth': 6, 'min_samples_split': 19, 'min_samples_leaf': 3}. Best is trial 0 with value: 0.0264824931269275.\n",
      "[I 2024-01-01 10:51:22,176] Trial 1 finished with value: 0.054912384751566436 and parameters: {'n_estimators': 2400, 'max_depth': 4, 'min_samples_split': 20, 'min_samples_leaf': 16}. Best is trial 0 with value: 0.0264824931269275.\n",
      "[I 2024-01-01 10:51:25,629] Trial 2 finished with value: 0.020598181798083835 and parameters: {'n_estimators': 970, 'max_depth': 7, 'min_samples_split': 20, 'min_samples_leaf': 3}. Best is trial 2 with value: 0.020598181798083835.\n",
      "[I 2024-01-01 10:51:28,685] Trial 3 finished with value: 0.026772060062214373 and parameters: {'n_estimators': 1024, 'max_depth': 6, 'min_samples_split': 20, 'min_samples_leaf': 7}. Best is trial 2 with value: 0.020598181798083835.\n",
      "[I 2024-01-01 10:51:38,990] Trial 4 finished with value: 0.027267163951593804 and parameters: {'n_estimators': 3117, 'max_depth': 6, 'min_samples_split': 5, 'min_samples_leaf': 11}. Best is trial 2 with value: 0.020598181798083835.\n",
      "[I 2024-01-01 10:51:43,899] Trial 5 finished with value: 0.0260753634298726 and parameters: {'n_estimators': 1611, 'max_depth': 9, 'min_samples_split': 11, 'min_samples_leaf': 16}. Best is trial 2 with value: 0.020598181798083835.\n",
      "[I 2024-01-01 10:51:59,727] Trial 6 finished with value: 0.027280528079406226 and parameters: {'n_estimators': 4878, 'max_depth': 6, 'min_samples_split': 3, 'min_samples_leaf': 11}. Best is trial 2 with value: 0.020598181798083835.\n",
      "[I 2024-01-01 10:52:12,869] Trial 7 finished with value: 0.02932999613480346 and parameters: {'n_estimators': 4528, 'max_depth': 6, 'min_samples_split': 2, 'min_samples_leaf': 17}. Best is trial 2 with value: 0.020598181798083835.\n",
      "[I 2024-01-01 10:52:15,668] Trial 8 finished with value: 0.02497099026936809 and parameters: {'n_estimators': 927, 'max_depth': 7, 'min_samples_split': 11, 'min_samples_leaf': 14}. Best is trial 2 with value: 0.020598181798083835.\n",
      "[I 2024-01-01 10:52:23,557] Trial 9 finished with value: 0.08029751564432383 and parameters: {'n_estimators': 3742, 'max_depth': 3, 'min_samples_split': 18, 'min_samples_leaf': 14}. Best is trial 2 with value: 0.020598181798083835.\n",
      "[I 2024-01-01 10:52:34,973] Trial 10 finished with value: 0.016753696978335633 and parameters: {'n_estimators': 2795, 'max_depth': 10, 'min_samples_split': 15, 'min_samples_leaf': 2}. Best is trial 10 with value: 0.016753696978335633.\n",
      "[I 2024-01-01 10:52:47,755] Trial 11 finished with value: 0.016758205126646244 and parameters: {'n_estimators': 3050, 'max_depth': 10, 'min_samples_split': 15, 'min_samples_leaf': 2}. Best is trial 10 with value: 0.016753696978335633.\n",
      "[I 2024-01-01 10:53:00,639] Trial 12 finished with value: 0.01762482631644817 and parameters: {'n_estimators': 3178, 'max_depth': 10, 'min_samples_split': 15, 'min_samples_leaf': 6}. Best is trial 10 with value: 0.016753696978335633.\n",
      "[I 2024-01-01 10:53:19,147] Trial 13 finished with value: 0.01633802396970284 and parameters: {'n_estimators': 3973, 'max_depth': 10, 'min_samples_split': 14, 'min_samples_leaf': 2}. Best is trial 13 with value: 0.01633802396970284.\n",
      "[I 2024-01-01 10:53:34,934] Trial 14 finished with value: 0.01804399123441391 and parameters: {'n_estimators': 3851, 'max_depth': 9, 'min_samples_split': 14, 'min_samples_leaf': 7}. Best is trial 13 with value: 0.01633802396970284.\n",
      "[I 2024-01-01 10:53:47,022] Trial 15 finished with value: 0.029914626162272633 and parameters: {'n_estimators': 3906, 'max_depth': 8, 'min_samples_split': 9, 'min_samples_leaf': 20}. Best is trial 13 with value: 0.01633802396970284.\n",
      "[I 2024-01-01 10:53:58,599] Trial 16 finished with value: 0.01661827260998881 and parameters: {'n_estimators': 2638, 'max_depth': 9, 'min_samples_split': 13, 'min_samples_leaf': 5}. Best is trial 13 with value: 0.01633802396970284.\n",
      "[I 2024-01-01 10:54:07,400] Trial 17 finished with value: 0.01641960303233195 and parameters: {'n_estimators': 2156, 'max_depth': 8, 'min_samples_split': 8, 'min_samples_leaf': 5}. Best is trial 13 with value: 0.01633802396970284.\n",
      "[I 2024-01-01 10:54:15,556] Trial 18 finished with value: 0.020195750578200958 and parameters: {'n_estimators': 2183, 'max_depth': 8, 'min_samples_split': 7, 'min_samples_leaf': 9}. Best is trial 13 with value: 0.01633802396970284.\n",
      "[I 2024-01-01 10:54:34,247] Trial 19 finished with value: 0.01641532670103061 and parameters: {'n_estimators': 4339, 'max_depth': 8, 'min_samples_split': 8, 'min_samples_leaf': 5}. Best is trial 13 with value: 0.01633802396970284.\n",
      "[I 2024-01-01 10:54:51,292] Trial 20 finished with value: 0.02004048234008803 and parameters: {'n_estimators': 4400, 'max_depth': 9, 'min_samples_split': 10, 'min_samples_leaf': 9}. Best is trial 13 with value: 0.01633802396970284.\n",
      "[I 2024-01-01 10:55:05,621] Trial 21 finished with value: 0.01641555149332108 and parameters: {'n_estimators': 3499, 'max_depth': 8, 'min_samples_split': 7, 'min_samples_leaf': 5}. Best is trial 13 with value: 0.01633802396970284.\n",
      "[I 2024-01-01 10:55:21,068] Trial 22 finished with value: 0.015391620606541593 and parameters: {'n_estimators': 3514, 'max_depth': 8, 'min_samples_split': 6, 'min_samples_leaf': 4}. Best is trial 22 with value: 0.015391620606541593.\n",
      "[I 2024-01-01 10:55:37,101] Trial 23 finished with value: 0.018550242386345332 and parameters: {'n_estimators': 4282, 'max_depth': 7, 'min_samples_split': 6, 'min_samples_leaf': 4}. Best is trial 22 with value: 0.015391620606541593.\n",
      "[I 2024-01-01 10:55:51,194] Trial 24 finished with value: 0.03888332510351542 and parameters: {'n_estimators': 4846, 'max_depth': 5, 'min_samples_split': 5, 'min_samples_leaf': 8}. Best is trial 22 with value: 0.015391620606541593.\n",
      "[I 2024-01-01 10:56:10,520] Trial 25 finished with value: 0.01550584150137816 and parameters: {'n_estimators': 4141, 'max_depth': 9, 'min_samples_split': 12, 'min_samples_leaf': 2}. Best is trial 22 with value: 0.015391620606541593.\n",
      "[I 2024-01-01 10:56:24,903] Trial 26 finished with value: 0.01758421518904855 and parameters: {'n_estimators': 3475, 'max_depth': 10, 'min_samples_split': 17, 'min_samples_leaf': 2}. Best is trial 22 with value: 0.015391620606541593.\n",
      "[I 2024-01-01 10:56:42,763] Trial 27 finished with value: 0.015650669446191468 and parameters: {'n_estimators': 4093, 'max_depth': 9, 'min_samples_split': 12, 'min_samples_leaf': 3}. Best is trial 22 with value: 0.015391620606541593.\n",
      "[I 2024-01-01 10:56:58,442] Trial 28 finished with value: 0.015898457898713338 and parameters: {'n_estimators': 3540, 'max_depth': 9, 'min_samples_split': 12, 'min_samples_leaf': 4}. Best is trial 22 with value: 0.015391620606541593.\n",
      "[I 2024-01-01 10:57:14,026] Trial 29 finished with value: 0.01862406391879143 and parameters: {'n_estimators': 4214, 'max_depth': 7, 'min_samples_split': 10, 'min_samples_leaf': 3}. Best is trial 22 with value: 0.015391620606541593.\n",
      "[I 2024-01-01 10:57:34,888] Trial 30 finished with value: 0.015882375317470714 and parameters: {'n_estimators': 4601, 'max_depth': 9, 'min_samples_split': 12, 'min_samples_leaf': 4}. Best is trial 22 with value: 0.015391620606541593.\n",
      "[I 2024-01-01 10:57:55,269] Trial 31 finished with value: 0.015880479040046837 and parameters: {'n_estimators': 4666, 'max_depth': 9, 'min_samples_split': 12, 'min_samples_leaf': 4}. Best is trial 22 with value: 0.015391620606541593.\n",
      "[I 2024-01-01 10:58:11,227] Trial 32 finished with value: 0.018342233634252393 and parameters: {'n_estimators': 4112, 'max_depth': 8, 'min_samples_split': 13, 'min_samples_leaf': 7}. Best is trial 22 with value: 0.015391620606541593.\n",
      "[I 2024-01-01 10:58:34,581] Trial 33 finished with value: 0.014754021248304617 and parameters: {'n_estimators': 4982, 'max_depth': 9, 'min_samples_split': 10, 'min_samples_leaf': 3}. Best is trial 33 with value: 0.014754021248304617.\n",
      "[I 2024-01-01 10:58:56,135] Trial 34 finished with value: 0.015275519953006933 and parameters: {'n_estimators': 4970, 'max_depth': 8, 'min_samples_split': 9, 'min_samples_leaf': 3}. Best is trial 33 with value: 0.014754021248304617.\n"
     ]
    },
    {
     "name": "stderr",
     "output_type": "stream",
     "text": [
      "[I 2024-01-01 10:59:14,390] Trial 35 finished with value: 0.019541919478185236 and parameters: {'n_estimators': 4747, 'max_depth': 7, 'min_samples_split': 9, 'min_samples_leaf': 6}. Best is trial 33 with value: 0.014754021248304617.\n",
      "[I 2024-01-01 10:59:27,945] Trial 36 finished with value: 0.038868208570718675 and parameters: {'n_estimators': 4967, 'max_depth': 5, 'min_samples_split': 10, 'min_samples_leaf': 3}. Best is trial 33 with value: 0.014754021248304617.\n",
      "[I 2024-01-01 10:59:48,439] Trial 37 finished with value: 0.01740855627636899 and parameters: {'n_estimators': 4984, 'max_depth': 8, 'min_samples_split': 5, 'min_samples_leaf': 6}. Best is trial 33 with value: 0.014754021248304617.\n",
      "[I 2024-01-01 11:00:04,599] Trial 38 finished with value: 0.02288125943425674 and parameters: {'n_estimators': 4525, 'max_depth': 7, 'min_samples_split': 3, 'min_samples_leaf': 11}. Best is trial 33 with value: 0.014754021248304617.\n",
      "[I 2024-01-01 11:00:29,751] Trial 39 finished with value: 0.01475832706176199 and parameters: {'n_estimators': 3684, 'max_depth': 8, 'min_samples_split': 8, 'min_samples_leaf': 2}. Best is trial 33 with value: 0.014754021248304617.\n",
      "[I 2024-01-01 11:00:44,149] Trial 40 finished with value: 0.03892546222328493 and parameters: {'n_estimators': 3352, 'max_depth': 5, 'min_samples_split': 6, 'min_samples_leaf': 9}. Best is trial 33 with value: 0.014754021248304617.\n",
      "[I 2024-01-01 11:01:09,492] Trial 41 finished with value: 0.01528953758353414 and parameters: {'n_estimators': 3797, 'max_depth': 8, 'min_samples_split': 9, 'min_samples_leaf': 3}. Best is trial 33 with value: 0.014754021248304617.\n",
      "[I 2024-01-01 11:01:34,712] Trial 42 finished with value: 0.014947913388974771 and parameters: {'n_estimators': 3701, 'max_depth': 8, 'min_samples_split': 8, 'min_samples_leaf': 3}. Best is trial 33 with value: 0.014754021248304617.\n",
      "[I 2024-01-01 11:01:42,131] Trial 43 finished with value: 0.018482710529603763 and parameters: {'n_estimators': 1230, 'max_depth': 7, 'min_samples_split': 9, 'min_samples_leaf': 3}. Best is trial 33 with value: 0.014754021248304617.\n",
      "[I 2024-01-01 11:01:59,144] Trial 44 finished with value: 0.01492385793826556 and parameters: {'n_estimators': 2955, 'max_depth': 8, 'min_samples_split': 8, 'min_samples_leaf': 3}. Best is trial 33 with value: 0.014754021248304617.\n",
      "[I 2024-01-01 11:02:07,159] Trial 45 finished with value: 0.027875972395226503 and parameters: {'n_estimators': 2694, 'max_depth': 6, 'min_samples_split': 8, 'min_samples_leaf': 13}. Best is trial 33 with value: 0.014754021248304617.\n",
      "[I 2024-01-01 11:02:18,345] Trial 46 finished with value: 0.01817874635549114 and parameters: {'n_estimators': 2937, 'max_depth': 7, 'min_samples_split': 7, 'min_samples_leaf': 2}. Best is trial 33 with value: 0.014754021248304617.\n",
      "[I 2024-01-01 11:02:23,455] Trial 47 finished with value: 0.08035793563549165 and parameters: {'n_estimators': 2529, 'max_depth': 3, 'min_samples_split': 4, 'min_samples_leaf': 6}. Best is trial 33 with value: 0.014754021248304617.\n",
      "[I 2024-01-01 11:02:36,827] Trial 48 finished with value: 0.015484172288104935 and parameters: {'n_estimators': 3131, 'max_depth': 8, 'min_samples_split': 10, 'min_samples_leaf': 2}. Best is trial 33 with value: 0.014754021248304617.\n",
      "[I 2024-01-01 11:02:46,585] Trial 49 finished with value: 0.013595604200899654 and parameters: {'n_estimators': 1917, 'max_depth': 10, 'min_samples_split': 8, 'min_samples_leaf': 3}. Best is trial 49 with value: 0.013595604200899654.\n",
      "[I 2024-01-01 11:02:51,465] Trial 50 finished with value: 0.029898421178639795 and parameters: {'n_estimators': 1699, 'max_depth': 10, 'min_samples_split': 8, 'min_samples_leaf': 20}. Best is trial 49 with value: 0.013595604200899654.\n",
      "[I 2024-01-01 11:03:00,456] Trial 51 finished with value: 0.015403112760555662 and parameters: {'n_estimators': 2028, 'max_depth': 10, 'min_samples_split': 11, 'min_samples_leaf': 4}. Best is trial 49 with value: 0.013595604200899654.\n",
      "[I 2024-01-01 11:03:11,253] Trial 52 finished with value: 0.015766192870179725 and parameters: {'n_estimators': 2416, 'max_depth': 9, 'min_samples_split': 7, 'min_samples_leaf': 5}. Best is trial 49 with value: 0.013595604200899654.\n",
      "[I 2024-01-01 11:03:17,122] Trial 53 finished with value: 0.01407165237636956 and parameters: {'n_estimators': 1200, 'max_depth': 10, 'min_samples_split': 9, 'min_samples_leaf': 3}. Best is trial 49 with value: 0.013595604200899654.\n",
      "[I 2024-01-01 11:03:21,478] Trial 54 finished with value: 0.027881819400005618 and parameters: {'n_estimators': 1370, 'max_depth': 10, 'min_samples_split': 8, 'min_samples_leaf': 18}. Best is trial 49 with value: 0.013595604200899654.\n",
      "[I 2024-01-01 11:03:31,266] Trial 55 finished with value: 0.014888660917144428 and parameters: {'n_estimators': 1862, 'max_depth': 10, 'min_samples_split': 11, 'min_samples_leaf': 2}. Best is trial 49 with value: 0.013595604200899654.\n",
      "[I 2024-01-01 11:03:40,620] Trial 56 finished with value: 0.014890577423871707 and parameters: {'n_estimators': 1925, 'max_depth': 10, 'min_samples_split': 11, 'min_samples_leaf': 2}. Best is trial 49 with value: 0.013595604200899654.\n",
      "[I 2024-01-01 11:03:47,222] Trial 57 finished with value: 0.01488402097706189 and parameters: {'n_estimators': 1484, 'max_depth': 10, 'min_samples_split': 11, 'min_samples_leaf': 2}. Best is trial 49 with value: 0.013595604200899654.\n",
      "[I 2024-01-01 11:03:54,242] Trial 58 finished with value: 0.014896493584638248 and parameters: {'n_estimators': 1431, 'max_depth': 10, 'min_samples_split': 11, 'min_samples_leaf': 2}. Best is trial 49 with value: 0.013595604200899654.\n",
      "[I 2024-01-01 11:03:58,702] Trial 59 finished with value: 0.016595652655835624 and parameters: {'n_estimators': 1090, 'max_depth': 10, 'min_samples_split': 13, 'min_samples_leaf': 5}. Best is trial 49 with value: 0.013595604200899654.\n",
      "[I 2024-01-01 11:04:06,638] Trial 60 finished with value: 0.01500033854640697 and parameters: {'n_estimators': 1452, 'max_depth': 10, 'min_samples_split': 10, 'min_samples_leaf': 4}. Best is trial 49 with value: 0.013595604200899654.\n",
      "[I 2024-01-01 11:04:15,088] Trial 61 finished with value: 0.014896300631661162 and parameters: {'n_estimators': 1834, 'max_depth': 10, 'min_samples_split': 11, 'min_samples_leaf': 2}. Best is trial 49 with value: 0.013595604200899654.\n",
      "[I 2024-01-01 11:04:23,912] Trial 62 finished with value: 0.014894434626786308 and parameters: {'n_estimators': 1839, 'max_depth': 10, 'min_samples_split': 11, 'min_samples_leaf': 2}. Best is trial 49 with value: 0.013595604200899654.\n",
      "[I 2024-01-01 11:04:27,152] Trial 63 finished with value: 0.022927233450379142 and parameters: {'n_estimators': 860, 'max_depth': 10, 'min_samples_split': 10, 'min_samples_leaf': 12}. Best is trial 49 with value: 0.013595604200899654.\n",
      "[I 2024-01-01 11:04:35,843] Trial 64 finished with value: 0.015962181886035796 and parameters: {'n_estimators': 1991, 'max_depth': 9, 'min_samples_split': 13, 'min_samples_leaf': 2}. Best is trial 49 with value: 0.013595604200899654.\n",
      "[I 2024-01-01 11:04:45,518] Trial 65 finished with value: 0.01662327775691698 and parameters: {'n_estimators': 2246, 'max_depth': 10, 'min_samples_split': 14, 'min_samples_leaf': 4}. Best is trial 49 with value: 0.013595604200899654.\n",
      "[I 2024-01-01 11:04:53,455] Trial 66 finished with value: 0.014293370749493484 and parameters: {'n_estimators': 1661, 'max_depth': 9, 'min_samples_split': 9, 'min_samples_leaf': 3}. Best is trial 49 with value: 0.013595604200899654.\n",
      "[I 2024-01-01 11:05:01,392] Trial 67 finished with value: 0.014289098052943634 and parameters: {'n_estimators': 1686, 'max_depth': 9, 'min_samples_split': 9, 'min_samples_leaf': 3}. Best is trial 49 with value: 0.013595604200899654.\n",
      "[I 2024-01-01 11:05:08,555] Trial 68 finished with value: 0.01577939706397401 and parameters: {'n_estimators': 1566, 'max_depth': 9, 'min_samples_split': 9, 'min_samples_leaf': 5}. Best is trial 49 with value: 0.013595604200899654.\n",
      "[I 2024-01-01 11:05:14,205] Trial 69 finished with value: 0.013400892277122066 and parameters: {'n_estimators': 1116, 'max_depth': 9, 'min_samples_split': 7, 'min_samples_leaf': 3}. Best is trial 69 with value: 0.013400892277122066.\n",
      "[I 2024-01-01 11:05:18,252] Trial 70 finished with value: 0.01904791157156148 and parameters: {'n_estimators': 1046, 'max_depth': 9, 'min_samples_split': 7, 'min_samples_leaf': 8}. Best is trial 69 with value: 0.013400892277122066.\n"
     ]
    },
    {
     "name": "stderr",
     "output_type": "stream",
     "text": [
      "[I 2024-01-01 11:05:24,626] Trial 71 finished with value: 0.013059095153890754 and parameters: {'n_estimators': 1255, 'max_depth': 9, 'min_samples_split': 6, 'min_samples_leaf': 3}. Best is trial 71 with value: 0.013059095153890754.\n",
      "[I 2024-01-01 11:05:31,000] Trial 72 finished with value: 0.013051889893273539 and parameters: {'n_estimators': 1241, 'max_depth': 9, 'min_samples_split': 6, 'min_samples_leaf': 3}. Best is trial 72 with value: 0.013051889893273539.\n",
      "[I 2024-01-01 11:05:36,053] Trial 73 finished with value: 0.01575973133744988 and parameters: {'n_estimators': 1211, 'max_depth': 9, 'min_samples_split': 5, 'min_samples_leaf': 5}. Best is trial 72 with value: 0.013051889893273539.\n",
      "[I 2024-01-01 11:05:42,174] Trial 74 finished with value: 0.014476675211118482 and parameters: {'n_estimators': 1262, 'max_depth': 9, 'min_samples_split': 6, 'min_samples_leaf': 4}. Best is trial 72 with value: 0.013051889893273539.\n",
      "[I 2024-01-01 11:05:48,543] Trial 75 finished with value: 0.014476398481408038 and parameters: {'n_estimators': 1260, 'max_depth': 9, 'min_samples_split': 6, 'min_samples_leaf': 4}. Best is trial 72 with value: 0.013051889893273539.\n",
      "[I 2024-01-01 11:05:52,981] Trial 76 finished with value: 0.014482132626084342 and parameters: {'n_estimators': 807, 'max_depth': 9, 'min_samples_split': 6, 'min_samples_leaf': 4}. Best is trial 72 with value: 0.013051889893273539.\n",
      "[I 2024-01-01 11:05:58,276] Trial 77 finished with value: 0.01306001353662009 and parameters: {'n_estimators': 981, 'max_depth': 9, 'min_samples_split': 4, 'min_samples_leaf': 3}. Best is trial 72 with value: 0.013051889893273539.\n",
      "[I 2024-01-01 11:06:05,018] Trial 78 finished with value: 0.01701028214271124 and parameters: {'n_estimators': 1671, 'max_depth': 9, 'min_samples_split': 4, 'min_samples_leaf': 6}. Best is trial 72 with value: 0.013051889893273539.\n",
      "[I 2024-01-01 11:06:07,408] Trial 79 finished with value: 0.05481933494888279 and parameters: {'n_estimators': 974, 'max_depth': 4, 'min_samples_split': 2, 'min_samples_leaf': 15}. Best is trial 72 with value: 0.013051889893273539.\n",
      "[I 2024-01-01 11:06:13,488] Trial 80 finished with value: 0.013060155302498553 and parameters: {'n_estimators': 1102, 'max_depth': 9, 'min_samples_split': 4, 'min_samples_leaf': 3}. Best is trial 72 with value: 0.013051889893273539.\n",
      "[I 2024-01-01 11:06:19,366] Trial 81 finished with value: 0.013064866377193169 and parameters: {'n_estimators': 1128, 'max_depth': 9, 'min_samples_split': 4, 'min_samples_leaf': 3}. Best is trial 72 with value: 0.013051889893273539.\n",
      "[I 2024-01-01 11:06:24,890] Trial 82 finished with value: 0.013063043153612487 and parameters: {'n_estimators': 1104, 'max_depth': 9, 'min_samples_split': 3, 'min_samples_leaf': 3}. Best is trial 72 with value: 0.013051889893273539.\n",
      "[I 2024-01-01 11:06:31,286] Trial 83 finished with value: 0.013059129777255157 and parameters: {'n_estimators': 1148, 'max_depth': 9, 'min_samples_split': 3, 'min_samples_leaf': 3}. Best is trial 72 with value: 0.013051889893273539.\n",
      "[I 2024-01-01 11:06:36,910] Trial 84 finished with value: 0.013063043153612487 and parameters: {'n_estimators': 1104, 'max_depth': 9, 'min_samples_split': 3, 'min_samples_leaf': 3}. Best is trial 72 with value: 0.013051889893273539.\n",
      "[I 2024-01-01 11:06:40,848] Trial 85 finished with value: 0.015791642265376365 and parameters: {'n_estimators': 910, 'max_depth': 9, 'min_samples_split': 3, 'min_samples_leaf': 5}. Best is trial 72 with value: 0.013051889893273539.\n",
      "[I 2024-01-01 11:06:46,317] Trial 86 finished with value: 0.013056038359630675 and parameters: {'n_estimators': 1008, 'max_depth': 9, 'min_samples_split': 4, 'min_samples_leaf': 3}. Best is trial 72 with value: 0.013051889893273539.\n",
      "[I 2024-01-01 11:06:52,414] Trial 87 finished with value: 0.015424779165500597 and parameters: {'n_estimators': 1365, 'max_depth': 8, 'min_samples_split': 4, 'min_samples_leaf': 4}. Best is trial 72 with value: 0.013051889893273539.\n",
      "[I 2024-01-01 11:06:56,069] Trial 88 finished with value: 0.020981399670128045 and parameters: {'n_estimators': 1002, 'max_depth': 9, 'min_samples_split': 3, 'min_samples_leaf': 10}. Best is trial 72 with value: 0.013051889893273539.\n",
      "[I 2024-01-01 11:07:02,284] Trial 89 finished with value: 0.01305880444973064 and parameters: {'n_estimators': 1149, 'max_depth': 9, 'min_samples_split': 2, 'min_samples_leaf': 3}. Best is trial 72 with value: 0.013051889893273539.\n",
      "[I 2024-01-01 11:07:07,296] Trial 90 finished with value: 0.018343817796415834 and parameters: {'n_estimators': 1319, 'max_depth': 8, 'min_samples_split': 2, 'min_samples_leaf': 7}. Best is trial 72 with value: 0.013051889893273539.\n",
      "[I 2024-01-01 11:07:12,882] Trial 91 finished with value: 0.013063043153612487 and parameters: {'n_estimators': 1104, 'max_depth': 9, 'min_samples_split': 4, 'min_samples_leaf': 3}. Best is trial 72 with value: 0.013051889893273539.\n",
      "[I 2024-01-01 11:07:17,600] Trial 92 finished with value: 0.014453501743637574 and parameters: {'n_estimators': 945, 'max_depth': 9, 'min_samples_split': 3, 'min_samples_leaf': 4}. Best is trial 72 with value: 0.013051889893273539.\n",
      "[I 2024-01-01 11:07:23,292] Trial 93 finished with value: 0.013058552400560518 and parameters: {'n_estimators': 1147, 'max_depth': 9, 'min_samples_split': 2, 'min_samples_leaf': 3}. Best is trial 72 with value: 0.013051889893273539.\n",
      "[I 2024-01-01 11:07:26,867] Trial 94 finished with value: 0.014481379849817273 and parameters: {'n_estimators': 800, 'max_depth': 9, 'min_samples_split': 2, 'min_samples_leaf': 4}. Best is trial 72 with value: 0.013051889893273539.\n",
      "[I 2024-01-01 11:07:33,556] Trial 95 finished with value: 0.011687282971855204 and parameters: {'n_estimators': 1154, 'max_depth': 9, 'min_samples_split': 3, 'min_samples_leaf': 2}. Best is trial 95 with value: 0.011687282971855204.\n",
      "[I 2024-01-01 11:07:40,228] Trial 96 finished with value: 0.013649378705925792 and parameters: {'n_estimators': 1518, 'max_depth': 8, 'min_samples_split': 2, 'min_samples_leaf': 2}. Best is trial 95 with value: 0.011687282971855204.\n",
      "[I 2024-01-01 11:07:46,365] Trial 97 finished with value: 0.011965642512898158 and parameters: {'n_estimators': 1185, 'max_depth': 9, 'min_samples_split': 5, 'min_samples_leaf': 2}. Best is trial 95 with value: 0.011687282971855204.\n",
      "[I 2024-01-01 11:07:52,722] Trial 98 finished with value: 0.013807193460242399 and parameters: {'n_estimators': 1333, 'max_depth': 8, 'min_samples_split': 5, 'min_samples_leaf': 2}. Best is trial 95 with value: 0.011687282971855204.\n",
      "[I 2024-01-01 11:07:57,476] Trial 99 finished with value: 0.011977517883282716 and parameters: {'n_estimators': 913, 'max_depth': 9, 'min_samples_split': 5, 'min_samples_leaf': 2}. Best is trial 95 with value: 0.011687282971855204.\n"
     ]
    },
    {
     "name": "stdout",
     "output_type": "stream",
     "text": [
      "Total time taken:  1006.5442242622375\n",
      "Best params: {'n_estimators': 1154, 'max_depth': 9, 'min_samples_split': 3, 'min_samples_leaf': 2}\n",
      "RMSE: 0.011687282971855204\n"
     ]
    }
   ],
   "source": [
    "import optuna\n",
    "from sklearn.ensemble import RandomForestRegressor\n",
    "from sklearn.metrics import mean_squared_error\n",
    "\n",
    "\n",
    "\n",
    "\n",
    "def objective(trial):\n",
    "  params = {\n",
    "      'n_estimators': trial.suggest_int('n_estimators', 800, 5000),\n",
    "      'max_depth': trial.suggest_int('max_depth', 3, 10),\n",
    "      'min_samples_split': trial.suggest_int('min_samples_split', 2, 20),\n",
    "      'min_samples_leaf': trial.suggest_int('min_samples_leaf', 2, 20),\n",
    "      \n",
    "  }\n",
    "  rf = RandomForestRegressor(**params, random_state=42)\n",
    "  rf.fit(X_train, y_train)\n",
    "  y_pred = rf.predict(X_test)\n",
    "  rmse = mean_squared_error(y_test, y_pred, squared=False)\n",
    "  \n",
    "  return rmse\n",
    "# Start time\n",
    "start_time = time.time()\n",
    "study = optuna.create_study(direction='minimize')\n",
    "study.optimize(objective, n_trials=100)\n",
    "# End time\n",
    "end_time = time.time()\n",
    "# Calculate total time\n",
    "total_time = end_time - start_time\n",
    "print(\"Total time taken: \", total_time)\n",
    "params = study.best_params\n",
    "rmse = study.best_value\n",
    "print(f\"Best params: {params}\")\n",
    "print(f\"RMSE: {rmse}\")"
   ]
  },
  {
   "cell_type": "code",
   "execution_count": 13,
   "id": "5a8bfdd1",
   "metadata": {},
   "outputs": [
    {
     "name": "stdout",
     "output_type": "stream",
     "text": [
      "train_mes : 0.00006157\n"
     ]
    }
   ],
   "source": [
    "from sklearn.ensemble import RandomForestRegressor\n",
    "params_best['n_estimators'] = int(params_best['n_estimators'])\n",
    "params_best['max_depth'] = int(params_best['max_depth'])\n",
    "params_best['min_samples_leaf'] = int(params_best['min_samples_leaf'])\n",
    "rf_reg = RandomForestRegressor(**best_params)\n",
    "rf_reg.fit(X_train, y_train)\n",
    "print('train_mes : {:.8f}'.format(mean_squared_error(y_train, rf_reg.predict(X_train))))"
   ]
  },
  {
   "cell_type": "code",
   "execution_count": 14,
   "id": "451721af",
   "metadata": {},
   "outputs": [],
   "source": [
    "from math import sqrt\n",
    "from sklearn.metrics import mean_absolute_error\n",
    "from sklearn.metrics import mean_squared_error\n",
    "from sklearn.metrics import r2_score"
   ]
  },
  {
   "cell_type": "code",
   "execution_count": 15,
   "id": "06f609e0",
   "metadata": {},
   "outputs": [],
   "source": [
    "y_pred= rf_reg.predict(X_test)\n",
    "y_pred1=rf_reg.predict(X_val)\n",
    "y_pred2=rf_reg.predict(X_train)"
   ]
  },
  {
   "cell_type": "code",
   "execution_count": 16,
   "id": "5a05355b",
   "metadata": {},
   "outputs": [
    {
     "name": "stdout",
     "output_type": "stream",
     "text": [
      "mean_absolute_error: 0.007863283381807043\n",
      "mean_squared_error: 0.00017019809507668807\n",
      "rmse: 0.01304599919809472\n",
      "r2 score: 0.9965863987677182\n"
     ]
    }
   ],
   "source": [
    "print(\"mean_absolute_error:\", mean_absolute_error(y_val, y_pred1))\n",
    "print(\"mean_squared_error:\", mean_squared_error(y_val, y_pred1))\n",
    "print(\"rmse:\", sqrt(mean_squared_error(y_val, y_pred1)))\n",
    "print(\"r2 score:\", r2_score(y_val, y_pred1))"
   ]
  },
  {
   "cell_type": "code",
   "execution_count": 17,
   "id": "495b3cf6",
   "metadata": {},
   "outputs": [
    {
     "name": "stdout",
     "output_type": "stream",
     "text": [
      "mean_absolute_error: 0.004961470083045726\n",
      "mean_squared_error: 6.157060602233848e-05\n",
      "rmse: 0.007846693954930222\n",
      "r2 score: 0.998741281113162\n"
     ]
    }
   ],
   "source": [
    "print(\"mean_absolute_error:\", mean_absolute_error(y_train, y_pred2))\n",
    "print(\"mean_squared_error:\", mean_squared_error(y_train, y_pred2))\n",
    "print(\"rmse:\", sqrt(mean_squared_error(y_train, y_pred2)))\n",
    "print(\"r2 score:\", r2_score(y_train, y_pred2))"
   ]
  },
  {
   "cell_type": "code",
   "execution_count": 18,
   "id": "f8ba469c",
   "metadata": {},
   "outputs": [
    {
     "name": "stdout",
     "output_type": "stream",
     "text": [
      "mean_absolute_error: 0.0070927944441879\n",
      "mean_squared_error: 0.00013706344887048946\n",
      "rmse: 0.011707409998393729\n",
      "r2 score: 0.9973245818185316\n"
     ]
    }
   ],
   "source": [
    "print(\"mean_absolute_error:\", mean_absolute_error(y_test, y_pred))\n",
    "print(\"mean_squared_error:\", mean_squared_error(y_test, y_pred))\n",
    "print(\"rmse:\", sqrt(mean_squared_error(y_test, y_pred)))\n",
    "print(\"r2 score:\", r2_score(y_test, y_pred))"
   ]
  },
  {
   "cell_type": "code",
   "execution_count": 19,
   "id": "447621d0",
   "metadata": {},
   "outputs": [],
   "source": [
    "from yellowbrick.regressor import PredictionError"
   ]
  },
  {
   "cell_type": "code",
   "execution_count": null,
   "id": "1764b253",
   "metadata": {},
   "outputs": [],
   "source": []
  }
 ],
 "metadata": {
  "kernelspec": {
   "display_name": "Python 3 (ipykernel)",
   "language": "python",
   "name": "python3"
  },
  "language_info": {
   "codemirror_mode": {
    "name": "ipython",
    "version": 3
   },
   "file_extension": ".py",
   "mimetype": "text/x-python",
   "name": "python",
   "nbconvert_exporter": "python",
   "pygments_lexer": "ipython3",
   "version": "3.9.19"
  }
 },
 "nbformat": 4,
 "nbformat_minor": 5
}
